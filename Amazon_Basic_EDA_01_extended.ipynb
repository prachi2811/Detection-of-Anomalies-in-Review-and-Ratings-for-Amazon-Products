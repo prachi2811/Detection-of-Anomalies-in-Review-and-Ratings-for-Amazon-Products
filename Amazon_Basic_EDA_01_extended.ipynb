{
 "cells": [
  {
   "cell_type": "markdown",
   "metadata": {},
   "source": [
    "# Basic EDA"
   ]
  },
  {
   "cell_type": "code",
   "execution_count": 2,
   "metadata": {},
   "outputs": [],
   "source": [
    "import pandas as pd\n",
    "import numpy as np"
   ]
  },
  {
   "cell_type": "code",
   "execution_count": 2,
   "metadata": {},
   "outputs": [],
   "source": [
    "# importing 1/3 dataset. May file\n",
    "df = pd.read_csv('Datafiniti_Amazon_Consumer_Reviews_of_Amazon_Products_May19.csv')"
   ]
  },
  {
   "cell_type": "code",
   "execution_count": 3,
   "metadata": {},
   "outputs": [],
   "source": [
    "# # importing 1/3 dataset. Non-May file\n",
    "df_1 = pd.read_csv('Datafiniti_Amazon_Consumer_Reviews_of_Amazon_Products.csv')"
   ]
  },
  {
   "cell_type": "code",
   "execution_count": 4,
   "metadata": {},
   "outputs": [
    {
     "name": "stderr",
     "output_type": "stream",
     "text": [
      "D:\\Anaconda\\lib\\site-packages\\IPython\\core\\interactiveshell.py:3071: DtypeWarning: Columns (1,10) have mixed types.Specify dtype option on import or set low_memory=False.\n",
      "  has_raised = await self.run_ast_nodes(code_ast.body, cell_name,\n"
     ]
    }
   ],
   "source": [
    "df_2 = pd.read_csv('1429_1.csv')"
   ]
  },
  {
   "cell_type": "markdown",
   "metadata": {},
   "source": [
    "## Checking the columns of 3 datasets"
   ]
  },
  {
   "cell_type": "code",
   "execution_count": 77,
   "metadata": {},
   "outputs": [
    {
     "data": {
      "text/plain": [
       "Index(['id', 'dateAdded', 'dateUpdated', 'name', 'asins', 'brand',\n",
       "       'categories', 'primaryCategories', 'imageURLs', 'keys', 'manufacturer',\n",
       "       'manufacturerNumber', 'reviews.date', 'reviews.dateSeen',\n",
       "       'reviews.didPurchase', 'reviews.doRecommend', 'reviews.id',\n",
       "       'reviews.numHelpful', 'reviews.rating', 'reviews.sourceURLs',\n",
       "       'reviews.text', 'reviews.title', 'reviews.username', 'sourceURLs'],\n",
       "      dtype='object')"
      ]
     },
     "execution_count": 77,
     "metadata": {},
     "output_type": "execute_result"
    }
   ],
   "source": [
    "df.columns"
   ]
  },
  {
   "cell_type": "code",
   "execution_count": 78,
   "metadata": {},
   "outputs": [
    {
     "data": {
      "text/plain": [
       "Index(['id', 'dateAdded', 'dateUpdated', 'name', 'asins', 'brand',\n",
       "       'categories', 'primaryCategories', 'imageURLs', 'keys', 'manufacturer',\n",
       "       'manufacturerNumber', 'reviews.date', 'reviews.dateAdded',\n",
       "       'reviews.dateSeen', 'reviews.doRecommend', 'reviews.id',\n",
       "       'reviews.numHelpful', 'reviews.rating', 'reviews.sourceURLs',\n",
       "       'reviews.text', 'reviews.title', 'reviews.username', 'sourceURLs'],\n",
       "      dtype='object')"
      ]
     },
     "execution_count": 78,
     "metadata": {},
     "output_type": "execute_result"
    }
   ],
   "source": [
    "df_1.columns"
   ]
  },
  {
   "cell_type": "code",
   "execution_count": 79,
   "metadata": {
    "scrolled": true
   },
   "outputs": [
    {
     "data": {
      "text/plain": [
       "Index(['id', 'name', 'asins', 'brand', 'categories', 'keys', 'manufacturer',\n",
       "       'reviews.date', 'reviews.dateAdded', 'reviews.dateSeen',\n",
       "       'reviews.didPurchase', 'reviews.doRecommend', 'reviews.id',\n",
       "       'reviews.numHelpful', 'reviews.rating', 'reviews.sourceURLs',\n",
       "       'reviews.text', 'reviews.title', 'reviews.userCity',\n",
       "       'reviews.userProvince', 'reviews.username'],\n",
       "      dtype='object')"
      ]
     },
     "execution_count": 79,
     "metadata": {},
     "output_type": "execute_result"
    }
   ],
   "source": [
    "df_2.columns"
   ]
  },
  {
   "cell_type": "markdown",
   "metadata": {},
   "source": [
    "## Decide if 1429 file should be considered for the project."
   ]
  },
  {
   "cell_type": "code",
   "execution_count": 80,
   "metadata": {},
   "outputs": [
    {
     "data": {
      "text/plain": [
       "(34660, 21)"
      ]
     },
     "execution_count": 80,
     "metadata": {},
     "output_type": "execute_result"
    }
   ],
   "source": [
    "df_2.shape"
   ]
  },
  {
   "cell_type": "code",
   "execution_count": 81,
   "metadata": {},
   "outputs": [
    {
     "data": {
      "text/plain": [
       "(65, 23, 49)"
      ]
     },
     "execution_count": 81,
     "metadata": {},
     "output_type": "execute_result"
    }
   ],
   "source": [
    "# Number of unique products in each file\n",
    "len(df['name'].unique()), len(df_1['name'].unique()), len(df_2['name'].unique())"
   ]
  },
  {
   "cell_type": "code",
   "execution_count": 82,
   "metadata": {},
   "outputs": [
    {
     "data": {
      "text/plain": [
       "(22, 22)"
      ]
     },
     "execution_count": 82,
     "metadata": {},
     "output_type": "execute_result"
    }
   ],
   "source": [
    "# finding unique products in 1429 file which is not present in may and withoutmay file\n",
    "file1429 = set(df_2['name'].unique())\n",
    "filewithoutmay = set(df_1['name'].unique())\n",
    "filewithmay = set(df['name'].unique())\n",
    "\n",
    "len(filewithoutmay - file1429), len(filemay - file1429)"
   ]
  },
  {
   "cell_type": "code",
   "execution_count": 84,
   "metadata": {
    "scrolled": true
   },
   "outputs": [
    {
     "data": {
      "text/html": [
       "<div>\n",
       "<style scoped>\n",
       "    .dataframe tbody tr th:only-of-type {\n",
       "        vertical-align: middle;\n",
       "    }\n",
       "\n",
       "    .dataframe tbody tr th {\n",
       "        vertical-align: top;\n",
       "    }\n",
       "\n",
       "    .dataframe thead th {\n",
       "        text-align: right;\n",
       "    }\n",
       "</style>\n",
       "<table border=\"1\" class=\"dataframe\">\n",
       "  <thead>\n",
       "    <tr style=\"text-align: right;\">\n",
       "      <th></th>\n",
       "      <th>id</th>\n",
       "      <th>name</th>\n",
       "      <th>asins</th>\n",
       "      <th>brand</th>\n",
       "      <th>categories</th>\n",
       "      <th>keys</th>\n",
       "      <th>manufacturer</th>\n",
       "      <th>reviews.date</th>\n",
       "      <th>reviews.dateAdded</th>\n",
       "      <th>reviews.dateSeen</th>\n",
       "      <th>...</th>\n",
       "      <th>reviews.doRecommend</th>\n",
       "      <th>reviews.id</th>\n",
       "      <th>reviews.numHelpful</th>\n",
       "      <th>reviews.rating</th>\n",
       "      <th>reviews.sourceURLs</th>\n",
       "      <th>reviews.text</th>\n",
       "      <th>reviews.title</th>\n",
       "      <th>reviews.userCity</th>\n",
       "      <th>reviews.userProvince</th>\n",
       "      <th>reviews.username</th>\n",
       "    </tr>\n",
       "  </thead>\n",
       "  <tbody>\n",
       "    <tr>\n",
       "      <th>0</th>\n",
       "      <td>AVqkIhwDv8e3D1O-lebb</td>\n",
       "      <td>All-New Fire HD 8 Tablet, 8 HD Display, Wi-Fi,...</td>\n",
       "      <td>B01AHB9CN2</td>\n",
       "      <td>Amazon</td>\n",
       "      <td>Electronics,iPad &amp; Tablets,All Tablets,Fire Ta...</td>\n",
       "      <td>841667104676,amazon/53004484,amazon/b01ahb9cn2...</td>\n",
       "      <td>Amazon</td>\n",
       "      <td>2017-01-13T00:00:00.000Z</td>\n",
       "      <td>2017-07-03T23:33:15Z</td>\n",
       "      <td>2017-06-07T09:04:00.000Z,2017-04-30T00:45:00.000Z</td>\n",
       "      <td>...</td>\n",
       "      <td>True</td>\n",
       "      <td>NaN</td>\n",
       "      <td>0.0</td>\n",
       "      <td>5.0</td>\n",
       "      <td>http://reviews.bestbuy.com/3545/5620406/review...</td>\n",
       "      <td>This product so far has not disappointed. My c...</td>\n",
       "      <td>Kindle</td>\n",
       "      <td>NaN</td>\n",
       "      <td>NaN</td>\n",
       "      <td>Adapter</td>\n",
       "    </tr>\n",
       "    <tr>\n",
       "      <th>1</th>\n",
       "      <td>AVqkIhwDv8e3D1O-lebb</td>\n",
       "      <td>All-New Fire HD 8 Tablet, 8 HD Display, Wi-Fi,...</td>\n",
       "      <td>B01AHB9CN2</td>\n",
       "      <td>Amazon</td>\n",
       "      <td>Electronics,iPad &amp; Tablets,All Tablets,Fire Ta...</td>\n",
       "      <td>841667104676,amazon/53004484,amazon/b01ahb9cn2...</td>\n",
       "      <td>Amazon</td>\n",
       "      <td>2017-01-13T00:00:00.000Z</td>\n",
       "      <td>2017-07-03T23:33:15Z</td>\n",
       "      <td>2017-06-07T09:04:00.000Z,2017-04-30T00:45:00.000Z</td>\n",
       "      <td>...</td>\n",
       "      <td>True</td>\n",
       "      <td>NaN</td>\n",
       "      <td>0.0</td>\n",
       "      <td>5.0</td>\n",
       "      <td>http://reviews.bestbuy.com/3545/5620406/review...</td>\n",
       "      <td>great for beginner or experienced person. Boug...</td>\n",
       "      <td>very fast</td>\n",
       "      <td>NaN</td>\n",
       "      <td>NaN</td>\n",
       "      <td>truman</td>\n",
       "    </tr>\n",
       "  </tbody>\n",
       "</table>\n",
       "<p>2 rows × 21 columns</p>\n",
       "</div>"
      ],
      "text/plain": [
       "                     id                                               name  \\\n",
       "0  AVqkIhwDv8e3D1O-lebb  All-New Fire HD 8 Tablet, 8 HD Display, Wi-Fi,...   \n",
       "1  AVqkIhwDv8e3D1O-lebb  All-New Fire HD 8 Tablet, 8 HD Display, Wi-Fi,...   \n",
       "\n",
       "        asins   brand                                         categories  \\\n",
       "0  B01AHB9CN2  Amazon  Electronics,iPad & Tablets,All Tablets,Fire Ta...   \n",
       "1  B01AHB9CN2  Amazon  Electronics,iPad & Tablets,All Tablets,Fire Ta...   \n",
       "\n",
       "                                                keys manufacturer  \\\n",
       "0  841667104676,amazon/53004484,amazon/b01ahb9cn2...       Amazon   \n",
       "1  841667104676,amazon/53004484,amazon/b01ahb9cn2...       Amazon   \n",
       "\n",
       "               reviews.date     reviews.dateAdded  \\\n",
       "0  2017-01-13T00:00:00.000Z  2017-07-03T23:33:15Z   \n",
       "1  2017-01-13T00:00:00.000Z  2017-07-03T23:33:15Z   \n",
       "\n",
       "                                    reviews.dateSeen  ... reviews.doRecommend  \\\n",
       "0  2017-06-07T09:04:00.000Z,2017-04-30T00:45:00.000Z  ...                True   \n",
       "1  2017-06-07T09:04:00.000Z,2017-04-30T00:45:00.000Z  ...                True   \n",
       "\n",
       "  reviews.id  reviews.numHelpful  reviews.rating  \\\n",
       "0        NaN                 0.0             5.0   \n",
       "1        NaN                 0.0             5.0   \n",
       "\n",
       "                                  reviews.sourceURLs  \\\n",
       "0  http://reviews.bestbuy.com/3545/5620406/review...   \n",
       "1  http://reviews.bestbuy.com/3545/5620406/review...   \n",
       "\n",
       "                                        reviews.text reviews.title  \\\n",
       "0  This product so far has not disappointed. My c...        Kindle   \n",
       "1  great for beginner or experienced person. Boug...     very fast   \n",
       "\n",
       "  reviews.userCity  reviews.userProvince  reviews.username  \n",
       "0              NaN                   NaN           Adapter  \n",
       "1              NaN                   NaN            truman  \n",
       "\n",
       "[2 rows x 21 columns]"
      ]
     },
     "execution_count": 84,
     "metadata": {},
     "output_type": "execute_result"
    }
   ],
   "source": [
    "df_2.head(2)"
   ]
  },
  {
   "cell_type": "code",
   "execution_count": 85,
   "metadata": {},
   "outputs": [
    {
     "data": {
      "text/plain": [
       "{'All-New Fire HD 8 Tablet, 8 HD Display, Wi-Fi, 16 GB - Includes Special Offers, Blue',\n",
       " 'All-New Fire HD 8 Tablet, 8 HD Display, Wi-Fi, 32 GB - Includes Special Offers, Blue',\n",
       " 'All-New Fire HD 8 Tablet, 8\" HD Display, Wi-Fi, 16 GB - Includes Special Offers, Magenta',\n",
       " 'All-New Fire HD 8 Tablet, 8\" HD Display, Wi-Fi, 32 GB - Includes Special Offers, Black',\n",
       " 'All-New Fire HD 8 Tablet, 8\" HD Display, Wi-Fi, 32 GB - Includes Special Offers, Magenta',\n",
       " 'Amazon - Echo Plus w/ Built-In Hub - Silver',\n",
       " 'Amazon - Kindle Voyage - 4GB - Wi-Fi + 3G - Black',\n",
       " 'Amazon - Kindle Voyage - 6\" - 4GB - Black',\n",
       " 'Amazon 9W PowerFast Official OEM USB Charger and Power Adapter for Fire Tablets and Kindle eReaders',\n",
       " 'Amazon Echo Show Alexa-enabled Bluetooth Speaker with 7\" Screen',\n",
       " 'Amazon Fire TV with 4K Ultra HD and Alexa Voice Remote (Pendant Design) | Streaming Media Player',\n",
       " 'Amazon Kindle E-Reader 6\" Wifi (8th Generation, 2016)',\n",
       " 'Amazon Tap - Alexa-Enabled Portable Bluetooth Speaker',\n",
       " 'Brand New Amazon Kindle Fire 16gb 7\" Ips Display Tablet Wifi 16 Gb Blue',\n",
       " 'Fire HD 10 Tablet, 10.1 HD Display, Wi-Fi, 16 GB - Includes Special Offers, Silver Aluminum',\n",
       " 'Fire HD 8 Tablet with Alexa, 8\" HD Display, 32 GB, Tangerine - with Special Offers',\n",
       " 'Fire Kids Edition Tablet, 7 Display, Wi-Fi, 16 GB, Blue Kid-Proof Case',\n",
       " 'Fire Tablet with Alexa, 7\" Display, 16 GB, Magenta - with Special Offers',\n",
       " 'Fire Tablet, 7 Display, Wi-Fi, 16 GB - Includes Special Offers, Black',\n",
       " 'Kindle E-reader - White, 6 Glare-Free Touchscreen Display, Wi-Fi - Includes Special Offers',\n",
       " 'Kindle Oasis E-reader with Leather Charging Cover - Black, 6\" High-Resolution Display (300 ppi), Wi-Fi - Includes Special Offers',\n",
       " 'Kindle Oasis E-reader with Leather Charging Cover - Merlot, 6 High-Resolution Display (300 ppi), Wi-Fi - Includes Special Offers'}"
      ]
     },
     "execution_count": 85,
     "metadata": {},
     "output_type": "execute_result"
    }
   ],
   "source": [
    "# The 22 products from 1429 file that isn't there on may file.\n",
    "filemay - file1429"
   ]
  },
  {
   "cell_type": "code",
   "execution_count": 86,
   "metadata": {},
   "outputs": [
    {
     "data": {
      "text/plain": [
       "array(['Electronics,iPad & Tablets,All Tablets,Fire Tablets,Tablets,Computers & Tablets',\n",
       "       'eBook Readers,Kindle E-readers,Computers & Tablets,E-Readers & Accessories,E-Readers',\n",
       "       'Electronics,eBook Readers & Accessories,Covers,Kindle Store,Amazon Device Accessories,Kindle E-Reader Accessories,Kindle (5th Generation) Accessories,Kindle (5th Generation) Covers',\n",
       "       'Kindle Store,Amazon Devices,Electronics',\n",
       "       'Tablets,Fire Tablets,Electronics,Computers,Computer Components,Hard Drives & Storage,Computers & Tablets,All Tablets',\n",
       "       'Tablets,Fire Tablets,Computers & Tablets,All Tablets',\n",
       "       'Amazon Devices & Accessories,Amazon Device Accessories,Power Adapters & Cables,Kindle Store,Kindle E-Reader Accessories,Kindle Paperwhite Accessories',\n",
       "       'Electronics,iPad & Tablets,All Tablets,Computers/Tablets & Networking,Tablets & eBook Readers,Computers & Tablets,E-Readers & Accessories,E-Readers,Used:Computers Accessories,Used:Tablets,Computers,iPads Tablets,Kindle E-readers,Electronics Features',\n",
       "       'Computers/Tablets & Networking,Tablets & eBook Readers,Electronics,eBook Readers & Accessories,eBook Readers',\n",
       "       'Fire Tablets,Tablets,Computers & Tablets,All Tablets,Electronics, Tech Toys, Movies, Music,Electronics,iPad & Tablets,Android Tablets,Frys',\n",
       "       'Kindle E-readers,Electronics Features,Computers & Tablets,E-Readers & Accessories,E-Readers,eBook Readers',\n",
       "       'Computers & Tablets,E-Readers & Accessories,eBook Readers,Kindle E-readers',\n",
       "       'Fire Tablets,Tablets,Computers & Tablets,All Tablets',\n",
       "       'Frys,Software & Books,eReaders & Accessories,Tablet Cases Covers,Tablet Accessories,Computer Accessories',\n",
       "       'Electronics,Categories,Streaming Media Players,Amazon Devices',\n",
       "       'Computers/Tablets & Networking,Tablets & eBook Readers,Computers & Tablets,Tablets,All Tablets',\n",
       "       'Amazon Device Accessories,Kindle Store,Kindle Touch (4th Generation) Accessories,Kindle E-Reader Accessories,Covers,Kindle Touch (4th Generation) Covers',\n",
       "       'Walmart for Business,Office Electronics,Tablets,Office,Electronics,iPad & Tablets,Windows Tablets,All Windows Tablets,Computers & Tablets,E-Readers & Accessories,E-Readers,eBook Readers,Kindle E-readers,Computers/Tablets & Networking,Tablets & eBook Readers,Electronics Features,Books & Magazines,Book Accessories,eReaders,TVs & Electronics,Computers & Laptops,Tablets & eReaders',\n",
       "       'Walmart for Business,Office Electronics,Tablets,Electronics,iPad & Tablets,All Tablets,Computers & Tablets,E-Readers & Accessories,Kindle E-readers,Electronics Features,eBook Readers,See more Amazon Kindle Voyage (Wi-Fi),See more Amazon Kindle Voyage 4GB, Wi-Fi  3G (Unlocked...',\n",
       "       'Electronics,Categories,Fire TV,Kindle Store',\n",
       "       'mazon.co.uk,Amazon Devices',\n",
       "       \"Electronics,Computers,Computer Accessories,Cases & Bags,Fire Tablets,Electronics Features,Tablets,Computers & Tablets,Kids' Tablets,Electronics, Tech Toys, Movies, Music,iPad & Tablets,Top Rated\",\n",
       "       'Electronics,iPad & Tablets,All Tablets,Computers & Tablets,Tablets,eBook Readers',\n",
       "       'Kindle Store,Categories,eBook Readers & Accessories,Fire TV Accessories,Electronics,Power Adapters & Cables,Amazon Device Accessories,Power Adapters',\n",
       "       'Fire Tablets,Tablets,Computers & Tablets,All Tablets,Computers/Tablets & Networking,Tablets & eBook Readers',\n",
       "       'Categories,Streaming Media Players,Electronics',\n",
       "       'Computers & Tablets,Tablets,All Tablets,Computers/Tablets & Networking,Tablets & eBook Readers,Fire Tablets,Frys',\n",
       "       'Electronics Features,Fire Tablets,Computers & Tablets,Tablets,All Tablets,Computers/Tablets & Networking,Tablets & eBook Readers',\n",
       "       'Stereos,Remote Controls,Amazon Echo,Audio Docks & Mini Speakers,Amazon Echo Accessories,Kitchen & Dining Features,Speaker Systems,Electronics,TVs Entertainment,Clearance,Smart Hubs & Wireless Routers,Featured Brands,Wireless Speakers,Smart Home & Connected Living,Home Security,Kindle Store,Home Automation,Home, Garage & Office,Home,Voice-Enabled Smart Assistants,Virtual Assistant Speakers,Portable Audio & Headphones,Electronics Features,Amazon Device Accessories,iPod, Audio Player Accessories,Home & Furniture Clearance,Consumer Electronics,Smart Home,Surveillance,Home Improvement,Smart Home & Home Automation Devices,Smart Hubs,Home Safety & Security,Voice Assistants,Alarms & Sensors,Amazon Devices,Audio,Holiday Shop',\n",
       "       'Fire Tablets,Tablets,Computers & Tablets,All Tablets,Frys',\n",
       "       'TVs Entertainment,Wireless Speakers,Virtual Assistant Speakers,Featured Brands,Electronics,Amazon Devices,Home,Home Improvement,Home Safety & Security,Home Security,Alarms & Sensors,Smart Home & Home Automation Devices,Smart Hubs & Wireless Routers,Smart Hubs,Consumer Electronics,Voice-Enabled Smart Assistants,Smart Home & Connected Living,Home, Garage & Office,Smart Home,Voice Assistants,Surveillance,Home Automation,Speakers,Electronics Features,Holiday Shop,TV, Video & Home Audio,Internet & Media Streamers,Amazon Echo,Hubs & Controllers',\n",
       "       'Chargers & Adapters,Computers & Accessories,Tablet & E-Reader Accessories,Amazon Devices & Accessories,Fire Tablet Accessories,Electronics,Power Adapters & Cables,Cell Phones,Amazon Device Accessories,Cell Phone Accessories,Cell Phone Batteries & Power,Tablet Accessories,Featured Brands,Kindle Fire (2nd Generation) Accessories,Kindle Store,Home Improvement,Fire (5th Generation) Accessories,Electrical,Amazon Devices,Home,Tablets & E-Readers,Cables & Chargers',\n",
       "       'Cases,Kindle Store,Amazon Device Accessories,Accessories,Tablet Accessories',\n",
       "       'Electronics,eBook Readers & Accessories,Power Adapters,Computers/Tablets & Networking,Tablet & eBook Reader Accs,Chargers & Sync Cables,Power Adapters & Cables,Kindle Store,Amazon Device Accessories,Kindle Fire (2nd Generation) Accessories,Fire Tablet Accessories',\n",
       "       'Electronics,Tablets & E-Readers,Tablets,Back To College,College Electronics,College Ipads & Tablets,Featured Brands,Amazon Devices,Electronics Deals,Computers & Tablets,All Tablets,Electronics Features,eBook Readers',\n",
       "       'Featured Brands,Electronics,Amazon Devices,Home,Home Improvement,Home Safety & Security,Home Security,Alarms & Sensors,Smart Home & Home Automation Devices,Mobile,Mobile Speakers,Mobile Bluetooth Speakers,Smart Hubs & Wireless Routers,Smart Hubs,Home, Garage & Office,Smart Home,Voice Assistants,Smart Home & Connected Living,Amazon Tap,Portable Audio,MP3 Accessories,Speakers,Amazon Echo,Electronics Features,TVs & Electronics,Portable Audio & Electronics,MP3 Player Accessories,Home Theater & Audio,Kindle Store,Frys,Electronic Components,Home Automation,Electronics, Tech Toys, Movies, Music,Audio,Bluetooth Speakers',\n",
       "       'Rice Dishes,Ready Meals,Beauty,Moisturizers,Lotions',\n",
       "       'Back To College,College Electronics,College Tvs & Home Theater,Electronics,Tvs & Home Theater,Streaming Devices,Featured Brands,Amazon Devices,Holiday Shop,Ways To Shop,TV & Home Theater,Streaming Media Players,All Streaming Media Players,TVs Entertainment,Video Games,Kindle Store,Electronics Features,Kids & Family,Fire TV',\n",
       "       'Electronics,Amazon Device Accessories,Kindle Store,Covers,Kindle E-Reader Accessories,Kindle DX (2nd Generation, Global Wireless) Accessories',\n",
       "       'Power Adapters & Cables,Electronics,USB Cables',\n",
       "       'Computers/Tablets & Networking,Tablet & eBook Reader Accs,Chargers & Sync Cables,Power Adapters & Cables,Kindle Store,Amazon Device Accessories,Fire Tablet Accessories,Kindle Fire (2nd Generation) Accessories'],\n",
       "      dtype=object)"
      ]
     },
     "execution_count": 86,
     "metadata": {},
     "output_type": "execute_result"
    }
   ],
   "source": [
    "df_2['categories'].unique()"
   ]
  },
  {
   "cell_type": "code",
   "execution_count": 87,
   "metadata": {},
   "outputs": [],
   "source": [
    "# We can still use this file"
   ]
  },
  {
   "cell_type": "raw",
   "metadata": {},
   "source": [
    "Comparing the columns of 3 datasets, df_2 (1429_1.csv) had three missing columns of which primaryCategories column was important for our analysis. Thus, we are not considering that dataframe."
   ]
  },
  {
   "cell_type": "markdown",
   "metadata": {},
   "source": [
    "## Finding out the missing columns in the two dataset"
   ]
  },
  {
   "cell_type": "code",
   "execution_count": 88,
   "metadata": {},
   "outputs": [],
   "source": [
    "withoutmay = set(df_1.columns)  \n",
    "may = set(df.columns)"
   ]
  },
  {
   "cell_type": "code",
   "execution_count": 89,
   "metadata": {
    "scrolled": true
   },
   "outputs": [
    {
     "data": {
      "text/plain": [
       "((28332, 24), (5000, 24), (34660, 21))"
      ]
     },
     "execution_count": 89,
     "metadata": {},
     "output_type": "execute_result"
    }
   ],
   "source": [
    "df.shape, df_1.shape, df_2.shape"
   ]
  },
  {
   "cell_type": "code",
   "execution_count": 90,
   "metadata": {},
   "outputs": [
    {
     "data": {
      "text/plain": [
       "{'reviews.dateAdded'}"
      ]
     },
     "execution_count": 90,
     "metadata": {},
     "output_type": "execute_result"
    }
   ],
   "source": [
    "withoutmay - may   # (df - df_1)"
   ]
  },
  {
   "cell_type": "code",
   "execution_count": 91,
   "metadata": {},
   "outputs": [
    {
     "data": {
      "text/plain": [
       "{'reviews.didPurchase'}"
      ]
     },
     "execution_count": 91,
     "metadata": {},
     "output_type": "execute_result"
    }
   ],
   "source": [
    "may - withoutmay"
   ]
  },
  {
   "cell_type": "raw",
   "metadata": {},
   "source": [
    "Removing the columns that are not present in both the the datasets (may & not may). "
   ]
  },
  {
   "cell_type": "code",
   "execution_count": 92,
   "metadata": {},
   "outputs": [],
   "source": [
    "df_1 = df_1.drop('reviews.dateAdded',axis=1)"
   ]
  },
  {
   "cell_type": "code",
   "execution_count": 93,
   "metadata": {},
   "outputs": [],
   "source": [
    "df = df.drop('reviews.didPurchase', axis=1)"
   ]
  },
  {
   "cell_type": "code",
   "execution_count": 94,
   "metadata": {},
   "outputs": [],
   "source": [
    "may = set(df_1.columns)  \n",
    "withoutmay = set(df.columns)"
   ]
  },
  {
   "cell_type": "raw",
   "metadata": {},
   "source": [
    "# Checking for missing columns"
   ]
  },
  {
   "cell_type": "code",
   "execution_count": 95,
   "metadata": {},
   "outputs": [
    {
     "data": {
      "text/plain": [
       "set()"
      ]
     },
     "execution_count": 95,
     "metadata": {},
     "output_type": "execute_result"
    }
   ],
   "source": [
    "withoutmay - may    # (df - df_1) # checked both"
   ]
  },
  {
   "cell_type": "markdown",
   "metadata": {},
   "source": [
    "## Columns sorting"
   ]
  },
  {
   "cell_type": "code",
   "execution_count": 151,
   "metadata": {},
   "outputs": [],
   "source": [
    "df_1 = df_1.reindex(sorted(df_1.columns), axis=1)"
   ]
  },
  {
   "cell_type": "code",
   "execution_count": 152,
   "metadata": {},
   "outputs": [],
   "source": [
    "df = df.reindex(sorted(df.columns), axis=1)"
   ]
  },
  {
   "cell_type": "code",
   "execution_count": 98,
   "metadata": {},
   "outputs": [
    {
     "data": {
      "text/plain": [
       "Index(['asins', 'brand', 'categories', 'dateAdded', 'dateUpdated', 'id',\n",
       "       'imageURLs', 'keys', 'manufacturer', 'manufacturerNumber', 'name',\n",
       "       'primaryCategories', 'reviews.date', 'reviews.dateSeen',\n",
       "       'reviews.doRecommend', 'reviews.id', 'reviews.numHelpful',\n",
       "       'reviews.rating', 'reviews.sourceURLs', 'reviews.text', 'reviews.title',\n",
       "       'reviews.username', 'sourceURLs'],\n",
       "      dtype='object')"
      ]
     },
     "execution_count": 98,
     "metadata": {},
     "output_type": "execute_result"
    }
   ],
   "source": [
    "df_1.columns"
   ]
  },
  {
   "cell_type": "code",
   "execution_count": 99,
   "metadata": {},
   "outputs": [
    {
     "data": {
      "text/plain": [
       "Index(['asins', 'brand', 'categories', 'dateAdded', 'dateUpdated', 'id',\n",
       "       'imageURLs', 'keys', 'manufacturer', 'manufacturerNumber', 'name',\n",
       "       'primaryCategories', 'reviews.date', 'reviews.dateSeen',\n",
       "       'reviews.doRecommend', 'reviews.id', 'reviews.numHelpful',\n",
       "       'reviews.rating', 'reviews.sourceURLs', 'reviews.text', 'reviews.title',\n",
       "       'reviews.username', 'sourceURLs'],\n",
       "      dtype='object')"
      ]
     },
     "execution_count": 99,
     "metadata": {},
     "output_type": "execute_result"
    }
   ],
   "source": [
    "df.columns"
   ]
  },
  {
   "cell_type": "code",
   "execution_count": 100,
   "metadata": {},
   "outputs": [
    {
     "data": {
      "text/plain": [
       "((5000, 23), (28332, 23))"
      ]
     },
     "execution_count": 100,
     "metadata": {},
     "output_type": "execute_result"
    }
   ],
   "source": [
    "df_1.shape,df.shape"
   ]
  },
  {
   "cell_type": "markdown",
   "metadata": {},
   "source": [
    "## Concatenating "
   ]
  },
  {
   "cell_type": "code",
   "execution_count": 153,
   "metadata": {},
   "outputs": [],
   "source": [
    "df_concat = pd.concat([df,df_1],axis=0)"
   ]
  },
  {
   "cell_type": "code",
   "execution_count": 154,
   "metadata": {},
   "outputs": [
    {
     "name": "stdout",
     "output_type": "stream",
     "text": [
      "<class 'pandas.core.frame.DataFrame'>\n",
      "Int64Index: 33332 entries, 0 to 4999\n",
      "Data columns (total 25 columns):\n",
      " #   Column               Non-Null Count  Dtype  \n",
      "---  ------               --------------  -----  \n",
      " 0   asins                33332 non-null  object \n",
      " 1   brand                33332 non-null  object \n",
      " 2   categories           33332 non-null  object \n",
      " 3   dateAdded            33332 non-null  object \n",
      " 4   dateUpdated          33332 non-null  object \n",
      " 5   id                   33332 non-null  object \n",
      " 6   imageURLs            33332 non-null  object \n",
      " 7   keys                 33332 non-null  object \n",
      " 8   manufacturer         33332 non-null  object \n",
      " 9   manufacturerNumber   33332 non-null  object \n",
      " 10  name                 33332 non-null  object \n",
      " 11  primaryCategories    33332 non-null  object \n",
      " 12  reviews.date         33332 non-null  object \n",
      " 13  reviews.dateSeen     33332 non-null  object \n",
      " 14  reviews.didPurchase  9 non-null      object \n",
      " 15  reviews.doRecommend  21086 non-null  object \n",
      " 16  reviews.id           70 non-null     float64\n",
      " 17  reviews.numHelpful   21115 non-null  float64\n",
      " 18  reviews.rating       33332 non-null  int64  \n",
      " 19  reviews.sourceURLs   33332 non-null  object \n",
      " 20  reviews.text         33332 non-null  object \n",
      " 21  reviews.title        33319 non-null  object \n",
      " 22  reviews.username     33332 non-null  object \n",
      " 23  sourceURLs           33332 non-null  object \n",
      " 24  reviews.dateAdded    1052 non-null   object \n",
      "dtypes: float64(2), int64(1), object(22)\n",
      "memory usage: 6.6+ MB\n"
     ]
    }
   ],
   "source": [
    "df_concat.info()"
   ]
  },
  {
   "cell_type": "markdown",
   "metadata": {},
   "source": [
    "### Dropping unwanted columns"
   ]
  },
  {
   "cell_type": "code",
   "execution_count": 155,
   "metadata": {},
   "outputs": [
    {
     "data": {
      "text/plain": [
       "Index(['asins', 'brand', 'categories', 'dateAdded', 'dateUpdated', 'id',\n",
       "       'imageURLs', 'keys', 'manufacturer', 'manufacturerNumber', 'name',\n",
       "       'primaryCategories', 'reviews.date', 'reviews.dateSeen',\n",
       "       'reviews.didPurchase', 'reviews.doRecommend', 'reviews.id',\n",
       "       'reviews.numHelpful', 'reviews.rating', 'reviews.sourceURLs',\n",
       "       'reviews.text', 'reviews.title', 'reviews.username', 'sourceURLs',\n",
       "       'reviews.dateAdded'],\n",
       "      dtype='object')"
      ]
     },
     "execution_count": 155,
     "metadata": {},
     "output_type": "execute_result"
    }
   ],
   "source": [
    "df_concat.columns"
   ]
  },
  {
   "cell_type": "code",
   "execution_count": 104,
   "metadata": {},
   "outputs": [],
   "source": [
    "# Dropping unwanted columns\n",
    "df_new = df_concat.drop(labels=(['id','asins','brand','imageURLs','keys','manufacturerNumber','reviews.sourceURLs','sourceURLs','reviews.id','reviews.dateSeen','manufacturer']), axis=1)"
   ]
  },
  {
   "cell_type": "code",
   "execution_count": 105,
   "metadata": {},
   "outputs": [
    {
     "data": {
      "text/plain": [
       "(33332, 12)"
      ]
     },
     "execution_count": 105,
     "metadata": {},
     "output_type": "execute_result"
    }
   ],
   "source": [
    "df_new.shape"
   ]
  },
  {
   "cell_type": "code",
   "execution_count": 106,
   "metadata": {},
   "outputs": [
    {
     "data": {
      "text/plain": [
       "Index(['categories', 'dateAdded', 'dateUpdated', 'name', 'primaryCategories',\n",
       "       'reviews.date', 'reviews.doRecommend', 'reviews.numHelpful',\n",
       "       'reviews.rating', 'reviews.text', 'reviews.title', 'reviews.username'],\n",
       "      dtype='object')"
      ]
     },
     "execution_count": 106,
     "metadata": {},
     "output_type": "execute_result"
    }
   ],
   "source": [
    "df_new.columns"
   ]
  },
  {
   "cell_type": "code",
   "execution_count": 107,
   "metadata": {},
   "outputs": [],
   "source": [
    "# checking the missing value percentages"
   ]
  },
  {
   "cell_type": "code",
   "execution_count": null,
   "metadata": {},
   "outputs": [],
   "source": []
  },
  {
   "cell_type": "code",
   "execution_count": 108,
   "metadata": {
    "scrolled": true
   },
   "outputs": [
    {
     "data": {
      "text/plain": [
       "categories              0.000000\n",
       "dateAdded               0.000000\n",
       "dateUpdated             0.000000\n",
       "name                    0.000000\n",
       "primaryCategories       0.000000\n",
       "reviews.date            0.000000\n",
       "reviews.doRecommend    36.739470\n",
       "reviews.numHelpful     36.652466\n",
       "reviews.rating          0.000000\n",
       "reviews.text            0.000000\n",
       "reviews.title           0.039002\n",
       "reviews.username        0.000000\n",
       "dtype: float64"
      ]
     },
     "execution_count": 108,
     "metadata": {},
     "output_type": "execute_result"
    }
   ],
   "source": [
    "(df_new.isnull().sum()/len(df_new))*100"
   ]
  },
  {
   "cell_type": "raw",
   "metadata": {},
   "source": [
    "create a confusion matrix to analyse the TP & TN, before and after test\n",
    "- create a classification model for doRecommend prediction, use title and 'text' to fill doRecommend\n",
    "- 1st try: use a stacked bar plot b/w rating and dorecommend colmn (rating, count=dorecommend), \n",
    "-- 2nd try: text analysis on text and build a model"
   ]
  },
  {
   "cell_type": "raw",
   "metadata": {},
   "source": [
    "# Columns: doRecommend & numHelpful can be dropped if they aren't important. \n",
    "## Need to take a call on this!\n",
    "\n",
    "# DoRecommend column missing values can be filled using the review column."
   ]
  },
  {
   "cell_type": "markdown",
   "metadata": {},
   "source": [
    "### Basic analysis from the features"
   ]
  },
  {
   "cell_type": "code",
   "execution_count": 109,
   "metadata": {},
   "outputs": [
    {
     "name": "stdout",
     "output_type": "stream",
     "text": [
      "<class 'pandas.core.frame.DataFrame'>\n",
      "Int64Index: 33332 entries, 0 to 4999\n",
      "Data columns (total 12 columns):\n",
      " #   Column               Non-Null Count  Dtype  \n",
      "---  ------               --------------  -----  \n",
      " 0   categories           33332 non-null  object \n",
      " 1   dateAdded            33332 non-null  object \n",
      " 2   dateUpdated          33332 non-null  object \n",
      " 3   name                 33332 non-null  object \n",
      " 4   primaryCategories    33332 non-null  object \n",
      " 5   reviews.date         33332 non-null  object \n",
      " 6   reviews.doRecommend  21086 non-null  object \n",
      " 7   reviews.numHelpful   21115 non-null  float64\n",
      " 8   reviews.rating       33332 non-null  int64  \n",
      " 9   reviews.text         33332 non-null  object \n",
      " 10  reviews.title        33319 non-null  object \n",
      " 11  reviews.username     33332 non-null  object \n",
      "dtypes: float64(1), int64(1), object(10)\n",
      "memory usage: 3.3+ MB\n"
     ]
    }
   ],
   "source": [
    "df_new.info()"
   ]
  },
  {
   "cell_type": "code",
   "execution_count": 110,
   "metadata": {},
   "outputs": [
    {
     "data": {
      "text/plain": [
       "(ByAmazon Customer    889\n",
       " Mike                  89\n",
       " Dave                  57\n",
       " Chris                 52\n",
       " ByKindle Customer     45\n",
       "                     ... \n",
       " rmitchell              2\n",
       " debbie                 2\n",
       " KellyC                 2\n",
       " ByAnthony Caprara      2\n",
       " Anyoung                2\n",
       " Name: reviews.username, Length: 7229, dtype: int64,\n",
       " 17429)"
      ]
     },
     "execution_count": 110,
     "metadata": {},
     "output_type": "execute_result"
    }
   ],
   "source": [
    "# Getting the customers who have given more than 1 reviews (might have bought more than 1 product)\n",
    "b = df_concat['reviews.username'].value_counts()\n",
    "b[b>1], b.count()"
   ]
  },
  {
   "cell_type": "code",
   "execution_count": 111,
   "metadata": {},
   "outputs": [
    {
     "data": {
      "text/plain": [
       "76"
      ]
     },
     "execution_count": 111,
     "metadata": {},
     "output_type": "execute_result"
    }
   ],
   "source": [
    "len(list(df_new['categories'].unique()))"
   ]
  },
  {
   "cell_type": "code",
   "execution_count": 112,
   "metadata": {},
   "outputs": [
    {
     "data": {
      "text/plain": [
       "10"
      ]
     },
     "execution_count": 112,
     "metadata": {},
     "output_type": "execute_result"
    }
   ],
   "source": [
    "len(list(df_new['primaryCategories'].unique()))"
   ]
  },
  {
   "cell_type": "code",
   "execution_count": 113,
   "metadata": {},
   "outputs": [],
   "source": [
    "df_new.to_csv('Amazon_Basic_EDA_01.csv')"
   ]
  },
  {
   "cell_type": "code",
   "execution_count": 115,
   "metadata": {},
   "outputs": [
    {
     "data": {
      "text/plain": [
       "79"
      ]
     },
     "execution_count": 115,
     "metadata": {},
     "output_type": "execute_result"
    }
   ],
   "source": [
    "len(df.name.unique())"
   ]
  },
  {
   "cell_type": "code",
   "execution_count": 116,
   "metadata": {},
   "outputs": [
    {
     "data": {
      "text/plain": [
       "10"
      ]
     },
     "execution_count": 116,
     "metadata": {},
     "output_type": "execute_result"
    }
   ],
   "source": [
    "len(df.primaryCategories.unique())"
   ]
  },
  {
   "cell_type": "code",
   "execution_count": 118,
   "metadata": {
    "collapsed": true
   },
   "outputs": [
    {
     "ename": "ValueError",
     "evalue": "need at least one array to concatenate",
     "output_type": "error",
     "traceback": [
      "\u001b[1;31m---------------------------------------------------------------------------\u001b[0m",
      "\u001b[1;31mValueError\u001b[0m                                Traceback (most recent call last)",
      "\u001b[1;32m<ipython-input-118-c37fe1baec31>\u001b[0m in \u001b[0;36m<module>\u001b[1;34m\u001b[0m\n\u001b[1;32m----> 1\u001b[1;33m \u001b[0mplt\u001b[0m\u001b[1;33m.\u001b[0m\u001b[0mstackplot\u001b[0m\u001b[1;33m(\u001b[0m\u001b[0mdf\u001b[0m\u001b[1;33m[\u001b[0m\u001b[1;34m'reviews.rating'\u001b[0m\u001b[1;33m]\u001b[0m\u001b[1;33m,\u001b[0m \u001b[0mcount\u001b[0m\u001b[1;33m=\u001b[0m\u001b[0mdf\u001b[0m\u001b[1;33m[\u001b[0m\u001b[1;34m'reviews.doRecommend'\u001b[0m\u001b[1;33m]\u001b[0m\u001b[1;33m)\u001b[0m\u001b[1;33m\u001b[0m\u001b[1;33m\u001b[0m\u001b[0m\n\u001b[0m",
      "\u001b[1;32mD:\\Anaconda\\lib\\site-packages\\matplotlib\\pyplot.py\u001b[0m in \u001b[0;36mstackplot\u001b[1;34m(x, labels, colors, baseline, data, *args, **kwargs)\u001b[0m\n\u001b[0;32m   2944\u001b[0m         \u001b[0mx\u001b[0m\u001b[1;33m,\u001b[0m \u001b[1;33m*\u001b[0m\u001b[0margs\u001b[0m\u001b[1;33m,\u001b[0m \u001b[0mlabels\u001b[0m\u001b[1;33m=\u001b[0m\u001b[1;33m(\u001b[0m\u001b[1;33m)\u001b[0m\u001b[1;33m,\u001b[0m \u001b[0mcolors\u001b[0m\u001b[1;33m=\u001b[0m\u001b[1;32mNone\u001b[0m\u001b[1;33m,\u001b[0m \u001b[0mbaseline\u001b[0m\u001b[1;33m=\u001b[0m\u001b[1;34m'zero'\u001b[0m\u001b[1;33m,\u001b[0m \u001b[0mdata\u001b[0m\u001b[1;33m=\u001b[0m\u001b[1;32mNone\u001b[0m\u001b[1;33m,\u001b[0m\u001b[1;33m\u001b[0m\u001b[1;33m\u001b[0m\u001b[0m\n\u001b[0;32m   2945\u001b[0m         **kwargs):\n\u001b[1;32m-> 2946\u001b[1;33m     return gca().stackplot(\n\u001b[0m\u001b[0;32m   2947\u001b[0m         \u001b[0mx\u001b[0m\u001b[1;33m,\u001b[0m \u001b[1;33m*\u001b[0m\u001b[0margs\u001b[0m\u001b[1;33m,\u001b[0m \u001b[0mlabels\u001b[0m\u001b[1;33m=\u001b[0m\u001b[0mlabels\u001b[0m\u001b[1;33m,\u001b[0m \u001b[0mcolors\u001b[0m\u001b[1;33m=\u001b[0m\u001b[0mcolors\u001b[0m\u001b[1;33m,\u001b[0m \u001b[0mbaseline\u001b[0m\u001b[1;33m=\u001b[0m\u001b[0mbaseline\u001b[0m\u001b[1;33m,\u001b[0m\u001b[1;33m\u001b[0m\u001b[1;33m\u001b[0m\u001b[0m\n\u001b[0;32m   2948\u001b[0m         **({\"data\": data} if data is not None else {}), **kwargs)\n",
      "\u001b[1;32mD:\\Anaconda\\lib\\site-packages\\matplotlib\\__init__.py\u001b[0m in \u001b[0;36minner\u001b[1;34m(ax, data, *args, **kwargs)\u001b[0m\n\u001b[0;32m   1436\u001b[0m     \u001b[1;32mdef\u001b[0m \u001b[0minner\u001b[0m\u001b[1;33m(\u001b[0m\u001b[0max\u001b[0m\u001b[1;33m,\u001b[0m \u001b[1;33m*\u001b[0m\u001b[0margs\u001b[0m\u001b[1;33m,\u001b[0m \u001b[0mdata\u001b[0m\u001b[1;33m=\u001b[0m\u001b[1;32mNone\u001b[0m\u001b[1;33m,\u001b[0m \u001b[1;33m**\u001b[0m\u001b[0mkwargs\u001b[0m\u001b[1;33m)\u001b[0m\u001b[1;33m:\u001b[0m\u001b[1;33m\u001b[0m\u001b[1;33m\u001b[0m\u001b[0m\n\u001b[0;32m   1437\u001b[0m         \u001b[1;32mif\u001b[0m \u001b[0mdata\u001b[0m \u001b[1;32mis\u001b[0m \u001b[1;32mNone\u001b[0m\u001b[1;33m:\u001b[0m\u001b[1;33m\u001b[0m\u001b[1;33m\u001b[0m\u001b[0m\n\u001b[1;32m-> 1438\u001b[1;33m             \u001b[1;32mreturn\u001b[0m \u001b[0mfunc\u001b[0m\u001b[1;33m(\u001b[0m\u001b[0max\u001b[0m\u001b[1;33m,\u001b[0m \u001b[1;33m*\u001b[0m\u001b[0mmap\u001b[0m\u001b[1;33m(\u001b[0m\u001b[0msanitize_sequence\u001b[0m\u001b[1;33m,\u001b[0m \u001b[0margs\u001b[0m\u001b[1;33m)\u001b[0m\u001b[1;33m,\u001b[0m \u001b[1;33m**\u001b[0m\u001b[0mkwargs\u001b[0m\u001b[1;33m)\u001b[0m\u001b[1;33m\u001b[0m\u001b[1;33m\u001b[0m\u001b[0m\n\u001b[0m\u001b[0;32m   1439\u001b[0m \u001b[1;33m\u001b[0m\u001b[0m\n\u001b[0;32m   1440\u001b[0m         \u001b[0mbound\u001b[0m \u001b[1;33m=\u001b[0m \u001b[0mnew_sig\u001b[0m\u001b[1;33m.\u001b[0m\u001b[0mbind\u001b[0m\u001b[1;33m(\u001b[0m\u001b[0max\u001b[0m\u001b[1;33m,\u001b[0m \u001b[1;33m*\u001b[0m\u001b[0margs\u001b[0m\u001b[1;33m,\u001b[0m \u001b[1;33m**\u001b[0m\u001b[0mkwargs\u001b[0m\u001b[1;33m)\u001b[0m\u001b[1;33m\u001b[0m\u001b[1;33m\u001b[0m\u001b[0m\n",
      "\u001b[1;32mD:\\Anaconda\\lib\\site-packages\\matplotlib\\stackplot.py\u001b[0m in \u001b[0;36mstackplot\u001b[1;34m(axes, x, labels, colors, baseline, *args, **kwargs)\u001b[0m\n\u001b[0;32m     60\u001b[0m     \"\"\"\n\u001b[0;32m     61\u001b[0m \u001b[1;33m\u001b[0m\u001b[0m\n\u001b[1;32m---> 62\u001b[1;33m     \u001b[0my\u001b[0m \u001b[1;33m=\u001b[0m \u001b[0mnp\u001b[0m\u001b[1;33m.\u001b[0m\u001b[0mrow_stack\u001b[0m\u001b[1;33m(\u001b[0m\u001b[0margs\u001b[0m\u001b[1;33m)\u001b[0m\u001b[1;33m\u001b[0m\u001b[1;33m\u001b[0m\u001b[0m\n\u001b[0m\u001b[0;32m     63\u001b[0m \u001b[1;33m\u001b[0m\u001b[0m\n\u001b[0;32m     64\u001b[0m     \u001b[0mlabels\u001b[0m \u001b[1;33m=\u001b[0m \u001b[0miter\u001b[0m\u001b[1;33m(\u001b[0m\u001b[0mlabels\u001b[0m\u001b[1;33m)\u001b[0m\u001b[1;33m\u001b[0m\u001b[1;33m\u001b[0m\u001b[0m\n",
      "\u001b[1;32m<__array_function__ internals>\u001b[0m in \u001b[0;36mvstack\u001b[1;34m(*args, **kwargs)\u001b[0m\n",
      "\u001b[1;32mD:\\Anaconda\\lib\\site-packages\\numpy\\core\\shape_base.py\u001b[0m in \u001b[0;36mvstack\u001b[1;34m(tup)\u001b[0m\n\u001b[0;32m    281\u001b[0m     \u001b[1;32mif\u001b[0m \u001b[1;32mnot\u001b[0m \u001b[0misinstance\u001b[0m\u001b[1;33m(\u001b[0m\u001b[0marrs\u001b[0m\u001b[1;33m,\u001b[0m \u001b[0mlist\u001b[0m\u001b[1;33m)\u001b[0m\u001b[1;33m:\u001b[0m\u001b[1;33m\u001b[0m\u001b[1;33m\u001b[0m\u001b[0m\n\u001b[0;32m    282\u001b[0m         \u001b[0marrs\u001b[0m \u001b[1;33m=\u001b[0m \u001b[1;33m[\u001b[0m\u001b[0marrs\u001b[0m\u001b[1;33m]\u001b[0m\u001b[1;33m\u001b[0m\u001b[1;33m\u001b[0m\u001b[0m\n\u001b[1;32m--> 283\u001b[1;33m     \u001b[1;32mreturn\u001b[0m \u001b[0m_nx\u001b[0m\u001b[1;33m.\u001b[0m\u001b[0mconcatenate\u001b[0m\u001b[1;33m(\u001b[0m\u001b[0marrs\u001b[0m\u001b[1;33m,\u001b[0m \u001b[1;36m0\u001b[0m\u001b[1;33m)\u001b[0m\u001b[1;33m\u001b[0m\u001b[1;33m\u001b[0m\u001b[0m\n\u001b[0m\u001b[0;32m    284\u001b[0m \u001b[1;33m\u001b[0m\u001b[0m\n\u001b[0;32m    285\u001b[0m \u001b[1;33m\u001b[0m\u001b[0m\n",
      "\u001b[1;32m<__array_function__ internals>\u001b[0m in \u001b[0;36mconcatenate\u001b[1;34m(*args, **kwargs)\u001b[0m\n",
      "\u001b[1;31mValueError\u001b[0m: need at least one array to concatenate"
     ]
    },
    {
     "data": {
      "image/png": "[encoded data removed]",
      "text/plain": [
       "<Figure size 432x288 with 1 Axes>"
      ]
     },
     "metadata": {
      "needs_background": "light"
     },
     "output_type": "display_data"
    }
   ],
   "source": [
    "plt.stackplot(df_new2['reviews.rating'], count=df['reviews.doRecommend'])"
   ]
  },
  {
   "cell_type": "code",
   "execution_count": 136,
   "metadata": {},
   "outputs": [],
   "source": [
    "import numpy as np"
   ]
  },
  {
   "cell_type": "code",
   "execution_count": 137,
   "metadata": {},
   "outputs": [
    {
     "data": {
      "text/plain": [
       "nan"
      ]
     },
     "execution_count": 137,
     "metadata": {},
     "output_type": "execute_result"
    }
   ],
   "source": [
    "np.nan"
   ]
  },
  {
   "cell_type": "markdown",
   "metadata": {},
   "source": [
    "# Cleaning the 3rd (1429) file for concatenation"
   ]
  },
  {
   "cell_type": "markdown",
   "metadata": {},
   "source": [
    "### Created a list of item names which doesn't belong to Electronics category"
   ]
  },
  {
   "cell_type": "code",
   "execution_count": 5,
   "metadata": {},
   "outputs": [],
   "source": [
    "df = pd.read_csv('Amazon_Basic_EDA_01.csv', index_col=0)"
   ]
  },
  {
   "cell_type": "code",
   "execution_count": 37,
   "metadata": {},
   "outputs": [
    {
     "data": {
      "text/plain": [
       "49"
      ]
     },
     "execution_count": 37,
     "metadata": {},
     "output_type": "execute_result"
    }
   ],
   "source": [
    "len(df_2['name'].unique())"
   ]
  },
  {
   "cell_type": "code",
   "execution_count": 38,
   "metadata": {},
   "outputs": [
    {
     "data": {
      "text/plain": [
       "array(['All-New Fire HD 8 Tablet, 8 HD Display, Wi-Fi, 16 GB - Includes Special Offers, Magenta',\n",
       "       'Kindle Oasis E-reader with Leather Charging Cover - Merlot, 6 High-Resolution Display (300 ppi), Wi-Fi - Includes Special Offers,,',\n",
       "       'Amazon Kindle Lighted Leather Cover,,,\\r\\nAmazon Kindle Lighted Leather Cover,,,',\n",
       "       'Amazon Kindle Lighted Leather Cover,,,\\r\\nKindle Keyboard,,,',\n",
       "       'Kindle Keyboard,,,\\r\\nKindle Keyboard,,,',\n",
       "       'All-New Fire HD 8 Tablet, 8 HD Display, Wi-Fi, 32 GB - Includes Special Offers, Magenta',\n",
       "       'Fire HD 8 Tablet with Alexa, 8 HD Display, 32 GB, Tangerine - with Special Offers,',\n",
       "       'Amazon 5W USB Official OEM Charger and Power Adapter for Fire Tablets and Kindle eReaders,,,\\r\\nAmazon 5W USB Official OEM Charger and Power Adapter for Fire Tablets and Kindle eReaders,,,',\n",
       "       'All-New Kindle E-reader - Black, 6 Glare-Free Touchscreen Display, Wi-Fi -  Includes Special Offers,,',\n",
       "       'Amazon Kindle Fire Hd (3rd Generation) 8gb,,,\\r\\nAmazon Kindle Fire Hd (3rd Generation) 8gb,,,',\n",
       "       'Fire Tablet, 7 Display, Wi-Fi, 8 GB - Includes Special Offers, Magenta',\n",
       "       'Kindle Oasis E-reader with Leather Charging Cover - Black, 6 High-Resolution Display (300 ppi), Wi-Fi - Includes Special Offers,,',\n",
       "       'Amazon - Kindle Voyage - 4GB - Wi-Fi + 3G - Black,,,\\r\\nAmazon - Kindle Voyage - 4GB - Wi-Fi + 3G - Black,,,',\n",
       "       'Amazon - Kindle Voyage - 4GB - Wi-Fi + 3G - Black,,,\\r\\nFire HD 8 Tablet with Alexa, 8 HD Display, 16 GB, Tangerine - with Special Offers\",',\n",
       "       'Fire HD 8 Tablet with Alexa, 8 HD Display, 16 GB, Tangerine - with Special Offers,',\n",
       "       'Amazon Standing Protective Case for Fire HD 6 (4th Generation) - Black,,,\\r\\nAmazon Standing Protective Case for Fire HD 6 (4th Generation) - Black,,,',\n",
       "       'Certified Refurbished Amazon Fire TV (Previous Generation - 1st),,,\\r\\nCertified Refurbished Amazon Fire TV (Previous Generation - 1st),,,',\n",
       "       'Brand New Amazon Kindle Fire 16gb 7 Ips Display Tablet Wifi 16 Gb Blue,,,',\n",
       "       'Amazon Kindle Touch Leather Case (4th Generation - 2011 Release), Olive Green,,,\\r\\nAmazon Kindle Touch Leather Case (4th Generation - 2011 Release), Olive Green,,,',\n",
       "       'Fire Kids Edition Tablet, 7 Display, Wi-Fi, 16 GB, Green Kid-Proof Case',\n",
       "       'Amazon Kindle Paperwhite - eBook reader - 4 GB - 6 monochrome Paperwhite - touchscreen - Wi-Fi - black,,,',\n",
       "       'Kindle Voyage E-reader, 6 High-Resolution Display (300 ppi) with Adaptive Built-in Light, PagePress Sensors, Wi-Fi - Includes Special Offers,',\n",
       "       'Certified Refurbished Amazon Fire TV Stick (Previous Generation - 1st),,,\\r\\nCertified Refurbished Amazon Fire TV Stick (Previous Generation - 1st),,,',\n",
       "       'Certified Refurbished Amazon Fire TV Stick (Previous Generation - 1st),,,\\r\\nKindle Paperwhite,,,',\n",
       "       'Kindle Paperwhite,,,\\r\\nKindle Paperwhite,,,',\n",
       "       'Amazon Fire Kids Edition Tablet, 7 Display, Wi-Fi, 16 GB, Blue Kid-Proof Case - Blue',\n",
       "       'Kindle Paperwhite E-reader - White, 6 High-Resolution Display (300 ppi) with Built-in Light, Wi-Fi - Includes Special Offers,,',\n",
       "       'Amazon Echo and Fire TV Power Adapter,,,\\r\\nAmazon Echo and Fire TV Power Adapter,,,',\n",
       "       'Amazon Fire Hd 8 8in Tablet 16gb Black B018szt3bk 6th Gen (2016) Android,,,\\r\\nAmazon Fire Hd 8 8in Tablet 16gb Black B018szt3bk 6th Gen (2016) Android,,,',\n",
       "       'Certified Refurbished Amazon Fire TV with Alexa Voice Remote,,,\\r\\nCertified Refurbished Amazon Fire TV with Alexa Voice Remote,,,',\n",
       "       'Amazon - Fire 16GB (5th Gen, 2015 Release) - Black,,,\\r\\nAmazon - Fire 16GB (5th Gen, 2015 Release) - Black,,,',\n",
       "       'Fire Tablet, 7 Display, Wi-Fi, 8 GB - Includes Special Offers, Black',\n",
       "       'Echo (White),,,\\r\\nEcho (White),,,',\n",
       "       'Echo (White),,,\\r\\nFire Tablet, 7 Display, Wi-Fi, 8 GB - Includes Special Offers, Tangerine\"',\n",
       "       'Echo (Black),,,\\r\\nEcho (Black),,,',\n",
       "       'Echo (Black),,,\\r\\nAmazon 9W PowerFast Official OEM USB Charger and Power Adapter for Fire Tablets and Kindle eReaders,,,',\n",
       "       'Amazon 9W PowerFast Official OEM USB Charger and Power Adapter for Fire Tablets and Kindle eReaders,,,\\r\\nAmazon 9W PowerFast Official OEM USB Charger and Power Adapter for Fire Tablets and Kindle eReaders,,,',\n",
       "       'Amazon Fire Hd 6 Standing Protective Case(4th Generation - 2014 Release), Cayenne Red,,,\\r\\nAmazon Fire Hd 6 Standing Protective Case(4th Generation - 2014 Release), Cayenne Red,,,',\n",
       "       'Amazon Fire Hd 6 Standing Protective Case(4th Generation - 2014 Release), Cayenne Red,,,\\r\\nAmazon 5W USB Official OEM Charger and Power Adapter for Fire Tablets and Kindle eReaders,,,',\n",
       "       'Amazon Fire Hd 10 Tablet, Wi-Fi, 16 Gb, Special Offers - Silver Aluminum,,,\\r\\nAmazon Fire Hd 10 Tablet, Wi-Fi, 16 Gb, Special Offers - Silver Aluminum,,,',\n",
       "       'Amazon - Amazon Tap Portable Bluetooth and Wi-Fi Speaker - Black,,,\\r\\nAmazon - Amazon Tap Portable Bluetooth and Wi-Fi Speaker - Black,,,',\n",
       "       'Coconut Water Red Tea 16.5 Oz (pack of 12),,,\\r\\nAmazon Fire Tv,,,',\n",
       "       'Amazon Fire Tv,,,\\r\\nAmazon Fire Tv,,,',\n",
       "       'Amazon Fire Tv,,,\\r\\nKindle Dx Leather Cover, Black (fits 9.7 Display, Latest and 2nd Generation Kindle Dxs)\",,',\n",
       "       'Kindle Dx Leather Cover, Black (fits 9.7 Display, Latest and 2nd Generation Kindle Dxs),,',\n",
       "       'Amazon Kindle Fire 5ft USB to Micro-USB Cable (works with most Micro-USB Tablets),,,\\r\\nAmazon Kindle Fire 5ft USB to Micro-USB Cable (works with most Micro-USB Tablets),,,',\n",
       "       'New Amazon Kindle Fire Hd 9w Powerfast Adapter Charger + Micro Usb Angle Cable,,,\\r\\nNew Amazon Kindle Fire Hd 9w Powerfast Adapter Charger + Micro Usb Angle Cable,,,',\n",
       "       'New Amazon Kindle Fire Hd 9w Powerfast Adapter Charger + Micro Usb Angle Cable,,,\\r\\n',\n",
       "       nan], dtype=object)"
      ]
     },
     "execution_count": 38,
     "metadata": {},
     "output_type": "execute_result"
    }
   ],
   "source": [
    "df_2['name'].unique()"
   ]
  },
  {
   "cell_type": "code",
   "execution_count": 6,
   "metadata": {},
   "outputs": [],
   "source": [
    "list1 = ['Amazon Kindle Lighted Leather Cover,,,\\r\\nAmazon Kindle Lighted Leather Cover,,,','Amazon Kindle Lighted Leather Cover,,,\\r\\nKindle Keyboard,,,','Amazon Standing Protective Case for Fire HD 6 (4th Generation) - Black,,,\\r\\nAmazon Standing Protective Case for Fire HD 6 (4th Generation) - Black,,,','Amazon Kindle Touch Leather Case (4th Generation - 2011 Release), Olive Green,,,\\r\\nAmazon Kindle Touch Leather Case (4th Generation - 2011 Release), Olive Green,,,',\n",
    "       'Fire Kids Edition Tablet, 7 Display, Wi-Fi, 16 GB, Green Kid-Proof Case']"
   ]
  },
  {
   "cell_type": "code",
   "execution_count": 36,
   "metadata": {},
   "outputs": [
    {
     "data": {
      "text/plain": [
       "5"
      ]
     },
     "execution_count": 36,
     "metadata": {},
     "output_type": "execute_result"
    }
   ],
   "source": [
    "# Products that do not belong to Electronics category\n",
    "\n",
    "len(list1)"
   ]
  },
  {
   "cell_type": "raw",
   "metadata": {},
   "source": [
    " Using lambda function, we imputed the primaryCategory feature."
   ]
  },
  {
   "cell_type": "code",
   "execution_count": 7,
   "metadata": {},
   "outputs": [],
   "source": [
    "df_2['primaryCategories'] = df_2['name'].apply(lambda x: np.nan if x in list1 else 'Electronics')"
   ]
  },
  {
   "cell_type": "code",
   "execution_count": 8,
   "metadata": {},
   "outputs": [
    {
     "data": {
      "text/plain": [
       "Electronics    32968\n",
       "Name: primaryCategories, dtype: int64"
      ]
     },
     "execution_count": 8,
     "metadata": {},
     "output_type": "execute_result"
    }
   ],
   "source": [
    "df_2['primaryCategories'].value_counts()"
   ]
  },
  {
   "cell_type": "code",
   "execution_count": 9,
   "metadata": {},
   "outputs": [
    {
     "data": {
      "text/plain": [
       "id                        0.000000\n",
       "name                     19.503751\n",
       "asins                     0.005770\n",
       "brand                     0.000000\n",
       "categories                0.000000\n",
       "keys                      0.000000\n",
       "manufacturer              0.000000\n",
       "reviews.date              0.112522\n",
       "reviews.dateAdded        30.643393\n",
       "reviews.dateSeen          0.000000\n",
       "reviews.didPurchase      99.997115\n",
       "reviews.doRecommend       1.713791\n",
       "reviews.id               99.997115\n",
       "reviews.numHelpful        1.526255\n",
       "reviews.rating            0.095211\n",
       "reviews.sourceURLs        0.000000\n",
       "reviews.text              0.002885\n",
       "reviews.title             0.014426\n",
       "reviews.userCity        100.000000\n",
       "reviews.userProvince    100.000000\n",
       "reviews.username          0.005770\n",
       "primaryCategories         4.881708\n",
       "dtype: float64"
      ]
     },
     "execution_count": 9,
     "metadata": {},
     "output_type": "execute_result"
    }
   ],
   "source": [
    "(df_2.isnull().sum()/len(df_2))*100"
   ]
  },
  {
   "cell_type": "raw",
   "metadata": {},
   "source": [
    "^ We can see that out of 33k+ records from 1429 file, 95% belonged to the category - Electronics."
   ]
  },
  {
   "cell_type": "markdown",
   "metadata": {},
   "source": [
    "#### Dropping the unwanted columns"
   ]
  },
  {
   "cell_type": "code",
   "execution_count": 18,
   "metadata": {},
   "outputs": [
    {
     "data": {
      "text/plain": [
       "Index(['categories', 'name', 'primaryCategories', 'reviews.date',\n",
       "       'reviews.doRecommend', 'reviews.numHelpful', 'reviews.rating',\n",
       "       'reviews.text', 'reviews.title', 'reviews.username'],\n",
       "      dtype='object')"
      ]
     },
     "execution_count": 18,
     "metadata": {},
     "output_type": "execute_result"
    }
   ],
   "source": [
    "df.columns"
   ]
  },
  {
   "cell_type": "code",
   "execution_count": 15,
   "metadata": {},
   "outputs": [
    {
     "data": {
      "text/plain": [
       "Index(['name', 'categories', 'keys', 'reviews.date', 'reviews.dateAdded',\n",
       "       'reviews.didPurchase', 'reviews.doRecommend', 'reviews.numHelpful',\n",
       "       'reviews.rating', 'reviews.text', 'reviews.title', 'reviews.username',\n",
       "       'primaryCategories'],\n",
       "      dtype='object')"
      ]
     },
     "execution_count": 15,
     "metadata": {},
     "output_type": "execute_result"
    }
   ],
   "source": [
    "df_2.columns"
   ]
  },
  {
   "cell_type": "code",
   "execution_count": 17,
   "metadata": {},
   "outputs": [],
   "source": [
    "# Removing columns from df that aren't in df_2\n",
    "df.drop(labels=['dateAdded', 'dateUpdated'], axis=1, inplace=True)"
   ]
  },
  {
   "cell_type": "code",
   "execution_count": 13,
   "metadata": {},
   "outputs": [],
   "source": [
    "# Removing unwanted columns from df_2\n",
    "df_2.drop(labels=['id','asins','brand','manufacturer','reviews.sourceURLs','reviews.id','reviews.dateSeen','reviews.userProvince', 'reviews.userCity','keys', 'reviews.dateAdded', 'reviews.didPurchase'], axis=1, inplace=True)"
   ]
  },
  {
   "cell_type": "code",
   "execution_count": 24,
   "metadata": {},
   "outputs": [
    {
     "data": {
      "text/plain": [
       "(set(), set())"
      ]
     },
     "execution_count": 24,
     "metadata": {},
     "output_type": "execute_result"
    }
   ],
   "source": [
    "# Checking for common/uncommon columns\n",
    "set(df_2) - set(df), set(df) - set(df_2) "
   ]
  },
  {
   "cell_type": "raw",
   "metadata": {},
   "source": [
    "# These two were not present in 1429 file, and these features won't be required for our analysis."
   ]
  },
  {
   "cell_type": "code",
   "execution_count": 25,
   "metadata": {},
   "outputs": [
    {
     "data": {
      "text/plain": [
       "((33332, 10), (34660, 10))"
      ]
     },
     "execution_count": 25,
     "metadata": {},
     "output_type": "execute_result"
    }
   ],
   "source": [
    "df.shape, df_2.shape"
   ]
  },
  {
   "cell_type": "markdown",
   "metadata": {},
   "source": [
    "#### Columns sorting before concatenating"
   ]
  },
  {
   "cell_type": "code",
   "execution_count": 26,
   "metadata": {},
   "outputs": [],
   "source": [
    "df_2 = df_2.reindex(sorted(df_2.columns), axis=1)\n",
    "\n",
    "df = df.reindex(sorted(df.columns), axis=1)"
   ]
  },
  {
   "cell_type": "code",
   "execution_count": 28,
   "metadata": {},
   "outputs": [
    {
     "data": {
      "text/plain": [
       "Index(['categories', 'name', 'primaryCategories', 'reviews.date',\n",
       "       'reviews.doRecommend', 'reviews.numHelpful', 'reviews.rating',\n",
       "       'reviews.text', 'reviews.title', 'reviews.username'],\n",
       "      dtype='object')"
      ]
     },
     "execution_count": 28,
     "metadata": {},
     "output_type": "execute_result"
    }
   ],
   "source": [
    "df.columns"
   ]
  },
  {
   "cell_type": "code",
   "execution_count": 29,
   "metadata": {},
   "outputs": [
    {
     "data": {
      "text/plain": [
       "Index(['categories', 'name', 'primaryCategories', 'reviews.date',\n",
       "       'reviews.doRecommend', 'reviews.numHelpful', 'reviews.rating',\n",
       "       'reviews.text', 'reviews.title', 'reviews.username'],\n",
       "      dtype='object')"
      ]
     },
     "execution_count": 29,
     "metadata": {},
     "output_type": "execute_result"
    }
   ],
   "source": [
    "df_2.columns"
   ]
  },
  {
   "cell_type": "markdown",
   "metadata": {},
   "source": [
    "#### Concatenating both files"
   ]
  },
  {
   "cell_type": "code",
   "execution_count": 30,
   "metadata": {},
   "outputs": [],
   "source": [
    "df_new2 = pd.concat([df,df_2], axis=0)\n",
    "\n",
    "df_new2.shape"
   ]
  },
  {
   "cell_type": "code",
   "execution_count": 32,
   "metadata": {
    "scrolled": true
   },
   "outputs": [
    {
     "data": {
      "text/plain": [
       "categories              0.000000\n",
       "name                    9.942346\n",
       "primaryCategories       2.488528\n",
       "reviews.date            0.057360\n",
       "reviews.doRecommend    18.884575\n",
       "reviews.numHelpful     18.746323\n",
       "reviews.rating          0.048535\n",
       "reviews.text            0.001471\n",
       "reviews.title           0.026474\n",
       "reviews.username        0.002942\n",
       "dtype: float64"
      ]
     },
     "execution_count": 32,
     "metadata": {},
     "output_type": "execute_result"
    }
   ],
   "source": [
    "(df_new2.isnull().sum()/len(df_new2))*100"
   ]
  },
  {
   "cell_type": "raw",
   "metadata": {},
   "source": [
    "# Saving the file. \n",
    "## In this file, a little bit of data cleaning is perforned to 1429 file & is merged to the previous dataset (df_new). "
   ]
  },
  {
   "cell_type": "code",
   "execution_count": 239,
   "metadata": {},
   "outputs": [],
   "source": [
    "df_new2.to_csv('Amazon_Basic_EDA_02.csv')"
   ]
  },
  {
   "cell_type": "code",
   "execution_count": null,
   "metadata": {},
   "outputs": [],
   "source": []
  },
  {
   "cell_type": "code",
   "execution_count": 45,
   "metadata": {
    "scrolled": true
   },
   "outputs": [
    {
     "data": {
      "text/html": [
       "<div>\n",
       "<style scoped>\n",
       "    .dataframe tbody tr th:only-of-type {\n",
       "        vertical-align: middle;\n",
       "    }\n",
       "\n",
       "    .dataframe tbody tr th {\n",
       "        vertical-align: top;\n",
       "    }\n",
       "\n",
       "    .dataframe thead th {\n",
       "        text-align: right;\n",
       "    }\n",
       "</style>\n",
       "<table border=\"1\" class=\"dataframe\">\n",
       "  <thead>\n",
       "    <tr style=\"text-align: right;\">\n",
       "      <th></th>\n",
       "      <th>categories</th>\n",
       "      <th>name</th>\n",
       "      <th>primaryCategories</th>\n",
       "      <th>reviews.date</th>\n",
       "      <th>reviews.doRecommend</th>\n",
       "      <th>reviews.numHelpful</th>\n",
       "      <th>reviews.rating</th>\n",
       "      <th>reviews.text</th>\n",
       "      <th>reviews.title</th>\n",
       "      <th>reviews.username</th>\n",
       "    </tr>\n",
       "  </thead>\n",
       "  <tbody>\n",
       "    <tr>\n",
       "      <th>0</th>\n",
       "      <td>AA,AAA,Health,Electronics,Health &amp; Household,C...</td>\n",
       "      <td>AmazonBasics AAA Performance Alkaline Batterie...</td>\n",
       "      <td>Health &amp; Beauty</td>\n",
       "      <td>2017-03-02T00:00:00.000Z</td>\n",
       "      <td>NaN</td>\n",
       "      <td>NaN</td>\n",
       "      <td>3.0</td>\n",
       "      <td>I order 3 of them and one of the item is bad q...</td>\n",
       "      <td>... 3 of them and one of the item is bad quali...</td>\n",
       "      <td>Byger yang</td>\n",
       "    </tr>\n",
       "    <tr>\n",
       "      <th>1</th>\n",
       "      <td>AA,AAA,Health,Electronics,Health &amp; Household,C...</td>\n",
       "      <td>AmazonBasics AAA Performance Alkaline Batterie...</td>\n",
       "      <td>Health &amp; Beauty</td>\n",
       "      <td>2016-08-31T00:00:00.000Z</td>\n",
       "      <td>NaN</td>\n",
       "      <td>NaN</td>\n",
       "      <td>4.0</td>\n",
       "      <td>Bulk is always the less expensive way to go fo...</td>\n",
       "      <td>... always the less expensive way to go for pr...</td>\n",
       "      <td>ByMG</td>\n",
       "    </tr>\n",
       "    <tr>\n",
       "      <th>2</th>\n",
       "      <td>AA,AAA,Health,Electronics,Health &amp; Household,C...</td>\n",
       "      <td>AmazonBasics AAA Performance Alkaline Batterie...</td>\n",
       "      <td>Health &amp; Beauty</td>\n",
       "      <td>2016-12-06T00:00:00.000Z</td>\n",
       "      <td>NaN</td>\n",
       "      <td>NaN</td>\n",
       "      <td>5.0</td>\n",
       "      <td>Well they are not Duracell but for the price i...</td>\n",
       "      <td>... are not Duracell but for the price i am ha...</td>\n",
       "      <td>BySharon Lambert</td>\n",
       "    </tr>\n",
       "    <tr>\n",
       "      <th>3</th>\n",
       "      <td>AA,AAA,Health,Electronics,Health &amp; Household,C...</td>\n",
       "      <td>AmazonBasics AAA Performance Alkaline Batterie...</td>\n",
       "      <td>Health &amp; Beauty</td>\n",
       "      <td>2016-03-28T00:00:00.000Z</td>\n",
       "      <td>NaN</td>\n",
       "      <td>NaN</td>\n",
       "      <td>5.0</td>\n",
       "      <td>Seem to work as well as name brand batteries a...</td>\n",
       "      <td>... as well as name brand batteries at a much ...</td>\n",
       "      <td>Bymark sexson</td>\n",
       "    </tr>\n",
       "    <tr>\n",
       "      <th>4</th>\n",
       "      <td>AA,AAA,Health,Electronics,Health &amp; Household,C...</td>\n",
       "      <td>AmazonBasics AAA Performance Alkaline Batterie...</td>\n",
       "      <td>Health &amp; Beauty</td>\n",
       "      <td>2017-04-22T00:00:00.000Z</td>\n",
       "      <td>NaN</td>\n",
       "      <td>NaN</td>\n",
       "      <td>5.0</td>\n",
       "      <td>These batteries are very long lasting the pric...</td>\n",
       "      <td>... batteries are very long lasting the price ...</td>\n",
       "      <td>Bylinda</td>\n",
       "    </tr>\n",
       "    <tr>\n",
       "      <th>5</th>\n",
       "      <td>AA,AAA,Health,Electronics,Health &amp; Household,C...</td>\n",
       "      <td>AmazonBasics AAA Performance Alkaline Batterie...</td>\n",
       "      <td>Health &amp; Beauty</td>\n",
       "      <td>2016-02-17T00:00:00.000Z</td>\n",
       "      <td>NaN</td>\n",
       "      <td>NaN</td>\n",
       "      <td>5.0</td>\n",
       "      <td>Bought a lot of batteries for Christmas and th...</td>\n",
       "      <td>... batteries for Christmas and the AmazonBasi...</td>\n",
       "      <td>ByPainter Marlow</td>\n",
       "    </tr>\n",
       "    <tr>\n",
       "      <th>6</th>\n",
       "      <td>AA,AAA,Health,Electronics,Health &amp; Household,C...</td>\n",
       "      <td>AmazonBasics AAA Performance Alkaline Batterie...</td>\n",
       "      <td>Health &amp; Beauty</td>\n",
       "      <td>2017-04-17T00:00:00.000Z</td>\n",
       "      <td>NaN</td>\n",
       "      <td>NaN</td>\n",
       "      <td>5.0</td>\n",
       "      <td>ive not had any problame with these batteries ...</td>\n",
       "      <td>... batteries have ordered them in the past be...</td>\n",
       "      <td>ByAmazon Customer</td>\n",
       "    </tr>\n",
       "    <tr>\n",
       "      <th>7</th>\n",
       "      <td>AA,AAA,Health,Electronics,Health &amp; Household,C...</td>\n",
       "      <td>AmazonBasics AAA Performance Alkaline Batterie...</td>\n",
       "      <td>Health &amp; Beauty</td>\n",
       "      <td>2017-04-16T00:00:00.000Z</td>\n",
       "      <td>NaN</td>\n",
       "      <td>NaN</td>\n",
       "      <td>5.0</td>\n",
       "      <td>Well if you are looking for cheap non-recharge...</td>\n",
       "      <td>... batteries that last quite a while then the...</td>\n",
       "      <td>ByLynn Pendegrass</td>\n",
       "    </tr>\n",
       "    <tr>\n",
       "      <th>8</th>\n",
       "      <td>AA,AAA,Health,Electronics,Health &amp; Household,C...</td>\n",
       "      <td>AmazonBasics AAA Performance Alkaline Batterie...</td>\n",
       "      <td>Health &amp; Beauty</td>\n",
       "      <td>2016-04-07T00:00:00.000Z</td>\n",
       "      <td>NaN</td>\n",
       "      <td>NaN</td>\n",
       "      <td>3.0</td>\n",
       "      <td>These do not hold the amount of high power jui...</td>\n",
       "      <td>... do not hold the amount of high power juice...</td>\n",
       "      <td>ByK.R.</td>\n",
       "    </tr>\n",
       "    <tr>\n",
       "      <th>9</th>\n",
       "      <td>AA,AAA,Health,Electronics,Health &amp; Household,C...</td>\n",
       "      <td>AmazonBasics AAA Performance Alkaline Batterie...</td>\n",
       "      <td>Health &amp; Beauty</td>\n",
       "      <td>2017-05-24T00:00:00.000Z</td>\n",
       "      <td>NaN</td>\n",
       "      <td>NaN</td>\n",
       "      <td>4.0</td>\n",
       "      <td>AmazonBasics AA AAA batteries have done well b...</td>\n",
       "      <td>... done well by me appear to have a good shel...</td>\n",
       "      <td>BySilverLane</td>\n",
       "    </tr>\n",
       "  </tbody>\n",
       "</table>\n",
       "</div>"
      ],
      "text/plain": [
       "                                          categories  \\\n",
       "0  AA,AAA,Health,Electronics,Health & Household,C...   \n",
       "1  AA,AAA,Health,Electronics,Health & Household,C...   \n",
       "2  AA,AAA,Health,Electronics,Health & Household,C...   \n",
       "3  AA,AAA,Health,Electronics,Health & Household,C...   \n",
       "4  AA,AAA,Health,Electronics,Health & Household,C...   \n",
       "5  AA,AAA,Health,Electronics,Health & Household,C...   \n",
       "6  AA,AAA,Health,Electronics,Health & Household,C...   \n",
       "7  AA,AAA,Health,Electronics,Health & Household,C...   \n",
       "8  AA,AAA,Health,Electronics,Health & Household,C...   \n",
       "9  AA,AAA,Health,Electronics,Health & Household,C...   \n",
       "\n",
       "                                                name primaryCategories  \\\n",
       "0  AmazonBasics AAA Performance Alkaline Batterie...   Health & Beauty   \n",
       "1  AmazonBasics AAA Performance Alkaline Batterie...   Health & Beauty   \n",
       "2  AmazonBasics AAA Performance Alkaline Batterie...   Health & Beauty   \n",
       "3  AmazonBasics AAA Performance Alkaline Batterie...   Health & Beauty   \n",
       "4  AmazonBasics AAA Performance Alkaline Batterie...   Health & Beauty   \n",
       "5  AmazonBasics AAA Performance Alkaline Batterie...   Health & Beauty   \n",
       "6  AmazonBasics AAA Performance Alkaline Batterie...   Health & Beauty   \n",
       "7  AmazonBasics AAA Performance Alkaline Batterie...   Health & Beauty   \n",
       "8  AmazonBasics AAA Performance Alkaline Batterie...   Health & Beauty   \n",
       "9  AmazonBasics AAA Performance Alkaline Batterie...   Health & Beauty   \n",
       "\n",
       "               reviews.date reviews.doRecommend  reviews.numHelpful  \\\n",
       "0  2017-03-02T00:00:00.000Z                 NaN                 NaN   \n",
       "1  2016-08-31T00:00:00.000Z                 NaN                 NaN   \n",
       "2  2016-12-06T00:00:00.000Z                 NaN                 NaN   \n",
       "3  2016-03-28T00:00:00.000Z                 NaN                 NaN   \n",
       "4  2017-04-22T00:00:00.000Z                 NaN                 NaN   \n",
       "5  2016-02-17T00:00:00.000Z                 NaN                 NaN   \n",
       "6  2017-04-17T00:00:00.000Z                 NaN                 NaN   \n",
       "7  2017-04-16T00:00:00.000Z                 NaN                 NaN   \n",
       "8  2016-04-07T00:00:00.000Z                 NaN                 NaN   \n",
       "9  2017-05-24T00:00:00.000Z                 NaN                 NaN   \n",
       "\n",
       "   reviews.rating                                       reviews.text  \\\n",
       "0             3.0  I order 3 of them and one of the item is bad q...   \n",
       "1             4.0  Bulk is always the less expensive way to go fo...   \n",
       "2             5.0  Well they are not Duracell but for the price i...   \n",
       "3             5.0  Seem to work as well as name brand batteries a...   \n",
       "4             5.0  These batteries are very long lasting the pric...   \n",
       "5             5.0  Bought a lot of batteries for Christmas and th...   \n",
       "6             5.0  ive not had any problame with these batteries ...   \n",
       "7             5.0  Well if you are looking for cheap non-recharge...   \n",
       "8             3.0  These do not hold the amount of high power jui...   \n",
       "9             4.0  AmazonBasics AA AAA batteries have done well b...   \n",
       "\n",
       "                                       reviews.title   reviews.username  \n",
       "0  ... 3 of them and one of the item is bad quali...         Byger yang  \n",
       "1  ... always the less expensive way to go for pr...               ByMG  \n",
       "2  ... are not Duracell but for the price i am ha...   BySharon Lambert  \n",
       "3  ... as well as name brand batteries at a much ...      Bymark sexson  \n",
       "4  ... batteries are very long lasting the price ...            Bylinda  \n",
       "5  ... batteries for Christmas and the AmazonBasi...   ByPainter Marlow  \n",
       "6  ... batteries have ordered them in the past be...  ByAmazon Customer  \n",
       "7  ... batteries that last quite a while then the...  ByLynn Pendegrass  \n",
       "8  ... do not hold the amount of high power juice...             ByK.R.  \n",
       "9  ... done well by me appear to have a good shel...       BySilverLane  "
      ]
     },
     "execution_count": 45,
     "metadata": {},
     "output_type": "execute_result"
    }
   ],
   "source": [
    "df_new2.head(10)"
   ]
  },
  {
   "cell_type": "code",
   "execution_count": null,
   "metadata": {},
   "outputs": [],
   "source": [
    "# checking "
   ]
  },
  {
   "cell_type": "code",
   "execution_count": 49,
   "metadata": {},
   "outputs": [],
   "source": [
    "dd = pd.crosstab(df['name'],df['primaryCategories'])\n",
    "dd.to_csv('name_pricat_CT.csv')"
   ]
  },
  {
   "cell_type": "code",
   "execution_count": 48,
   "metadata": {},
   "outputs": [
    {
     "data": {
      "text/plain": [
       "126"
      ]
     },
     "execution_count": 48,
     "metadata": {},
     "output_type": "execute_result"
    }
   ],
   "source": [
    "len(df_new2['name'].unique())"
   ]
  },
  {
   "cell_type": "code",
   "execution_count": 50,
   "metadata": {},
   "outputs": [],
   "source": [
    "# changing Battery's primary Category to Electronics from Health & Beauty"
   ]
  },
  {
   "cell_type": "code",
   "execution_count": 56,
   "metadata": {},
   "outputs": [],
   "source": [
    "df_new2.loc[(df_new2['name'] == 'AmazonBasics AAA Performance Alkaline Batteries (36 Count)') | (df_new2['name'] == 'AmazonBasics AA Performance Alkaline Batteries (48 Count) - Packaging May Vary'), 'primaryCategories'] = 'Electronics'"
   ]
  },
  {
   "cell_type": "code",
   "execution_count": 58,
   "metadata": {},
   "outputs": [],
   "source": [
    "# Replacing primaryCategories like 'Electronics/Media', 'Electronics/Toys' to 'Electronics'\n",
    "\n",
    "replace_elect = {'Electronics,Furniture':'Electronics', 'Electronics,Hardware':'Electronics','Electronics,Media':'Electronics','Toys & Games,Electronics':'Electronics','Office Supplies,Electronics':'Office Supplies'}\n",
    "\n",
    "df_new2['primaryCategories'] = df_new2['primaryCategories'].replace(replace_elect)"
   ]
  },
  {
   "cell_type": "code",
   "execution_count": 66,
   "metadata": {},
   "outputs": [
    {
     "data": {
      "text/plain": [
       "Electronics               65632\n",
       "Office Supplies             660\n",
       "Animals & Pet Supplies        6\n",
       "Home & Garden                 2\n",
       "Name: primaryCategories, dtype: int64"
      ]
     },
     "execution_count": 66,
     "metadata": {},
     "output_type": "execute_result"
    }
   ],
   "source": [
    "df_new2['primaryCategories'].value_counts()"
   ]
  },
  {
   "cell_type": "code",
   "execution_count": 67,
   "metadata": {},
   "outputs": [],
   "source": [
    "df_new2.to_csv('Amazon_Basic_EDA_02.csv')"
   ]
  },
  {
   "cell_type": "code",
   "execution_count": null,
   "metadata": {},
   "outputs": [],
   "source": []
  },
  {
   "cell_type": "markdown",
   "metadata": {},
   "source": [
    "### Checking the reviews.rating feature to perform an imputation on reviews.doRecommend column."
   ]
  },
  {
   "cell_type": "code",
   "execution_count": 117,
   "metadata": {},
   "outputs": [],
   "source": [
    "import matplotlib.pyplot as plt\n",
    "import seaborn as sns"
   ]
  },
  {
   "cell_type": "code",
   "execution_count": 245,
   "metadata": {},
   "outputs": [],
   "source": [
    "ct = pd.crosstab(df_new2['reviews.rating'], df_new2['reviews.doRecommend'])"
   ]
  },
  {
   "cell_type": "code",
   "execution_count": 251,
   "metadata": {},
   "outputs": [
    {
     "data": {
      "text/html": [
       "<div>\n",
       "<style scoped>\n",
       "    .dataframe tbody tr th:only-of-type {\n",
       "        vertical-align: middle;\n",
       "    }\n",
       "\n",
       "    .dataframe tbody tr th {\n",
       "        vertical-align: top;\n",
       "    }\n",
       "\n",
       "    .dataframe thead th {\n",
       "        text-align: right;\n",
       "    }\n",
       "</style>\n",
       "<table border=\"1\" class=\"dataframe\">\n",
       "  <thead>\n",
       "    <tr style=\"text-align: right;\">\n",
       "      <th>reviews.doRecommend</th>\n",
       "      <th>False</th>\n",
       "      <th>True</th>\n",
       "    </tr>\n",
       "    <tr>\n",
       "      <th>reviews.rating</th>\n",
       "      <th></th>\n",
       "      <th></th>\n",
       "    </tr>\n",
       "  </thead>\n",
       "  <tbody>\n",
       "    <tr>\n",
       "      <th>1.0</th>\n",
       "      <td>592</td>\n",
       "      <td>33</td>\n",
       "    </tr>\n",
       "    <tr>\n",
       "      <th>2.0</th>\n",
       "      <td>563</td>\n",
       "      <td>85</td>\n",
       "    </tr>\n",
       "    <tr>\n",
       "      <th>3.0</th>\n",
       "      <td>876</td>\n",
       "      <td>1450</td>\n",
       "    </tr>\n",
       "    <tr>\n",
       "      <th>4.0</th>\n",
       "      <td>222</td>\n",
       "      <td>13685</td>\n",
       "    </tr>\n",
       "    <tr>\n",
       "      <th>5.0</th>\n",
       "      <td>99</td>\n",
       "      <td>37547</td>\n",
       "    </tr>\n",
       "  </tbody>\n",
       "</table>\n",
       "</div>"
      ],
      "text/plain": [
       "reviews.doRecommend  False  True \n",
       "reviews.rating                   \n",
       "1.0                    592     33\n",
       "2.0                    563     85\n",
       "3.0                    876   1450\n",
       "4.0                    222  13685\n",
       "5.0                     99  37547"
      ]
     },
     "execution_count": 251,
     "metadata": {},
     "output_type": "execute_result"
    }
   ],
   "source": [
    "ct"
   ]
  },
  {
   "cell_type": "code",
   "execution_count": 256,
   "metadata": {},
   "outputs": [
    {
     "data": {
      "text/plain": [
       "0.26366953418382294"
      ]
     },
     "execution_count": 256,
     "metadata": {},
     "output_type": "execute_result"
    }
   ],
   "source": [
    "(99/37547)*100  # Rating 5 anomaly %"
   ]
  },
  {
   "cell_type": "code",
   "execution_count": 257,
   "metadata": {},
   "outputs": [
    {
     "data": {
      "text/plain": [
       "1.6222141030325172"
      ]
     },
     "execution_count": 257,
     "metadata": {},
     "output_type": "execute_result"
    }
   ],
   "source": [
    "(222/13685)*100  # Rating 4 anomaly %"
   ]
  },
  {
   "cell_type": "code",
   "execution_count": 250,
   "metadata": {},
   "outputs": [
    {
     "data": {
      "text/plain": [
       "<Figure size 1080x864 with 0 Axes>"
      ]
     },
     "metadata": {},
     "output_type": "display_data"
    },
    {
     "data": {
      "image/png": "[encoded data removed]",
      "text/plain": [
       "<Figure size 432x288 with 1 Axes>"
      ]
     },
     "metadata": {
      "needs_background": "light"
     },
     "output_type": "display_data"
    }
   ],
   "source": [
    "ct.plot.bar(stacked= True)\n",
    "plt.show()"
   ]
  },
  {
   "cell_type": "raw",
   "metadata": {},
   "source": [
    "# Since above 3 Rating, the percentage of recommendation of the product (TRUE) is 98.4%, therefore we use this as the threshold (>3 = True & <3 = False) to perform the imputation."
   ]
  },
  {
   "cell_type": "code",
   "execution_count": null,
   "metadata": {},
   "outputs": [],
   "source": [
    "# csv()"
   ]
  },
  {
   "cell_type": "code",
   "execution_count": null,
   "metadata": {},
   "outputs": [],
   "source": []
  },
  {
   "cell_type": "markdown",
   "metadata": {},
   "source": [
    "# Using VADER package to get the polar_score (compound) on the text feature"
   ]
  },
  {
   "cell_type": "code",
   "execution_count": 3,
   "metadata": {},
   "outputs": [],
   "source": [
    "df = pd.read_csv('Amazon_Basic_EDA_02.csv', index_col=0)"
   ]
  },
  {
   "cell_type": "code",
   "execution_count": 5,
   "metadata": {},
   "outputs": [
    {
     "data": {
      "text/plain": [
       "((67992, 10), (67958, 15), 34)"
      ]
     },
     "execution_count": 5,
     "metadata": {},
     "output_type": "execute_result"
    }
   ],
   "source": [
    "df.shape, df1.shape, 67992 - 67958"
   ]
  },
  {
   "cell_type": "code",
   "execution_count": 246,
   "metadata": {},
   "outputs": [
    {
     "name": "stdout",
     "output_type": "stream",
     "text": [
      "<class 'pandas.core.frame.DataFrame'>\n",
      "Int64Index: 67992 entries, 0 to 34659\n",
      "Data columns (total 10 columns):\n",
      " #   Column               Non-Null Count  Dtype  \n",
      "---  ------               --------------  -----  \n",
      " 0   categories           67992 non-null  object \n",
      " 1   name                 61232 non-null  object \n",
      " 2   primaryCategories    66300 non-null  object \n",
      " 3   reviews.date         67953 non-null  object \n",
      " 4   reviews.doRecommend  55152 non-null  object \n",
      " 5   reviews.numHelpful   55246 non-null  float64\n",
      " 6   reviews.rating       67959 non-null  float64\n",
      " 7   reviews.text         67991 non-null  object \n",
      " 8   reviews.title        67974 non-null  object \n",
      " 9   reviews.username     67990 non-null  object \n",
      "dtypes: float64(2), object(8)\n",
      "memory usage: 5.7+ MB\n"
     ]
    }
   ],
   "source": [
    "df.info()"
   ]
  },
  {
   "cell_type": "code",
   "execution_count": 5,
   "metadata": {},
   "outputs": [
    {
     "name": "stdout",
     "output_type": "stream",
     "text": [
      "Collecting vaderSentiment\n",
      "  Downloading vaderSentiment-3.3.2-py2.py3-none-any.whl (125 kB)\n",
      "Requirement already satisfied: requests in h:\\anaconda\\lib\\site-packages (from vaderSentiment) (2.24.0)\n",
      "Requirement already satisfied: certifi>=2017.4.17 in h:\\anaconda\\lib\\site-packages (from requests->vaderSentiment) (2020.6.20)\n",
      "Requirement already satisfied: idna<3,>=2.5 in h:\\anaconda\\lib\\site-packages (from requests->vaderSentiment) (2.10)\n",
      "Requirement already satisfied: chardet<4,>=3.0.2 in h:\\anaconda\\lib\\site-packages (from requests->vaderSentiment) (3.0.4)\n",
      "Requirement already satisfied: urllib3!=1.25.0,!=1.25.1,<1.26,>=1.21.1 in h:\\anaconda\\lib\\site-packages (from requests->vaderSentiment) (1.25.9)\n",
      "Installing collected packages: vaderSentiment\n",
      "Successfully installed vaderSentiment-3.3.2\n"
     ]
    }
   ],
   "source": [
    "! pip install vaderSentiment"
   ]
  },
  {
   "cell_type": "code",
   "execution_count": 9,
   "metadata": {},
   "outputs": [],
   "source": [
    "import nltk"
   ]
  },
  {
   "cell_type": "code",
   "execution_count": 17,
   "metadata": {},
   "outputs": [
    {
     "name": "stderr",
     "output_type": "stream",
     "text": [
      "[nltk_data] Downloading package vader_lexicon to\n",
      "[nltk_data]     C:\\Users\\ADMIN\\AppData\\Roaming\\nltk_data...\n"
     ]
    },
    {
     "data": {
      "text/plain": [
       "True"
      ]
     },
     "execution_count": 17,
     "metadata": {},
     "output_type": "execute_result"
    }
   ],
   "source": [
    "import nltk\n",
    "nltk.downloader.download('vader_lexicon')"
   ]
  },
  {
   "cell_type": "code",
   "execution_count": 6,
   "metadata": {},
   "outputs": [],
   "source": [
    "from nltk.sentiment.vader import SentimentIntensityAnalyzer"
   ]
  },
  {
   "cell_type": "code",
   "execution_count": 7,
   "metadata": {},
   "outputs": [],
   "source": [
    "sia = SentimentIntensityAnalyzer()"
   ]
  },
  {
   "cell_type": "code",
   "execution_count": 12,
   "metadata": {},
   "outputs": [
    {
     "ename": "NameError",
     "evalue": "name 'df' is not defined",
     "output_type": "error",
     "traceback": [
      "\u001b[1;31m---------------------------------------------------------------------------\u001b[0m",
      "\u001b[1;31mNameError\u001b[0m                                 Traceback (most recent call last)",
      "\u001b[1;32m<ipython-input-12-746287c57a55>\u001b[0m in \u001b[0;36m<module>\u001b[1;34m\u001b[0m\n\u001b[1;32m----> 1\u001b[1;33m \u001b[0mdf\u001b[0m\u001b[1;33m[\u001b[0m\u001b[1;34m'score'\u001b[0m\u001b[1;33m]\u001b[0m \u001b[1;33m=\u001b[0m \u001b[0mdf\u001b[0m\u001b[1;33m[\u001b[0m\u001b[1;34m'reviews.text'\u001b[0m\u001b[1;33m]\u001b[0m\u001b[1;33m.\u001b[0m\u001b[0mapply\u001b[0m\u001b[1;33m(\u001b[0m\u001b[1;32mlambda\u001b[0m \u001b[0mx\u001b[0m\u001b[1;33m:\u001b[0m\u001b[0msia\u001b[0m\u001b[1;33m.\u001b[0m\u001b[0mpolarity_scores\u001b[0m\u001b[1;33m(\u001b[0m\u001b[0mstr\u001b[0m\u001b[1;33m(\u001b[0m\u001b[0mx\u001b[0m\u001b[1;33m)\u001b[0m\u001b[1;33m)\u001b[0m\u001b[1;33m)\u001b[0m\u001b[1;33m\u001b[0m\u001b[1;33m\u001b[0m\u001b[0m\n\u001b[0m",
      "\u001b[1;31mNameError\u001b[0m: name 'df' is not defined"
     ]
    }
   ],
   "source": [
    "df['score'] = df['reviews.text'].apply(lambda x:sia.polarity_scores(str(x)))"
   ]
  },
  {
   "cell_type": "code",
   "execution_count": 22,
   "metadata": {},
   "outputs": [
    {
     "data": {
      "text/plain": [
       "{'neg': 0.0, 'neu': 0.828, 'pos': 0.172, 'compound': 0.3612}"
      ]
     },
     "execution_count": 22,
     "metadata": {},
     "output_type": "execute_result"
    }
   ],
   "source": [
    "df.iloc[1,-1]"
   ]
  },
  {
   "cell_type": "code",
   "execution_count": 23,
   "metadata": {},
   "outputs": [],
   "source": [
    "def polar_score(text):\n",
    "    score = sia.polarity_scores(str(text))\n",
    "    x = score['compound']\n",
    "    return x"
   ]
  },
  {
   "cell_type": "code",
   "execution_count": 24,
   "metadata": {},
   "outputs": [],
   "source": [
    "df['Compound_Score'] = df['reviews.text'].apply(lambda x: polar_score(x))"
   ]
  },
  {
   "cell_type": "code",
   "execution_count": 25,
   "metadata": {},
   "outputs": [
    {
     "data": {
      "text/plain": [
       "categories             AA,AAA,Health,Electronics,Health & Household,C...\n",
       "name                   AmazonBasics AAA Performance Alkaline Batterie...\n",
       "primaryCategories                                            Electronics\n",
       "reviews.date                                    2016-08-31T00:00:00.000Z\n",
       "reviews.doRecommend                                                  NaN\n",
       "reviews.numHelpful                                                   NaN\n",
       "reviews.rating                                                         4\n",
       "reviews.text           Bulk is always the less expensive way to go fo...\n",
       "reviews.title          ... always the less expensive way to go for pr...\n",
       "reviews.username                                                    ByMG\n",
       "score                  {'neg': 0.0, 'neu': 0.828, 'pos': 0.172, 'comp...\n",
       "Compound_Score                                                    0.3612\n",
       "Name: 1, dtype: object"
      ]
     },
     "execution_count": 25,
     "metadata": {},
     "output_type": "execute_result"
    }
   ],
   "source": [
    "df.iloc[1]"
   ]
  },
  {
   "cell_type": "code",
   "execution_count": 26,
   "metadata": {},
   "outputs": [
    {
     "data": {
      "text/html": [
       "<div>\n",
       "<style scoped>\n",
       "    .dataframe tbody tr th:only-of-type {\n",
       "        vertical-align: middle;\n",
       "    }\n",
       "\n",
       "    .dataframe tbody tr th {\n",
       "        vertical-align: top;\n",
       "    }\n",
       "\n",
       "    .dataframe thead th {\n",
       "        text-align: right;\n",
       "    }\n",
       "</style>\n",
       "<table border=\"1\" class=\"dataframe\">\n",
       "  <thead>\n",
       "    <tr style=\"text-align: right;\">\n",
       "      <th></th>\n",
       "      <th>categories</th>\n",
       "      <th>name</th>\n",
       "      <th>primaryCategories</th>\n",
       "      <th>reviews.date</th>\n",
       "      <th>reviews.doRecommend</th>\n",
       "      <th>reviews.numHelpful</th>\n",
       "      <th>reviews.rating</th>\n",
       "      <th>reviews.text</th>\n",
       "      <th>reviews.title</th>\n",
       "      <th>reviews.username</th>\n",
       "      <th>score</th>\n",
       "      <th>Compound_Score</th>\n",
       "    </tr>\n",
       "  </thead>\n",
       "  <tbody>\n",
       "    <tr>\n",
       "      <th>0</th>\n",
       "      <td>AA,AAA,Health,Electronics,Health &amp; Household,C...</td>\n",
       "      <td>AmazonBasics AAA Performance Alkaline Batterie...</td>\n",
       "      <td>Electronics</td>\n",
       "      <td>2017-03-02T00:00:00.000Z</td>\n",
       "      <td>NaN</td>\n",
       "      <td>NaN</td>\n",
       "      <td>3.0</td>\n",
       "      <td>I order 3 of them and one of the item is bad q...</td>\n",
       "      <td>... 3 of them and one of the item is bad quali...</td>\n",
       "      <td>Byger yang</td>\n",
       "      <td>{'neg': 0.186, 'neu': 0.814, 'pos': 0.0, 'comp...</td>\n",
       "      <td>-0.6908</td>\n",
       "    </tr>\n",
       "    <tr>\n",
       "      <th>1</th>\n",
       "      <td>AA,AAA,Health,Electronics,Health &amp; Household,C...</td>\n",
       "      <td>AmazonBasics AAA Performance Alkaline Batterie...</td>\n",
       "      <td>Electronics</td>\n",
       "      <td>2016-08-31T00:00:00.000Z</td>\n",
       "      <td>NaN</td>\n",
       "      <td>NaN</td>\n",
       "      <td>4.0</td>\n",
       "      <td>Bulk is always the less expensive way to go fo...</td>\n",
       "      <td>... always the less expensive way to go for pr...</td>\n",
       "      <td>ByMG</td>\n",
       "      <td>{'neg': 0.0, 'neu': 0.828, 'pos': 0.172, 'comp...</td>\n",
       "      <td>0.3612</td>\n",
       "    </tr>\n",
       "  </tbody>\n",
       "</table>\n",
       "</div>"
      ],
      "text/plain": [
       "                                          categories  \\\n",
       "0  AA,AAA,Health,Electronics,Health & Household,C...   \n",
       "1  AA,AAA,Health,Electronics,Health & Household,C...   \n",
       "\n",
       "                                                name primaryCategories  \\\n",
       "0  AmazonBasics AAA Performance Alkaline Batterie...       Electronics   \n",
       "1  AmazonBasics AAA Performance Alkaline Batterie...       Electronics   \n",
       "\n",
       "               reviews.date reviews.doRecommend  reviews.numHelpful  \\\n",
       "0  2017-03-02T00:00:00.000Z                 NaN                 NaN   \n",
       "1  2016-08-31T00:00:00.000Z                 NaN                 NaN   \n",
       "\n",
       "   reviews.rating                                       reviews.text  \\\n",
       "0             3.0  I order 3 of them and one of the item is bad q...   \n",
       "1             4.0  Bulk is always the less expensive way to go fo...   \n",
       "\n",
       "                                       reviews.title reviews.username  \\\n",
       "0  ... 3 of them and one of the item is bad quali...       Byger yang   \n",
       "1  ... always the less expensive way to go for pr...             ByMG   \n",
       "\n",
       "                                               score  Compound_Score  \n",
       "0  {'neg': 0.186, 'neu': 0.814, 'pos': 0.0, 'comp...         -0.6908  \n",
       "1  {'neg': 0.0, 'neu': 0.828, 'pos': 0.172, 'comp...          0.3612  "
      ]
     },
     "execution_count": 26,
     "metadata": {},
     "output_type": "execute_result"
    }
   ],
   "source": [
    "df.head(2)"
   ]
  },
  {
   "cell_type": "code",
   "execution_count": 13,
   "metadata": {},
   "outputs": [],
   "source": [
    "import seaborn as sns"
   ]
  },
  {
   "cell_type": "raw",
   "metadata": {},
   "source": [
    "Polarity score vs. ratings\n",
    "unsupervised outlier detection: isolation forest\n",
    "\n",
    "outlier detection for 2 columns - research\n",
    "\n",
    "EDA \n",
    "\n",
    "For synopsis:\n",
    "- Project desc - problem statement\n",
    "               - dataset (records vs features)\n",
    "               - source\n",
    "               \n",
    "Main objective: \n",
    "identify the mismatches between ratings and reviews and rectify the ratings.*\n",
    "\n",
    "Unsupervised model: isolation forest, algo > clustering - DBscan"
   ]
  },
  {
   "cell_type": "code",
   "execution_count": 28,
   "metadata": {
    "scrolled": false
   },
   "outputs": [
    {
     "data": {
      "text/plain": [
       "<matplotlib.axes._subplots.AxesSubplot at 0x2dcdfa72d90>"
      ]
     },
     "execution_count": 28,
     "metadata": {},
     "output_type": "execute_result"
    },
    {
     "data": {
      "image/png": "[encoded data removed]",
      "text/plain": [
       "<Figure size 432x288 with 1 Axes>"
      ]
     },
     "metadata": {
      "needs_background": "light"
     },
     "output_type": "display_data"
    }
   ],
   "source": [
    "sns.distplot(df['reviews.rating'], bins= 5)"
   ]
  },
  {
   "cell_type": "code",
   "execution_count": 29,
   "metadata": {},
   "outputs": [
    {
     "data": {
      "text/plain": [
       "<matplotlib.axes._subplots.AxesSubplot at 0x2dce01c1520>"
      ]
     },
     "execution_count": 29,
     "metadata": {},
     "output_type": "execute_result"
    },
    {
     "data": {
      "image/png": "[encoded data removed]",
      "text/plain": [
       "<Figure size 432x288 with 1 Axes>"
      ]
     },
     "metadata": {
      "needs_background": "light"
     },
     "output_type": "display_data"
    }
   ],
   "source": [
    "sns.distplot(df['Compound_Score'], bins=10)"
   ]
  },
  {
   "cell_type": "code",
   "execution_count": 30,
   "metadata": {},
   "outputs": [
    {
     "data": {
      "text/plain": [
       "5.0    47150\n",
       "4.0    15397\n",
       "3.0     2902\n",
       "1.0     1438\n",
       "2.0     1072\n",
       "Name: reviews.rating, dtype: int64"
      ]
     },
     "execution_count": 30,
     "metadata": {},
     "output_type": "execute_result"
    }
   ],
   "source": [
    "df['reviews.rating'].value_counts()"
   ]
  },
  {
   "cell_type": "code",
   "execution_count": 31,
   "metadata": {},
   "outputs": [
    {
     "data": {
      "text/plain": [
       "(1438, 1072, 2902, 15397, 47150)"
      ]
     },
     "execution_count": 31,
     "metadata": {},
     "output_type": "execute_result"
    }
   ],
   "source": [
    "r1 = df.loc[df['reviews.rating']==1].shape\n",
    "r2 = df.loc[df['reviews.rating']==2].shape\n",
    "r3 = df.loc[df['reviews.rating']==3].shape\n",
    "r4 = df.loc[df['reviews.rating']==4].shape\n",
    "r5 = df.loc[df['reviews.rating']==5].shape\n",
    "r1[0],r2[0],r3[0],r4[0],r5[0]"
   ]
  },
  {
   "cell_type": "code",
   "execution_count": 32,
   "metadata": {},
   "outputs": [
    {
     "data": {
      "text/plain": [
       "(2.1159816948454218,\n",
       " 1.5774216807192571,\n",
       " 4.270221751350078,\n",
       " 22.656307479509703,\n",
       " 69.38006739357554)"
      ]
     },
     "execution_count": 32,
     "metadata": {},
     "output_type": "execute_result"
    }
   ],
   "source": [
    "leng = (df.loc[(df['reviews.rating']==5) | (df['reviews.rating']==4) | (df['reviews.rating']==3) | (df['reviews.rating']==2) |(df['reviews.rating']==1)]).shape[0]\n",
    "\n",
    "# Percentage of ratings\n",
    "\n",
    "r1[0]/leng*100,r2[0]/leng*100, r3[0]/leng*100,r4[0]/leng*100,r5[0]/leng*100"
   ]
  },
  {
   "cell_type": "code",
   "execution_count": 14,
   "metadata": {},
   "outputs": [
    {
     "ename": "NameError",
     "evalue": "name 'df' is not defined",
     "output_type": "error",
     "traceback": [
      "\u001b[1;31m---------------------------------------------------------------------------\u001b[0m",
      "\u001b[1;31mNameError\u001b[0m                                 Traceback (most recent call last)",
      "\u001b[1;32m<ipython-input-14-8b14f4c02a5d>\u001b[0m in \u001b[0;36m<module>\u001b[1;34m\u001b[0m\n\u001b[1;32m----> 1\u001b[1;33m \u001b[0msns\u001b[0m\u001b[1;33m.\u001b[0m\u001b[0mviolinplot\u001b[0m\u001b[1;33m(\u001b[0m\u001b[0mdf\u001b[0m\u001b[1;33m[\u001b[0m\u001b[1;34m'reviews.rating'\u001b[0m\u001b[1;33m]\u001b[0m\u001b[1;33m,\u001b[0m\u001b[0mdf\u001b[0m\u001b[1;33m[\u001b[0m\u001b[1;34m'Compound_Score'\u001b[0m\u001b[1;33m]\u001b[0m\u001b[1;33m)\u001b[0m\u001b[1;33m\u001b[0m\u001b[1;33m\u001b[0m\u001b[0m\n\u001b[0m",
      "\u001b[1;31mNameError\u001b[0m: name 'df' is not defined"
     ]
    }
   ],
   "source": [
    "sns.violinplot(df['reviews.rating'],df['Compound_Score'])"
   ]
  },
  {
   "cell_type": "code",
   "execution_count": 34,
   "metadata": {},
   "outputs": [
    {
     "data": {
      "text/plain": [
       "<matplotlib.axes._subplots.AxesSubplot at 0x2dcdaf67160>"
      ]
     },
     "execution_count": 34,
     "metadata": {},
     "output_type": "execute_result"
    },
    {
     "data": {
      "image/png": "[encoded data removed]",
      "text/plain": [
       "<Figure size 432x288 with 1 Axes>"
      ]
     },
     "metadata": {
      "needs_background": "light"
     },
     "output_type": "display_data"
    }
   ],
   "source": [
    "sns.scatterplot(df['Compound_Score'], df['reviews.rating'])"
   ]
  },
  {
   "cell_type": "code",
   "execution_count": 35,
   "metadata": {},
   "outputs": [
    {
     "data": {
      "image/png": "[encoded data removed]",
      "text/plain": [
       "<Figure size 432x288 with 1 Axes>"
      ]
     },
     "metadata": {
      "needs_background": "light"
     },
     "output_type": "display_data"
    }
   ],
   "source": [
    "import matplotlib.pyplot as plt\n",
    "\n",
    "sns.boxplot(df['reviews.rating'])\n",
    "plt.show()"
   ]
  },
  {
   "cell_type": "code",
   "execution_count": 28,
   "metadata": {},
   "outputs": [
    {
     "name": "stdout",
     "output_type": "stream",
     "text": [
      "<class 'pandas.core.frame.DataFrame'>\n",
      "Int64Index: 67992 entries, 0 to 34659\n",
      "Data columns (total 12 columns):\n",
      " #   Column               Non-Null Count  Dtype  \n",
      "---  ------               --------------  -----  \n",
      " 0   categories           67992 non-null  object \n",
      " 1   name                 61232 non-null  object \n",
      " 2   primaryCategories    66300 non-null  object \n",
      " 3   reviews.date         67953 non-null  object \n",
      " 4   reviews.doRecommend  55152 non-null  object \n",
      " 5   reviews.numHelpful   55246 non-null  float64\n",
      " 6   reviews.rating       67959 non-null  float64\n",
      " 7   reviews.text         67991 non-null  object \n",
      " 8   reviews.title        67974 non-null  object \n",
      " 9   reviews.username     67990 non-null  object \n",
      " 10  score                67992 non-null  object \n",
      " 11  Compound_Score       67992 non-null  float64\n",
      "dtypes: float64(3), object(9)\n",
      "memory usage: 9.2+ MB\n"
     ]
    }
   ],
   "source": [
    "df.info()"
   ]
  },
  {
   "cell_type": "code",
   "execution_count": 31,
   "metadata": {},
   "outputs": [
    {
     "data": {
      "text/plain": [
       "True     52800\n",
       "False     2352\n",
       "Name: reviews.doRecommend, dtype: int64"
      ]
     },
     "execution_count": 31,
     "metadata": {},
     "output_type": "execute_result"
    }
   ],
   "source": [
    "df['reviews.doRecommend'].value_counts()"
   ]
  },
  {
   "cell_type": "code",
   "execution_count": 33,
   "metadata": {},
   "outputs": [
    {
     "data": {
      "text/plain": [
       "0.0      50356\n",
       "1.0       2773\n",
       "2.0        913\n",
       "3.0        302\n",
       "4.0        193\n",
       "         ...  \n",
       "302.0        1\n",
       "185.0        1\n",
       "41.0         1\n",
       "740.0        1\n",
       "98.0         1\n",
       "Name: reviews.numHelpful, Length: 114, dtype: int64"
      ]
     },
     "execution_count": 33,
     "metadata": {},
     "output_type": "execute_result"
    }
   ],
   "source": [
    "df['reviews.numHelpful'].value_counts()"
   ]
  },
  {
   "cell_type": "code",
   "execution_count": 99,
   "metadata": {},
   "outputs": [
    {
     "data": {
      "text/html": [
       "<div>\n",
       "<style scoped>\n",
       "    .dataframe tbody tr th:only-of-type {\n",
       "        vertical-align: middle;\n",
       "    }\n",
       "\n",
       "    .dataframe tbody tr th {\n",
       "        vertical-align: top;\n",
       "    }\n",
       "\n",
       "    .dataframe thead th {\n",
       "        text-align: right;\n",
       "    }\n",
       "</style>\n",
       "<table border=\"1\" class=\"dataframe\">\n",
       "  <thead>\n",
       "    <tr style=\"text-align: right;\">\n",
       "      <th></th>\n",
       "      <th>reviews.text</th>\n",
       "      <th>Compound_Score</th>\n",
       "    </tr>\n",
       "  </thead>\n",
       "  <tbody>\n",
       "    <tr>\n",
       "      <th>1959</th>\n",
       "      <td>Good price. Shipped fast.</td>\n",
       "      <td>0.4404</td>\n",
       "    </tr>\n",
       "    <tr>\n",
       "      <th>3874</th>\n",
       "      <td>For some reason none of these batteries worked. Not sure what was wrong this time. I've bought them before and had no problems. Luckily amazon took it back without a problem</td>\n",
       "      <td>-0.4027</td>\n",
       "    </tr>\n",
       "    <tr>\n",
       "      <th>4316</th>\n",
       "      <td>Great price but not long lasting in comparison to higher priced competitors. I got about 1/5 of the life I would with Duracell.</td>\n",
       "      <td>0.3716</td>\n",
       "    </tr>\n",
       "    <tr>\n",
       "      <th>4329</th>\n",
       "      <td>There batteries do not last as long as Sam's or Costco brand batteries.</td>\n",
       "      <td>0.0000</td>\n",
       "    </tr>\n",
       "    <tr>\n",
       "      <th>4383</th>\n",
       "      <td>Good price but I can't tell if these last as long as Duracell. AmazonBasics with Amazon Prime are a great deal though, and I'd probably buy them again. I haven't had any problems with corrosion or other concerns.</td>\n",
       "      <td>0.9107</td>\n",
       "    </tr>\n",
       "    <tr>\n",
       "      <th>4454</th>\n",
       "      <td>These batteries work great but they don't last as long as name brand batteries but that's ok. We mostly bought them for my toddler's toys and they work well enough for that!-As a wife and as a mom of 3 kids, I spend a lot of time shopping for deals on the best products out there for my family. It's important to me that if we're spending our hard earned money that we get a top notch product in return. I often rely on the reviews and opinions of others when contemplating purchasing a new product that I haven't tried before myself. Because of that, any products that I buy (whether on Amazon or from a 3rd party) I always make sure to leave a detailed review of the product to help others when selecting items to purchase, as well. My family tests these products fully before forming a solid opinion and writing a review. When I write a review, I keep in mind that those reading are also looking for honesty about the product and want an unbiased opinion to go by. If my review has been helpful to you, please give me a Yes vote on my review. Thank you!</td>\n",
       "      <td>0.9934</td>\n",
       "    </tr>\n",
       "    <tr>\n",
       "      <th>4514</th>\n",
       "      <td>I have not had them long but they seem to be doing the job that is required. I will check back in later to discuss battery life if I remember. I will say, that I could have found batteries a bit cheaper around town and on the internet so I probably will not buy these again for this reason.</td>\n",
       "      <td>0.0000</td>\n",
       "    </tr>\n",
       "    <tr>\n",
       "      <th>4516</th>\n",
       "      <td>Maybe a great value but many in the pack are DOA.</td>\n",
       "      <td>-0.5105</td>\n",
       "    </tr>\n",
       "    <tr>\n",
       "      <th>4603</th>\n",
       "      <td>These are good if you're broke and just need to get by. They work, but like other reviewers are saying, they don't last as long as other brands or rechargeable batteries. If you have the money, invest in batteries that last longer and tax the environment less.</td>\n",
       "      <td>0.5106</td>\n",
       "    </tr>\n",
       "    <tr>\n",
       "      <th>4607</th>\n",
       "      <td>Just regular AA batteries at a decent price.</td>\n",
       "      <td>0.0000</td>\n",
       "    </tr>\n",
       "    <tr>\n",
       "      <th>4636</th>\n",
       "      <td>I had such a good experience with Amazon D batteries that I ordered some of their 2A batteries. The 2A batteries seemed much weaker out of the box. When I changed out a pair in my clock today, they had leaked and were stuck together. Making it difficult to remove them. I looked at the packaging for the new ones and noticed that they were made in Indonesia. After reading the reviews, it seems like it may be a matter of luck whether you get really good batteries for the price or really bad batteries at any price. I like to play blackjack so I will probably order one more time to see how lucky I get.</td>\n",
       "      <td>0.7436</td>\n",
       "    </tr>\n",
       "    <tr>\n",
       "      <th>4654</th>\n",
       "      <td>Goof</td>\n",
       "      <td>0.0000</td>\n",
       "    </tr>\n",
       "    <tr>\n",
       "      <th>4655</th>\n",
       "      <td>Great price. Too soon to tell if it is a great value.</td>\n",
       "      <td>0.8910</td>\n",
       "    </tr>\n",
       "    <tr>\n",
       "      <th>4657</th>\n",
       "      <td>Not tested so I'm not sure of quality</td>\n",
       "      <td>-0.3017</td>\n",
       "    </tr>\n",
       "    <tr>\n",
       "      <th>4666</th>\n",
       "      <td>I was excited to expand more into the AmazonBasics brand since all previous purchases have been very well received. However, these batteries were not optimal for devices that are constantly on. We used them in gaming controllers for XBox and each set of 2 would make it about 1 day of constant family gaming/TV usage.It's very possible we received a bad batch but due to going through the entire pack in just 2 weeks compared to other brands I will have to steer clear from these in the future.</td>\n",
       "      <td>0.5635</td>\n",
       "    </tr>\n",
       "    <tr>\n",
       "      <th>4683</th>\n",
       "      <td>Good price. Have used in my TV remote and had to change batteries after2 months. Other brand of batteries have lasted longer. Get what you pay for.</td>\n",
       "      <td>0.3612</td>\n",
       "    </tr>\n",
       "    <tr>\n",
       "      <th>4698</th>\n",
       "      <td>Good price but quality is not really reliable.Some of them run out power real quick and others last super long.After 6 months storage, already have one pack of the batteries generates white powder type of corrosion (indoor, dry cool place, not used yet). Not sure it is quality control issue or stay in their shelf too long before shipping.</td>\n",
       "      <td>0.8319</td>\n",
       "    </tr>\n",
       "    <tr>\n",
       "      <th>4702</th>\n",
       "      <td>Good price. When new, they tested on the low end of good with my voltmeter. I'll add to my post after I've had a chance to test battery life.</td>\n",
       "      <td>0.6908</td>\n",
       "    </tr>\n",
       "    <tr>\n",
       "      <th>4726</th>\n",
       "      <td>Very good price for batteries, and they work flawlessly. Unfortunately, they don't come in their own Container to keep them together after opening. This means you need to have a small ziploc or something to store them in, or you are just going to have a bunch of loose batteries rolling around all over the place.</td>\n",
       "      <td>0.0754</td>\n",
       "    </tr>\n",
       "    <tr>\n",
       "      <th>4839</th>\n",
       "      <td>I hate running out of batteries so I bought this giant pack. It's a good value and the batteries seem to have plenty of juice for normal, non-hardcore activities (TV remotes, flashlights, that kind of thing). I haven't tried them in any high-power devices like digital cameras or remote control cars not sure if they would be the best choice in that case.Edit: they do not last as long as Duracells or Energizers</td>\n",
       "      <td>0.8417</td>\n",
       "    </tr>\n",
       "    <tr>\n",
       "      <th>4852</th>\n",
       "      <td>Did not last as long as expected but good value for price.</td>\n",
       "      <td>0.7876</td>\n",
       "    </tr>\n",
       "    <tr>\n",
       "      <th>4880</th>\n",
       "      <td>For the price, you can't really go wrong. But they don'5 last long.The only problem is that the battery life is not long at all. If you are using these in a TV Remote (or similar remotes) they will last 3-4 months.If you use these in a flashlight or power toothbrush (or similar items), they only last about a month.It seems that these don't last long in items that you need to use daily for longer periods of time. But, if you are using these for a TV/STB Remote or a holiday decoration that plays music, they will last much longer (approx 3-4 months).</td>\n",
       "      <td>0.5803</td>\n",
       "    </tr>\n",
       "    <tr>\n",
       "      <th>5248</th>\n",
       "      <td>Great price. Not too amazing in terms of battery life, but I do not think that you could get a better deal.</td>\n",
       "      <td>0.6558</td>\n",
       "    </tr>\n",
       "    <tr>\n",
       "      <th>5340</th>\n",
       "      <td>Great value for kid's toys, but they don't have the longevity of Duracells by any stretch. Definitely worth buying if you need a lot of batteries for cheap to top off all the noisemakers and remotes in your house, but I wouldn't throw them in flashlights or other higher-drain devices.</td>\n",
       "      <td>0.8847</td>\n",
       "    </tr>\n",
       "    <tr>\n",
       "      <th>5511</th>\n",
       "      <td>Great price for these alkaline batteries. Being that they are AAA there is not much of a power drain for devices like remote control. I found that the AA amazon basic batteries will not last as long as as you named brand alkaline batteries.</td>\n",
       "      <td>0.8074</td>\n",
       "    </tr>\n",
       "    <tr>\n",
       "      <th>5804</th>\n",
       "      <td>I was very surprised as the batteries I got were in date but didn't work very long compared to a generic AA drug store variety. Probably just got a bad batch but I ended up replacing them very quickly in remotes especially.</td>\n",
       "      <td>-0.6314</td>\n",
       "    </tr>\n",
       "    <tr>\n",
       "      <th>5823</th>\n",
       "      <td>They are packaged by 4s and the plastic is really hard to get off.</td>\n",
       "      <td>-0.1761</td>\n",
       "    </tr>\n",
       "    <tr>\n",
       "      <th>5828</th>\n",
       "      <td>Don't know if it's my camera or the batteries but they seem to run down pretty quickly</td>\n",
       "      <td>0.6486</td>\n",
       "    </tr>\n",
       "    <tr>\n",
       "      <th>5862</th>\n",
       "      <td>Not lasting very long. I read the reviews and expected better life out of these batteries. In comparison to Duracell they seem to last about 75 as long. I find that both the AA and AAA are sub-par in longevity. Perhaps that is the way I use them but I really expected more.</td>\n",
       "      <td>0.2382</td>\n",
       "    </tr>\n",
       "    <tr>\n",
       "      <th>5869</th>\n",
       "      <td>These are batteries what else can one say did anyone get silver batteries instead of white Hopefully they will be better than the previous version.</td>\n",
       "      <td>0.6808</td>\n",
       "    </tr>\n",
       "    <tr>\n",
       "      <th>5906</th>\n",
       "      <td>These have a very short life. I do not recommend this brand</td>\n",
       "      <td>-0.2755</td>\n",
       "    </tr>\n",
       "    <tr>\n",
       "      <th>5910</th>\n",
       "      <td>I use a headlamp at work all day and everyday. I decided to try these instead of the duracells that I normally use and they definently don't last nearly as long. I don't understand all the good reviews about these. I won't purchase again.</td>\n",
       "      <td>0.4404</td>\n",
       "    </tr>\n",
       "    <tr>\n",
       "      <th>5936</th>\n",
       "      <td>I haven't really kept track meticulously but these batteries don't seem to last as long as Kirkland brand or Duracell.</td>\n",
       "      <td>0.0000</td>\n",
       "    </tr>\n",
       "    <tr>\n",
       "      <th>5981</th>\n",
       "      <td>I purchased these for the office as everyone has an Apple mouse that uses AA batteries. I found myself changing batteries on my mouse almost every month with these batteries. Yes they work, but not for long. We purchased these in September and we blew through these in 2.5 months with 16 employees. With Duracell batteries, which I purchased again, they last much longer, several months instead of just one month.</td>\n",
       "      <td>0.2144</td>\n",
       "    </tr>\n",
       "    <tr>\n",
       "      <th>5994</th>\n",
       "      <td>Don't seem to last long. I think dollar general batteries are just as good.</td>\n",
       "      <td>0.4404</td>\n",
       "    </tr>\n",
       "    <tr>\n",
       "      <th>6009</th>\n",
       "      <td>I used these batteries with my LED lights. It works but it doesn't last long. I used Duracell batteries the same price last much longer.</td>\n",
       "      <td>0.0000</td>\n",
       "    </tr>\n",
       "    <tr>\n",
       "      <th>6025</th>\n",
       "      <td>I primarily use these for my noise cancelling headphones and wireless mouse. Overall, for the price, this is an okay product. I do not get the longevity I received when buying other brands, but for the price and quantity it seems to all equal out. I would not recommend using them for vital devices nor rely on them in emergencies.</td>\n",
       "      <td>0.0477</td>\n",
       "    </tr>\n",
       "    <tr>\n",
       "      <th>6027</th>\n",
       "      <td>Wish I had opened the package all the way as soon as I received it because several of the batteries had leaked and caused corrosion on several more. Learned one this time.</td>\n",
       "      <td>0.1027</td>\n",
       "    </tr>\n",
       "    <tr>\n",
       "      <th>6029</th>\n",
       "      <td>Batteries are decent. I wouldn't consider them better than Duracell or Energizer but the price is right.</td>\n",
       "      <td>0.0892</td>\n",
       "    </tr>\n",
       "    <tr>\n",
       "      <th>6037</th>\n",
       "      <td>I miss the bunny with the drum.</td>\n",
       "      <td>-0.1531</td>\n",
       "    </tr>\n",
       "    <tr>\n",
       "      <th>6056</th>\n",
       "      <td>These are OK. Used to Rayovacs to save but, these cost the same and seem to last about 3/4 as much as the other brand. Mostly used for Xbox controllers and Mac mice/keyboard.</td>\n",
       "      <td>0.4707</td>\n",
       "    </tr>\n",
       "    <tr>\n",
       "      <th>6074</th>\n",
       "      <td>Work fine but I have had a couple start leaking in less than a month. Worried this may happen while in electronics.</td>\n",
       "      <td>-0.2510</td>\n",
       "    </tr>\n",
       "    <tr>\n",
       "      <th>6086</th>\n",
       "      <td>IT'S A BATTERY</td>\n",
       "      <td>0.0000</td>\n",
       "    </tr>\n",
       "    <tr>\n",
       "      <th>6089</th>\n",
       "      <td>I mean, it's a crap ton of batteries for a decent price. They just die quickly.</td>\n",
       "      <td>-0.7579</td>\n",
       "    </tr>\n",
       "    <tr>\n",
       "      <th>6100</th>\n",
       "      <td>Its a battery nothing much to say. I usually buy at costco but the convenience of the free delivery was the decision breaker this time.</td>\n",
       "      <td>0.6652</td>\n",
       "    </tr>\n",
       "    <tr>\n",
       "      <th>6111</th>\n",
       "      <td>These batteries are just adequate not super strong as advertised.</td>\n",
       "      <td>-0.6057</td>\n",
       "    </tr>\n",
       "    <tr>\n",
       "      <th>6144</th>\n",
       "      <td>I haven't done any scientific research on how long these last compared to other batteries, I can only give you my layman's experience. I use the exact same amount of battery usage every day and have tried pretty much every brand of battery (I don't hear that well so I wear headphones for my television and I wear them the same number of hours per day).The AmazonBasics batteries don't last nearly as long as any other battery. My headphones start getting fuzzy about twelve hours earlier than they normally would with any other the batteries I've ever used. I went through this package a week earlier than I would a 24-pack of either Duracell or Energizer. In some usages this might not matter but for me, it just wasn't worth it to buy these.</td>\n",
       "      <td>0.2161</td>\n",
       "    </tr>\n",
       "    <tr>\n",
       "      <th>6151</th>\n",
       "      <td>Great for small gadgets and remotes. Don't expect to run anythinh more. Could handle a set of battery power hair clippers.</td>\n",
       "      <td>0.6249</td>\n",
       "    </tr>\n",
       "    <tr>\n",
       "      <th>6152</th>\n",
       "      <td>I bought these but will not reorder. They work but seem to go flat rather quickly.</td>\n",
       "      <td>0.0000</td>\n",
       "    </tr>\n",
       "    <tr>\n",
       "      <th>6153</th>\n",
       "      <td>do not seem to last as long as other batteries</td>\n",
       "      <td>0.0000</td>\n",
       "    </tr>\n",
       "  </tbody>\n",
       "</table>\n",
       "</div>"
      ],
      "text/plain": [
       "                                                                                                                                                                                                                                                                                                                                                                                                                                                                                                                                                                                                                                                                                                                                                                                                                                                                                                                                                                                                                                                                                          reviews.text  \\\n",
       "1959  Good price. Shipped fast.                                                                                                                                                                                                                                                                                                                                                                                                                                                                                                                                                                                                                                                                                                                                                                                                                                                                                                                                                                                                                                                                          \n",
       "3874  For some reason none of these batteries worked. Not sure what was wrong this time. I've bought them before and had no problems. Luckily amazon took it back without a problem                                                                                                                                                                                                                                                                                                                                                                                                                                                                                                                                                                                                                                                                                                                                                                                                                                                                                                                      \n",
       "4316  Great price but not long lasting in comparison to higher priced competitors. I got about 1/5 of the life I would with Duracell.                                                                                                                                                                                                                                                                                                                                                                                                                                                                                                                                                                                                                                                                                                                                                                                                                                                                                                                                                                    \n",
       "4329  There batteries do not last as long as Sam's or Costco brand batteries.                                                                                                                                                                                                                                                                                                                                                                                                                                                                                                                                                                                                                                                                                                                                                                                                                                                                                                                                                                                                                            \n",
       "4383  Good price but I can't tell if these last as long as Duracell. AmazonBasics with Amazon Prime are a great deal though, and I'd probably buy them again. I haven't had any problems with corrosion or other concerns.                                                                                                                                                                                                                                                                                                                                                                                                                                                                                                                                                                                                                                                                                                                                                                                                                                                                               \n",
       "4454  These batteries work great but they don't last as long as name brand batteries but that's ok. We mostly bought them for my toddler's toys and they work well enough for that!-As a wife and as a mom of 3 kids, I spend a lot of time shopping for deals on the best products out there for my family. It's important to me that if we're spending our hard earned money that we get a top notch product in return. I often rely on the reviews and opinions of others when contemplating purchasing a new product that I haven't tried before myself. Because of that, any products that I buy (whether on Amazon or from a 3rd party) I always make sure to leave a detailed review of the product to help others when selecting items to purchase, as well. My family tests these products fully before forming a solid opinion and writing a review. When I write a review, I keep in mind that those reading are also looking for honesty about the product and want an unbiased opinion to go by. If my review has been helpful to you, please give me a Yes vote on my review. Thank you!   \n",
       "4514  I have not had them long but they seem to be doing the job that is required. I will check back in later to discuss battery life if I remember. I will say, that I could have found batteries a bit cheaper around town and on the internet so I probably will not buy these again for this reason.                                                                                                                                                                                                                                                                                                                                                                                                                                                                                                                                                                                                                                                                                                                                                                                                 \n",
       "4516  Maybe a great value but many in the pack are DOA.                                                                                                                                                                                                                                                                                                                                                                                                                                                                                                                                                                                                                                                                                                                                                                                                                                                                                                                                                                                                                                                  \n",
       "4603  These are good if you're broke and just need to get by. They work, but like other reviewers are saying, they don't last as long as other brands or rechargeable batteries. If you have the money, invest in batteries that last longer and tax the environment less.                                                                                                                                                                                                                                                                                                                                                                                                                                                                                                                                                                                                                                                                                                                                                                                                                               \n",
       "4607  Just regular AA batteries at a decent price.                                                                                                                                                                                                                                                                                                                                                                                                                                                                                                                                                                                                                                                                                                                                                                                                                                                                                                                                                                                                                                                       \n",
       "4636  I had such a good experience with Amazon D batteries that I ordered some of their 2A batteries. The 2A batteries seemed much weaker out of the box. When I changed out a pair in my clock today, they had leaked and were stuck together. Making it difficult to remove them. I looked at the packaging for the new ones and noticed that they were made in Indonesia. After reading the reviews, it seems like it may be a matter of luck whether you get really good batteries for the price or really bad batteries at any price. I like to play blackjack so I will probably order one more time to see how lucky I get.                                                                                                                                                                                                                                                                                                                                                                                                                                                                       \n",
       "4654  Goof                                                                                                                                                                                                                                                                                                                                                                                                                                                                                                                                                                                                                                                                                                                                                                                                                                                                                                                                                                                                                                                                                               \n",
       "4655  Great price. Too soon to tell if it is a great value.                                                                                                                                                                                                                                                                                                                                                                                                                                                                                                                                                                                                                                                                                                                                                                                                                                                                                                                                                                                                                                              \n",
       "4657  Not tested so I'm not sure of quality                                                                                                                                                                                                                                                                                                                                                                                                                                                                                                                                                                                                                                                                                                                                                                                                                                                                                                                                                                                                                                                              \n",
       "4666  I was excited to expand more into the AmazonBasics brand since all previous purchases have been very well received. However, these batteries were not optimal for devices that are constantly on. We used them in gaming controllers for XBox and each set of 2 would make it about 1 day of constant family gaming/TV usage.It's very possible we received a bad batch but due to going through the entire pack in just 2 weeks compared to other brands I will have to steer clear from these in the future.                                                                                                                                                                                                                                                                                                                                                                                                                                                                                                                                                                                     \n",
       "4683  Good price. Have used in my TV remote and had to change batteries after2 months. Other brand of batteries have lasted longer. Get what you pay for.                                                                                                                                                                                                                                                                                                                                                                                                                                                                                                                                                                                                                                                                                                                                                                                                                                                                                                                                                \n",
       "4698  Good price but quality is not really reliable.Some of them run out power real quick and others last super long.After 6 months storage, already have one pack of the batteries generates white powder type of corrosion (indoor, dry cool place, not used yet). Not sure it is quality control issue or stay in their shelf too long before shipping.                                                                                                                                                                                                                                                                                                                                                                                                                                                                                                                                                                                                                                                                                                                                               \n",
       "4702  Good price. When new, they tested on the low end of good with my voltmeter. I'll add to my post after I've had a chance to test battery life.                                                                                                                                                                                                                                                                                                                                                                                                                                                                                                                                                                                                                                                                                                                                                                                                                                                                                                                                                      \n",
       "4726  Very good price for batteries, and they work flawlessly. Unfortunately, they don't come in their own Container to keep them together after opening. This means you need to have a small ziploc or something to store them in, or you are just going to have a bunch of loose batteries rolling around all over the place.                                                                                                                                                                                                                                                                                                                                                                                                                                                                                                                                                                                                                                                                                                                                                                          \n",
       "4839  I hate running out of batteries so I bought this giant pack. It's a good value and the batteries seem to have plenty of juice for normal, non-hardcore activities (TV remotes, flashlights, that kind of thing). I haven't tried them in any high-power devices like digital cameras or remote control cars not sure if they would be the best choice in that case.Edit: they do not last as long as Duracells or Energizers                                                                                                                                                                                                                                                                                                                                                                                                                                                                                                                                                                                                                                                                       \n",
       "4852  Did not last as long as expected but good value for price.                                                                                                                                                                                                                                                                                                                                                                                                                                                                                                                                                                                                                                                                                                                                                                                                                                                                                                                                                                                                                                         \n",
       "4880  For the price, you can't really go wrong. But they don'5 last long.The only problem is that the battery life is not long at all. If you are using these in a TV Remote (or similar remotes) they will last 3-4 months.If you use these in a flashlight or power toothbrush (or similar items), they only last about a month.It seems that these don't last long in items that you need to use daily for longer periods of time. But, if you are using these for a TV/STB Remote or a holiday decoration that plays music, they will last much longer (approx 3-4 months).                                                                                                                                                                                                                                                                                                                                                                                                                                                                                                                          \n",
       "5248  Great price. Not too amazing in terms of battery life, but I do not think that you could get a better deal.                                                                                                                                                                                                                                                                                                                                                                                                                                                                                                                                                                                                                                                                                                                                                                                                                                                                                                                                                                                        \n",
       "5340  Great value for kid's toys, but they don't have the longevity of Duracells by any stretch. Definitely worth buying if you need a lot of batteries for cheap to top off all the noisemakers and remotes in your house, but I wouldn't throw them in flashlights or other higher-drain devices.                                                                                                                                                                                                                                                                                                                                                                                                                                                                                                                                                                                                                                                                                                                                                                                                      \n",
       "5511  Great price for these alkaline batteries. Being that they are AAA there is not much of a power drain for devices like remote control. I found that the AA amazon basic batteries will not last as long as as you named brand alkaline batteries.                                                                                                                                                                                                                                                                                                                                                                                                                                                                                                                                                                                                                                                                                                                                                                                                                                                   \n",
       "5804  I was very surprised as the batteries I got were in date but didn't work very long compared to a generic AA drug store variety. Probably just got a bad batch but I ended up replacing them very quickly in remotes especially.                                                                                                                                                                                                                                                                                                                                                                                                                                                                                                                                                                                                                                                                                                                                                                                                                                                                    \n",
       "5823  They are packaged by 4s and the plastic is really hard to get off.                                                                                                                                                                                                                                                                                                                                                                                                                                                                                                                                                                                                                                                                                                                                                                                                                                                                                                                                                                                                                                 \n",
       "5828  Don't know if it's my camera or the batteries but they seem to run down pretty quickly                                                                                                                                                                                                                                                                                                                                                                                                                                                                                                                                                                                                                                                                                                                                                                                                                                                                                                                                                                                                             \n",
       "5862  Not lasting very long. I read the reviews and expected better life out of these batteries. In comparison to Duracell they seem to last about 75 as long. I find that both the AA and AAA are sub-par in longevity. Perhaps that is the way I use them but I really expected more.                                                                                                                                                                                                                                                                                                                                                                                                                                                                                                                                                                                                                                                                                                                                                                                                                  \n",
       "5869  These are batteries what else can one say did anyone get silver batteries instead of white Hopefully they will be better than the previous version.                                                                                                                                                                                                                                                                                                                                                                                                                                                                                                                                                                                                                                                                                                                                                                                                                                                                                                                                                \n",
       "5906  These have a very short life. I do not recommend this brand                                                                                                                                                                                                                                                                                                                                                                                                                                                                                                                                                                                                                                                                                                                                                                                                                                                                                                                                                                                                                                        \n",
       "5910  I use a headlamp at work all day and everyday. I decided to try these instead of the duracells that I normally use and they definently don't last nearly as long. I don't understand all the good reviews about these. I won't purchase again.                                                                                                                                                                                                                                                                                                                                                                                                                                                                                                                                                                                                                                                                                                                                                                                                                                                     \n",
       "5936  I haven't really kept track meticulously but these batteries don't seem to last as long as Kirkland brand or Duracell.                                                                                                                                                                                                                                                                                                                                                                                                                                                                                                                                                                                                                                                                                                                                                                                                                                                                                                                                                                             \n",
       "5981  I purchased these for the office as everyone has an Apple mouse that uses AA batteries. I found myself changing batteries on my mouse almost every month with these batteries. Yes they work, but not for long. We purchased these in September and we blew through these in 2.5 months with 16 employees. With Duracell batteries, which I purchased again, they last much longer, several months instead of just one month.                                                                                                                                                                                                                                                                                                                                                                                                                                                                                                                                                                                                                                                                      \n",
       "5994  Don't seem to last long. I think dollar general batteries are just as good.                                                                                                                                                                                                                                                                                                                                                                                                                                                                                                                                                                                                                                                                                                                                                                                                                                                                                                                                                                                                                        \n",
       "6009  I used these batteries with my LED lights. It works but it doesn't last long. I used Duracell batteries the same price last much longer.                                                                                                                                                                                                                                                                                                                                                                                                                                                                                                                                                                                                                                                                                                                                                                                                                                                                                                                                                           \n",
       "6025  I primarily use these for my noise cancelling headphones and wireless mouse. Overall, for the price, this is an okay product. I do not get the longevity I received when buying other brands, but for the price and quantity it seems to all equal out. I would not recommend using them for vital devices nor rely on them in emergencies.                                                                                                                                                                                                                                                                                                                                                                                                                                                                                                                                                                                                                                                                                                                                                        \n",
       "6027  Wish I had opened the package all the way as soon as I received it because several of the batteries had leaked and caused corrosion on several more. Learned one this time.                                                                                                                                                                                                                                                                                                                                                                                                                                                                                                                                                                                                                                                                                                                                                                                                                                                                                                                        \n",
       "6029  Batteries are decent. I wouldn't consider them better than Duracell or Energizer but the price is right.                                                                                                                                                                                                                                                                                                                                                                                                                                                                                                                                                                                                                                                                                                                                                                                                                                                                                                                                                                                           \n",
       "6037  I miss the bunny with the drum.                                                                                                                                                                                                                                                                                                                                                                                                                                                                                                                                                                                                                                                                                                                                                                                                                                                                                                                                                                                                                                                                    \n",
       "6056  These are OK. Used to Rayovacs to save but, these cost the same and seem to last about 3/4 as much as the other brand. Mostly used for Xbox controllers and Mac mice/keyboard.                                                                                                                                                                                                                                                                                                                                                                                                                                                                                                                                                                                                                                                                                                                                                                                                                                                                                                                     \n",
       "6074  Work fine but I have had a couple start leaking in less than a month. Worried this may happen while in electronics.                                                                                                                                                                                                                                                                                                                                                                                                                                                                                                                                                                                                                                                                                                                                                                                                                                                                                                                                                                                \n",
       "6086  IT'S A BATTERY                                                                                                                                                                                                                                                                                                                                                                                                                                                                                                                                                                                                                                                                                                                                                                                                                                                                                                                                                                                                                                                                                     \n",
       "6089  I mean, it's a crap ton of batteries for a decent price. They just die quickly.                                                                                                                                                                                                                                                                                                                                                                                                                                                                                                                                                                                                                                                                                                                                                                                                                                                                                                                                                                                                                    \n",
       "6100  Its a battery nothing much to say. I usually buy at costco but the convenience of the free delivery was the decision breaker this time.                                                                                                                                                                                                                                                                                                                                                                                                                                                                                                                                                                                                                                                                                                                                                                                                                                                                                                                                                            \n",
       "6111  These batteries are just adequate not super strong as advertised.                                                                                                                                                                                                                                                                                                                                                                                                                                                                                                                                                                                                                                                                                                                                                                                                                                                                                                                                                                                                                                  \n",
       "6144  I haven't done any scientific research on how long these last compared to other batteries, I can only give you my layman's experience. I use the exact same amount of battery usage every day and have tried pretty much every brand of battery (I don't hear that well so I wear headphones for my television and I wear them the same number of hours per day).The AmazonBasics batteries don't last nearly as long as any other battery. My headphones start getting fuzzy about twelve hours earlier than they normally would with any other the batteries I've ever used. I went through this package a week earlier than I would a 24-pack of either Duracell or Energizer. In some usages this might not matter but for me, it just wasn't worth it to buy these.                                                                                                                                                                                                                                                                                                                           \n",
       "6151  Great for small gadgets and remotes. Don't expect to run anythinh more. Could handle a set of battery power hair clippers.                                                                                                                                                                                                                                                                                                                                                                                                                                                                                                                                                                                                                                                                                                                                                                                                                                                                                                                                                                         \n",
       "6152  I bought these but will not reorder. They work but seem to go flat rather quickly.                                                                                                                                                                                                                                                                                                                                                                                                                                                                                                                                                                                                                                                                                                                                                                                                                                                                                                                                                                                                                 \n",
       "6153  do not seem to last as long as other batteries                                                                                                                                                                                                                                                                                                                                                                                                                                                                                                                                                                                                                                                                                                                                                                                                                                                                                                                                                                                                                                                     \n",
       "\n",
       "      Compound_Score  \n",
       "1959  0.4404          \n",
       "3874 -0.4027          \n",
       "4316  0.3716          \n",
       "4329  0.0000          \n",
       "4383  0.9107          \n",
       "4454  0.9934          \n",
       "4514  0.0000          \n",
       "4516 -0.5105          \n",
       "4603  0.5106          \n",
       "4607  0.0000          \n",
       "4636  0.7436          \n",
       "4654  0.0000          \n",
       "4655  0.8910          \n",
       "4657 -0.3017          \n",
       "4666  0.5635          \n",
       "4683  0.3612          \n",
       "4698  0.8319          \n",
       "4702  0.6908          \n",
       "4726  0.0754          \n",
       "4839  0.8417          \n",
       "4852  0.7876          \n",
       "4880  0.5803          \n",
       "5248  0.6558          \n",
       "5340  0.8847          \n",
       "5511  0.8074          \n",
       "5804 -0.6314          \n",
       "5823 -0.1761          \n",
       "5828  0.6486          \n",
       "5862  0.2382          \n",
       "5869  0.6808          \n",
       "5906 -0.2755          \n",
       "5910  0.4404          \n",
       "5936  0.0000          \n",
       "5981  0.2144          \n",
       "5994  0.4404          \n",
       "6009  0.0000          \n",
       "6025  0.0477          \n",
       "6027  0.1027          \n",
       "6029  0.0892          \n",
       "6037 -0.1531          \n",
       "6056  0.4707          \n",
       "6074 -0.2510          \n",
       "6086  0.0000          \n",
       "6089 -0.7579          \n",
       "6100  0.6652          \n",
       "6111 -0.6057          \n",
       "6144  0.2161          \n",
       "6151  0.6249          \n",
       "6152  0.0000          \n",
       "6153  0.0000          "
      ]
     },
     "execution_count": 99,
     "metadata": {},
     "output_type": "execute_result"
    }
   ],
   "source": [
    "ddd = df.loc[df['reviews.rating']==3]\n",
    "dddd = ddd[['reviews.text','Compound_Score']]\n",
    "\n",
    "dddd.iloc[50:100]"
   ]
  },
  {
   "cell_type": "code",
   "execution_count": 84,
   "metadata": {},
   "outputs": [],
   "source": [
    "pd.set_option('max_colwidth', 1)"
   ]
  },
  {
   "cell_type": "code",
   "execution_count": 92,
   "metadata": {},
   "outputs": [
    {
     "data": {
      "text/plain": [
       "(1438, 2)"
      ]
     },
     "execution_count": 92,
     "metadata": {},
     "output_type": "execute_result"
    }
   ],
   "source": [
    "dddd.shape"
   ]
  },
  {
   "cell_type": "code",
   "execution_count": null,
   "metadata": {},
   "outputs": [],
   "source": []
  },
  {
   "cell_type": "code",
   "execution_count": null,
   "metadata": {},
   "outputs": [],
   "source": []
  },
  {
   "cell_type": "markdown",
   "metadata": {},
   "source": [
    "# 10/10 \n",
    "# Imputing Missing values & EDA "
   ]
  },
  {
   "cell_type": "code",
   "execution_count": 37,
   "metadata": {},
   "outputs": [
    {
     "data": {
      "text/html": [
       "<div>\n",
       "<style scoped>\n",
       "    .dataframe tbody tr th:only-of-type {\n",
       "        vertical-align: middle;\n",
       "    }\n",
       "\n",
       "    .dataframe tbody tr th {\n",
       "        vertical-align: top;\n",
       "    }\n",
       "\n",
       "    .dataframe thead th {\n",
       "        text-align: right;\n",
       "    }\n",
       "</style>\n",
       "<table border=\"1\" class=\"dataframe\">\n",
       "  <thead>\n",
       "    <tr style=\"text-align: right;\">\n",
       "      <th></th>\n",
       "      <th>categories</th>\n",
       "      <th>name</th>\n",
       "      <th>primaryCategories</th>\n",
       "      <th>reviews.date</th>\n",
       "      <th>reviews.doRecommend</th>\n",
       "      <th>reviews.numHelpful</th>\n",
       "      <th>reviews.rating</th>\n",
       "      <th>reviews.text</th>\n",
       "      <th>reviews.title</th>\n",
       "      <th>reviews.username</th>\n",
       "      <th>score</th>\n",
       "      <th>Compound_Score</th>\n",
       "    </tr>\n",
       "  </thead>\n",
       "  <tbody>\n",
       "    <tr>\n",
       "      <th>0</th>\n",
       "      <td>AA,AAA,Health,Electronics,Health &amp; Household,C...</td>\n",
       "      <td>AmazonBasics AAA Performance Alkaline Batterie...</td>\n",
       "      <td>Electronics</td>\n",
       "      <td>2017-03-02T00:00:00.000Z</td>\n",
       "      <td>NaN</td>\n",
       "      <td>NaN</td>\n",
       "      <td>3.0</td>\n",
       "      <td>I order 3 of them and one of the item is bad q...</td>\n",
       "      <td>... 3 of them and one of the item is bad quali...</td>\n",
       "      <td>Byger yang</td>\n",
       "      <td>{'neg': 0.186, 'neu': 0.814, 'pos': 0.0, 'comp...</td>\n",
       "      <td>-0.6908</td>\n",
       "    </tr>\n",
       "  </tbody>\n",
       "</table>\n",
       "</div>"
      ],
      "text/plain": [
       "                                          categories  \\\n",
       "0  AA,AAA,Health,Electronics,Health & Household,C...   \n",
       "\n",
       "                                                name primaryCategories  \\\n",
       "0  AmazonBasics AAA Performance Alkaline Batterie...       Electronics   \n",
       "\n",
       "               reviews.date reviews.doRecommend  reviews.numHelpful  \\\n",
       "0  2017-03-02T00:00:00.000Z                 NaN                 NaN   \n",
       "\n",
       "   reviews.rating                                       reviews.text  \\\n",
       "0             3.0  I order 3 of them and one of the item is bad q...   \n",
       "\n",
       "                                       reviews.title reviews.username  \\\n",
       "0  ... 3 of them and one of the item is bad quali...       Byger yang   \n",
       "\n",
       "                                               score  Compound_Score  \n",
       "0  {'neg': 0.186, 'neu': 0.814, 'pos': 0.0, 'comp...         -0.6908  "
      ]
     },
     "execution_count": 37,
     "metadata": {},
     "output_type": "execute_result"
    }
   ],
   "source": [
    "df.head(1)"
   ]
  },
  {
   "cell_type": "code",
   "execution_count": null,
   "metadata": {},
   "outputs": [],
   "source": []
  },
  {
   "cell_type": "code",
   "execution_count": 55,
   "metadata": {},
   "outputs": [
    {
     "data": {
      "text/plain": [
       "categories             0.00 \n",
       "name                   9.95 \n",
       "primaryCategories      0.00 \n",
       "reviews.date           0.04 \n",
       "reviews.doRecommend    18.84\n",
       "reviews.numHelpful     18.71\n",
       "reviews.rating         0.00 \n",
       "reviews.text           0.00 \n",
       "reviews.title          0.03 \n",
       "reviews.username       0.00 \n",
       "score                  0.00 \n",
       "Compound_Score         0.00 \n",
       "text_title             0.00 \n",
       "combined_scores        0.00 \n",
       "combined_compound      0.00 \n",
       "dtype: float64"
      ]
     },
     "execution_count": 55,
     "metadata": {},
     "output_type": "execute_result"
    }
   ],
   "source": [
    "# Handling null values\n",
    "\n",
    "round((df1.isnull().sum()/len(df1))*100,2)"
   ]
  },
  {
   "cell_type": "markdown",
   "metadata": {},
   "source": [
    "## Missing value imputation for primary category feature\n",
    "\n",
    "### Since all the products whose primary category is null belong to Electronics, the following imputation is executed"
   ]
  },
  {
   "cell_type": "code",
   "execution_count": 6,
   "metadata": {},
   "outputs": [
    {
     "data": {
      "text/plain": [
       "array(['Amazon Kindle Lighted Leather Cover,,,\\r\\nAmazon Kindle Lighted Leather Cover,,,',\n",
       "       'Amazon Kindle Lighted Leather Cover,,,\\r\\nKindle Keyboard,,,',\n",
       "       'Amazon Standing Protective Case for Fire HD 6 (4th Generation) - Black,,,\\r\\nAmazon Standing Protective Case for Fire HD 6 (4th Generation) - Black,,,',\n",
       "       'Amazon Kindle Touch Leather Case (4th Generation - 2011 Release), Olive Green,,,\\r\\nAmazon Kindle Touch Leather Case (4th Generation - 2011 Release), Olive Green,,,',\n",
       "       'Fire Kids Edition Tablet, 7 Display, Wi-Fi, 16 GB, Green Kid-Proof Case'],\n",
       "      dtype=object)"
      ]
     },
     "execution_count": 6,
     "metadata": {},
     "output_type": "execute_result"
    }
   ],
   "source": [
    "df[df['primaryCategories'].isnull()]['name'].unique()"
   ]
  },
  {
   "cell_type": "code",
   "execution_count": 44,
   "metadata": {},
   "outputs": [],
   "source": [
    "df['primaryCategories']= df['primaryCategories'].fillna('Electronics')"
   ]
  },
  {
   "cell_type": "markdown",
   "metadata": {},
   "source": [
    "### Null value imputation for rating feature"
   ]
  },
  {
   "cell_type": "code",
   "execution_count": 46,
   "metadata": {},
   "outputs": [
    {
     "data": {
      "text/plain": [
       "33"
      ]
     },
     "execution_count": 46,
     "metadata": {},
     "output_type": "execute_result"
    }
   ],
   "source": [
    "# Number of null value records of rating feature\n",
    "\n",
    "len(df[df['reviews.rating'].isnull()])"
   ]
  },
  {
   "cell_type": "code",
   "execution_count": 47,
   "metadata": {},
   "outputs": [],
   "source": [
    "df.reset_index(drop=True,inplace=True)"
   ]
  },
  {
   "cell_type": "code",
   "execution_count": 48,
   "metadata": {},
   "outputs": [
    {
     "data": {
      "text/plain": [
       "33"
      ]
     },
     "execution_count": 48,
     "metadata": {},
     "output_type": "execute_result"
    }
   ],
   "source": [
    "rat_ind = list(df[df['reviews.rating'].isnull()].index)\n",
    "len(rat_ind)"
   ]
  },
  {
   "cell_type": "code",
   "execution_count": 49,
   "metadata": {},
   "outputs": [],
   "source": [
    "# Since the percentage of the null value of reviews.rating feature is 0.04% and this feature has 5 catgories, there is no\n",
    "# appropriate method to impute these missing values. Therefore, these (33, null values) records are dropped.\n",
    "\n",
    "df.drop(index=rat_ind, inplace= True)"
   ]
  },
  {
   "cell_type": "markdown",
   "metadata": {},
   "source": [
    "### Imputation for title and text features"
   ]
  },
  {
   "cell_type": "code",
   "execution_count": 50,
   "metadata": {},
   "outputs": [
    {
     "data": {
      "text/plain": [
       "1"
      ]
     },
     "execution_count": 50,
     "metadata": {},
     "output_type": "execute_result"
    }
   ],
   "source": [
    "df['reviews.text'].isnull().sum()"
   ]
  },
  {
   "cell_type": "code",
   "execution_count": 51,
   "metadata": {},
   "outputs": [
    {
     "data": {
      "text/plain": [
       "(67959, 12)"
      ]
     },
     "execution_count": 51,
     "metadata": {},
     "output_type": "execute_result"
    }
   ],
   "source": [
    "df.shape"
   ]
  },
  {
   "cell_type": "code",
   "execution_count": 52,
   "metadata": {},
   "outputs": [
    {
     "data": {
      "text/plain": [
       "0.0014714754484321428"
      ]
     },
     "execution_count": 52,
     "metadata": {},
     "output_type": "execute_result"
    }
   ],
   "source": [
    "1/67959*100"
   ]
  },
  {
   "cell_type": "code",
   "execution_count": 53,
   "metadata": {},
   "outputs": [],
   "source": [
    "df.reset_index(drop=True,inplace=True)"
   ]
  },
  {
   "cell_type": "code",
   "execution_count": 54,
   "metadata": {},
   "outputs": [
    {
     "data": {
      "text/plain": [
       "Int64Index([36424], dtype='int64')"
      ]
     },
     "execution_count": 54,
     "metadata": {},
     "output_type": "execute_result"
    }
   ],
   "source": [
    "df[df['reviews.text'].isnull()].index"
   ]
  },
  {
   "cell_type": "code",
   "execution_count": 55,
   "metadata": {},
   "outputs": [
    {
     "data": {
      "text/plain": [
       "categories             Amazon Devices & Accessories,Amazon Device Acc...\n",
       "name                   Amazon 5W USB Official OEM Charger and Power A...\n",
       "primaryCategories                                            Electronics\n",
       "reviews.date                                    2017-04-17T00:00:00.000Z\n",
       "reviews.doRecommend                                                  NaN\n",
       "reviews.numHelpful                                                   NaN\n",
       "reviews.rating                                                         5\n",
       "reviews.text                                                         NaN\n",
       "reviews.title                                                 Five Stars\n",
       "reviews.username                                       lawrence s martin\n",
       "score                  {'neg': 0.0, 'neu': 1.0, 'pos': 0.0, 'compound...\n",
       "Compound_Score                                                         0\n",
       "Name: 36424, dtype: object"
      ]
     },
     "execution_count": 55,
     "metadata": {},
     "output_type": "execute_result"
    }
   ],
   "source": [
    "df.iloc[36424]"
   ]
  },
  {
   "cell_type": "code",
   "execution_count": 56,
   "metadata": {},
   "outputs": [
    {
     "data": {
      "text/plain": [
       "(67958, 12)"
      ]
     },
     "execution_count": 56,
     "metadata": {},
     "output_type": "execute_result"
    }
   ],
   "source": [
    "df.drop(index=36424, inplace=True)\n",
    "df.shape"
   ]
  },
  {
   "cell_type": "code",
   "execution_count": 58,
   "metadata": {},
   "outputs": [],
   "source": [
    "df.reset_index(drop=True,inplace=True)"
   ]
  },
  {
   "cell_type": "markdown",
   "metadata": {},
   "source": [
    "### Imputing for reviews.title feature"
   ]
  },
  {
   "cell_type": "code",
   "execution_count": 59,
   "metadata": {},
   "outputs": [
    {
     "data": {
      "text/plain": [
       "18"
      ]
     },
     "execution_count": 59,
     "metadata": {},
     "output_type": "execute_result"
    }
   ],
   "source": [
    "df['reviews.title'].isnull().sum()"
   ]
  },
  {
   "cell_type": "code",
   "execution_count": 60,
   "metadata": {},
   "outputs": [
    {
     "data": {
      "text/plain": [
       "0.02648694782071279"
      ]
     },
     "execution_count": 60,
     "metadata": {},
     "output_type": "execute_result"
    }
   ],
   "source": [
    "18/67958*100"
   ]
  },
  {
   "cell_type": "code",
   "execution_count": 61,
   "metadata": {},
   "outputs": [
    {
     "data": {
      "text/plain": [
       "Int64Index([28666, 28667, 28679, 28727, 28808, 28935, 28950, 29066, 29095,\n",
       "            29116, 29160, 29268, 29275, 36396, 55252, 58814, 61877, 61979],\n",
       "           dtype='int64')"
      ]
     },
     "execution_count": 61,
     "metadata": {},
     "output_type": "execute_result"
    }
   ],
   "source": [
    "df[df['reviews.title'].isnull()].index"
   ]
  },
  {
   "cell_type": "code",
   "execution_count": 71,
   "metadata": {},
   "outputs": [],
   "source": [
    "# Imputer a hypen, b'cos there's no fixed way to impute the title. \n",
    "\n",
    "df.loc[df1['reviews.title'].isnull(), 'reviews.title'] = '-'"
   ]
  },
  {
   "cell_type": "markdown",
   "metadata": {},
   "source": [
    "### Combining reviews.text and reviews.title features in one column named \"text_title\""
   ]
  },
  {
   "cell_type": "code",
   "execution_count": 65,
   "metadata": {},
   "outputs": [],
   "source": [
    "df['text_title'] = df['reviews.title'] + [' '] + df['reviews.text']\n"
   ]
  },
  {
   "cell_type": "code",
   "execution_count": 15,
   "metadata": {},
   "outputs": [],
   "source": [
    "# Saving into excel\n",
    "\n",
    "df1.to_csv('Amazon_Basic_EDA_03.csv')"
   ]
  },
  {
   "cell_type": "code",
   "execution_count": 1,
   "metadata": {},
   "outputs": [
    {
     "name": "stderr",
     "output_type": "stream",
     "text": [
      "H:\\Anaconda\\lib\\site-packages\\IPython\\core\\interactiveshell.py:3071: DtypeWarning: Columns (2) have mixed types.Specify dtype option on import or set low_memory=False.\n",
      "  has_raised = await self.run_ast_nodes(code_ast.body, cell_name,\n"
     ]
    }
   ],
   "source": [
    "import pandas as pd\n",
    "df1 = pd.read_csv(\"Amazon_Basic_EDA_03.csv\",index_col=0)"
   ]
  },
  {
   "cell_type": "code",
   "execution_count": 2,
   "metadata": {},
   "outputs": [
    {
     "data": {
      "text/plain": [
       "(67958, 15)"
      ]
     },
     "execution_count": 2,
     "metadata": {},
     "output_type": "execute_result"
    }
   ],
   "source": [
    "df1.shape"
   ]
  },
  {
   "cell_type": "code",
   "execution_count": 9,
   "metadata": {},
   "outputs": [
    {
     "data": {
      "text/html": [
       "<div>\n",
       "<style scoped>\n",
       "    .dataframe tbody tr th:only-of-type {\n",
       "        vertical-align: middle;\n",
       "    }\n",
       "\n",
       "    .dataframe tbody tr th {\n",
       "        vertical-align: top;\n",
       "    }\n",
       "\n",
       "    .dataframe thead th {\n",
       "        text-align: right;\n",
       "    }\n",
       "</style>\n",
       "<table border=\"1\" class=\"dataframe\">\n",
       "  <thead>\n",
       "    <tr style=\"text-align: right;\">\n",
       "      <th></th>\n",
       "      <th>categories</th>\n",
       "      <th>name</th>\n",
       "      <th>primaryCategories</th>\n",
       "      <th>reviews.date</th>\n",
       "      <th>reviews.doRecommend</th>\n",
       "      <th>reviews.numHelpful</th>\n",
       "      <th>reviews.rating</th>\n",
       "      <th>reviews.text</th>\n",
       "      <th>reviews.title</th>\n",
       "      <th>reviews.username</th>\n",
       "      <th>score</th>\n",
       "      <th>Compound_Score</th>\n",
       "      <th>text_title</th>\n",
       "    </tr>\n",
       "  </thead>\n",
       "  <tbody>\n",
       "    <tr>\n",
       "      <th>0</th>\n",
       "      <td>AA,AAA,Health,Electronics,Health &amp; Household,C...</td>\n",
       "      <td>AmazonBasics AAA Performance Alkaline Batterie...</td>\n",
       "      <td>Electronics</td>\n",
       "      <td>2017-03-02T00:00:00.000Z</td>\n",
       "      <td>NaN</td>\n",
       "      <td>NaN</td>\n",
       "      <td>3.0</td>\n",
       "      <td>I order 3 of them and one of the item is bad q...</td>\n",
       "      <td>... 3 of them and one of the item is bad quali...</td>\n",
       "      <td>Byger yang</td>\n",
       "      <td>{'neg': 0.186, 'neu': 0.814, 'pos': 0.0, 'comp...</td>\n",
       "      <td>-0.6908</td>\n",
       "      <td>... 3 of them and one of the item is bad quali...</td>\n",
       "    </tr>\n",
       "    <tr>\n",
       "      <th>1</th>\n",
       "      <td>AA,AAA,Health,Electronics,Health &amp; Household,C...</td>\n",
       "      <td>AmazonBasics AAA Performance Alkaline Batterie...</td>\n",
       "      <td>Electronics</td>\n",
       "      <td>2016-08-31T00:00:00.000Z</td>\n",
       "      <td>NaN</td>\n",
       "      <td>NaN</td>\n",
       "      <td>4.0</td>\n",
       "      <td>Bulk is always the less expensive way to go fo...</td>\n",
       "      <td>... always the less expensive way to go for pr...</td>\n",
       "      <td>ByMG</td>\n",
       "      <td>{'neg': 0.0, 'neu': 0.828, 'pos': 0.172, 'comp...</td>\n",
       "      <td>0.3612</td>\n",
       "      <td>... always the less expensive way to go for pr...</td>\n",
       "    </tr>\n",
       "    <tr>\n",
       "      <th>2</th>\n",
       "      <td>AA,AAA,Health,Electronics,Health &amp; Household,C...</td>\n",
       "      <td>AmazonBasics AAA Performance Alkaline Batterie...</td>\n",
       "      <td>Electronics</td>\n",
       "      <td>2016-12-06T00:00:00.000Z</td>\n",
       "      <td>NaN</td>\n",
       "      <td>NaN</td>\n",
       "      <td>5.0</td>\n",
       "      <td>Well they are not Duracell but for the price i...</td>\n",
       "      <td>... are not Duracell but for the price i am ha...</td>\n",
       "      <td>BySharon Lambert</td>\n",
       "      <td>{'neg': 0.0, 'neu': 0.577, 'pos': 0.423, 'comp...</td>\n",
       "      <td>0.7650</td>\n",
       "      <td>... are not Duracell but for the price i am ha...</td>\n",
       "    </tr>\n",
       "    <tr>\n",
       "      <th>3</th>\n",
       "      <td>AA,AAA,Health,Electronics,Health &amp; Household,C...</td>\n",
       "      <td>AmazonBasics AAA Performance Alkaline Batterie...</td>\n",
       "      <td>Electronics</td>\n",
       "      <td>2016-03-28T00:00:00.000Z</td>\n",
       "      <td>NaN</td>\n",
       "      <td>NaN</td>\n",
       "      <td>5.0</td>\n",
       "      <td>Seem to work as well as name brand batteries a...</td>\n",
       "      <td>... as well as name brand batteries at a much ...</td>\n",
       "      <td>Bymark sexson</td>\n",
       "      <td>{'neg': 0.0, 'neu': 0.688, 'pos': 0.312, 'comp...</td>\n",
       "      <td>0.6124</td>\n",
       "      <td>... as well as name brand batteries at a much ...</td>\n",
       "    </tr>\n",
       "    <tr>\n",
       "      <th>4</th>\n",
       "      <td>AA,AAA,Health,Electronics,Health &amp; Household,C...</td>\n",
       "      <td>AmazonBasics AAA Performance Alkaline Batterie...</td>\n",
       "      <td>Electronics</td>\n",
       "      <td>2017-04-22T00:00:00.000Z</td>\n",
       "      <td>NaN</td>\n",
       "      <td>NaN</td>\n",
       "      <td>5.0</td>\n",
       "      <td>These batteries are very long lasting the pric...</td>\n",
       "      <td>... batteries are very long lasting the price ...</td>\n",
       "      <td>Bylinda</td>\n",
       "      <td>{'neg': 0.0, 'neu': 0.687, 'pos': 0.313, 'comp...</td>\n",
       "      <td>0.6249</td>\n",
       "      <td>... batteries are very long lasting the price ...</td>\n",
       "    </tr>\n",
       "    <tr>\n",
       "      <th>5</th>\n",
       "      <td>AA,AAA,Health,Electronics,Health &amp; Household,C...</td>\n",
       "      <td>AmazonBasics AAA Performance Alkaline Batterie...</td>\n",
       "      <td>Electronics</td>\n",
       "      <td>2016-02-17T00:00:00.000Z</td>\n",
       "      <td>NaN</td>\n",
       "      <td>NaN</td>\n",
       "      <td>5.0</td>\n",
       "      <td>Bought a lot of batteries for Christmas and th...</td>\n",
       "      <td>... batteries for Christmas and the AmazonBasi...</td>\n",
       "      <td>ByPainter Marlow</td>\n",
       "      <td>{'neg': 0.0, 'neu': 0.791, 'pos': 0.209, 'comp...</td>\n",
       "      <td>0.8625</td>\n",
       "      <td>... batteries for Christmas and the AmazonBasi...</td>\n",
       "    </tr>\n",
       "    <tr>\n",
       "      <th>6</th>\n",
       "      <td>AA,AAA,Health,Electronics,Health &amp; Household,C...</td>\n",
       "      <td>AmazonBasics AAA Performance Alkaline Batterie...</td>\n",
       "      <td>Electronics</td>\n",
       "      <td>2017-04-17T00:00:00.000Z</td>\n",
       "      <td>NaN</td>\n",
       "      <td>NaN</td>\n",
       "      <td>5.0</td>\n",
       "      <td>ive not had any problame with these batteries ...</td>\n",
       "      <td>... batteries have ordered them in the past be...</td>\n",
       "      <td>ByAmazon Customer</td>\n",
       "      <td>{'neg': 0.0, 'neu': 0.834, 'pos': 0.166, 'comp...</td>\n",
       "      <td>0.4927</td>\n",
       "      <td>... batteries have ordered them in the past be...</td>\n",
       "    </tr>\n",
       "    <tr>\n",
       "      <th>7</th>\n",
       "      <td>AA,AAA,Health,Electronics,Health &amp; Household,C...</td>\n",
       "      <td>AmazonBasics AAA Performance Alkaline Batterie...</td>\n",
       "      <td>Electronics</td>\n",
       "      <td>2017-04-16T00:00:00.000Z</td>\n",
       "      <td>NaN</td>\n",
       "      <td>NaN</td>\n",
       "      <td>5.0</td>\n",
       "      <td>Well if you are looking for cheap non-recharge...</td>\n",
       "      <td>... batteries that last quite a while then the...</td>\n",
       "      <td>ByLynn Pendegrass</td>\n",
       "      <td>{'neg': 0.0, 'neu': 0.766, 'pos': 0.234, 'comp...</td>\n",
       "      <td>0.7003</td>\n",
       "      <td>... batteries that last quite a while then the...</td>\n",
       "    </tr>\n",
       "    <tr>\n",
       "      <th>8</th>\n",
       "      <td>AA,AAA,Health,Electronics,Health &amp; Household,C...</td>\n",
       "      <td>AmazonBasics AAA Performance Alkaline Batterie...</td>\n",
       "      <td>Electronics</td>\n",
       "      <td>2016-04-07T00:00:00.000Z</td>\n",
       "      <td>NaN</td>\n",
       "      <td>NaN</td>\n",
       "      <td>3.0</td>\n",
       "      <td>These do not hold the amount of high power jui...</td>\n",
       "      <td>... do not hold the amount of high power juice...</td>\n",
       "      <td>ByK.R.</td>\n",
       "      <td>{'neg': 0.0, 'neu': 0.826, 'pos': 0.174, 'comp...</td>\n",
       "      <td>0.4215</td>\n",
       "      <td>... do not hold the amount of high power juice...</td>\n",
       "    </tr>\n",
       "    <tr>\n",
       "      <th>9</th>\n",
       "      <td>AA,AAA,Health,Electronics,Health &amp; Household,C...</td>\n",
       "      <td>AmazonBasics AAA Performance Alkaline Batterie...</td>\n",
       "      <td>Electronics</td>\n",
       "      <td>2017-05-24T00:00:00.000Z</td>\n",
       "      <td>NaN</td>\n",
       "      <td>NaN</td>\n",
       "      <td>4.0</td>\n",
       "      <td>AmazonBasics AA AAA batteries have done well b...</td>\n",
       "      <td>... done well by me appear to have a good shel...</td>\n",
       "      <td>BySilverLane</td>\n",
       "      <td>{'neg': 0.0, 'neu': 0.773, 'pos': 0.227, 'comp...</td>\n",
       "      <td>0.6124</td>\n",
       "      <td>... done well by me appear to have a good shel...</td>\n",
       "    </tr>\n",
       "  </tbody>\n",
       "</table>\n",
       "</div>"
      ],
      "text/plain": [
       "                                          categories  \\\n",
       "0  AA,AAA,Health,Electronics,Health & Household,C...   \n",
       "1  AA,AAA,Health,Electronics,Health & Household,C...   \n",
       "2  AA,AAA,Health,Electronics,Health & Household,C...   \n",
       "3  AA,AAA,Health,Electronics,Health & Household,C...   \n",
       "4  AA,AAA,Health,Electronics,Health & Household,C...   \n",
       "5  AA,AAA,Health,Electronics,Health & Household,C...   \n",
       "6  AA,AAA,Health,Electronics,Health & Household,C...   \n",
       "7  AA,AAA,Health,Electronics,Health & Household,C...   \n",
       "8  AA,AAA,Health,Electronics,Health & Household,C...   \n",
       "9  AA,AAA,Health,Electronics,Health & Household,C...   \n",
       "\n",
       "                                                name primaryCategories  \\\n",
       "0  AmazonBasics AAA Performance Alkaline Batterie...       Electronics   \n",
       "1  AmazonBasics AAA Performance Alkaline Batterie...       Electronics   \n",
       "2  AmazonBasics AAA Performance Alkaline Batterie...       Electronics   \n",
       "3  AmazonBasics AAA Performance Alkaline Batterie...       Electronics   \n",
       "4  AmazonBasics AAA Performance Alkaline Batterie...       Electronics   \n",
       "5  AmazonBasics AAA Performance Alkaline Batterie...       Electronics   \n",
       "6  AmazonBasics AAA Performance Alkaline Batterie...       Electronics   \n",
       "7  AmazonBasics AAA Performance Alkaline Batterie...       Electronics   \n",
       "8  AmazonBasics AAA Performance Alkaline Batterie...       Electronics   \n",
       "9  AmazonBasics AAA Performance Alkaline Batterie...       Electronics   \n",
       "\n",
       "               reviews.date reviews.doRecommend  reviews.numHelpful  \\\n",
       "0  2017-03-02T00:00:00.000Z                 NaN                 NaN   \n",
       "1  2016-08-31T00:00:00.000Z                 NaN                 NaN   \n",
       "2  2016-12-06T00:00:00.000Z                 NaN                 NaN   \n",
       "3  2016-03-28T00:00:00.000Z                 NaN                 NaN   \n",
       "4  2017-04-22T00:00:00.000Z                 NaN                 NaN   \n",
       "5  2016-02-17T00:00:00.000Z                 NaN                 NaN   \n",
       "6  2017-04-17T00:00:00.000Z                 NaN                 NaN   \n",
       "7  2017-04-16T00:00:00.000Z                 NaN                 NaN   \n",
       "8  2016-04-07T00:00:00.000Z                 NaN                 NaN   \n",
       "9  2017-05-24T00:00:00.000Z                 NaN                 NaN   \n",
       "\n",
       "   reviews.rating                                       reviews.text  \\\n",
       "0             3.0  I order 3 of them and one of the item is bad q...   \n",
       "1             4.0  Bulk is always the less expensive way to go fo...   \n",
       "2             5.0  Well they are not Duracell but for the price i...   \n",
       "3             5.0  Seem to work as well as name brand batteries a...   \n",
       "4             5.0  These batteries are very long lasting the pric...   \n",
       "5             5.0  Bought a lot of batteries for Christmas and th...   \n",
       "6             5.0  ive not had any problame with these batteries ...   \n",
       "7             5.0  Well if you are looking for cheap non-recharge...   \n",
       "8             3.0  These do not hold the amount of high power jui...   \n",
       "9             4.0  AmazonBasics AA AAA batteries have done well b...   \n",
       "\n",
       "                                       reviews.title   reviews.username  \\\n",
       "0  ... 3 of them and one of the item is bad quali...         Byger yang   \n",
       "1  ... always the less expensive way to go for pr...               ByMG   \n",
       "2  ... are not Duracell but for the price i am ha...   BySharon Lambert   \n",
       "3  ... as well as name brand batteries at a much ...      Bymark sexson   \n",
       "4  ... batteries are very long lasting the price ...            Bylinda   \n",
       "5  ... batteries for Christmas and the AmazonBasi...   ByPainter Marlow   \n",
       "6  ... batteries have ordered them in the past be...  ByAmazon Customer   \n",
       "7  ... batteries that last quite a while then the...  ByLynn Pendegrass   \n",
       "8  ... do not hold the amount of high power juice...             ByK.R.   \n",
       "9  ... done well by me appear to have a good shel...       BySilverLane   \n",
       "\n",
       "                                               score  Compound_Score  \\\n",
       "0  {'neg': 0.186, 'neu': 0.814, 'pos': 0.0, 'comp...         -0.6908   \n",
       "1  {'neg': 0.0, 'neu': 0.828, 'pos': 0.172, 'comp...          0.3612   \n",
       "2  {'neg': 0.0, 'neu': 0.577, 'pos': 0.423, 'comp...          0.7650   \n",
       "3  {'neg': 0.0, 'neu': 0.688, 'pos': 0.312, 'comp...          0.6124   \n",
       "4  {'neg': 0.0, 'neu': 0.687, 'pos': 0.313, 'comp...          0.6249   \n",
       "5  {'neg': 0.0, 'neu': 0.791, 'pos': 0.209, 'comp...          0.8625   \n",
       "6  {'neg': 0.0, 'neu': 0.834, 'pos': 0.166, 'comp...          0.4927   \n",
       "7  {'neg': 0.0, 'neu': 0.766, 'pos': 0.234, 'comp...          0.7003   \n",
       "8  {'neg': 0.0, 'neu': 0.826, 'pos': 0.174, 'comp...          0.4215   \n",
       "9  {'neg': 0.0, 'neu': 0.773, 'pos': 0.227, 'comp...          0.6124   \n",
       "\n",
       "                                          text_title  \n",
       "0  ... 3 of them and one of the item is bad quali...  \n",
       "1  ... always the less expensive way to go for pr...  \n",
       "2  ... are not Duracell but for the price i am ha...  \n",
       "3  ... as well as name brand batteries at a much ...  \n",
       "4  ... batteries are very long lasting the price ...  \n",
       "5  ... batteries for Christmas and the AmazonBasi...  \n",
       "6  ... batteries have ordered them in the past be...  \n",
       "7  ... batteries that last quite a while then the...  \n",
       "8  ... do not hold the amount of high power juice...  \n",
       "9  ... done well by me appear to have a good shel...  "
      ]
     },
     "execution_count": 9,
     "metadata": {},
     "output_type": "execute_result"
    }
   ],
   "source": [
    "df1.head(10)"
   ]
  },
  {
   "cell_type": "markdown",
   "metadata": {},
   "source": [
    "### Computing the compound score for text_title feature"
   ]
  },
  {
   "cell_type": "code",
   "execution_count": 10,
   "metadata": {},
   "outputs": [],
   "source": [
    "\n",
    "df1['combined_scores'] = df1['text_title'].apply(lambda review: sia.polarity_scores(str(review)))"
   ]
  },
  {
   "cell_type": "code",
   "execution_count": 11,
   "metadata": {
    "scrolled": false
   },
   "outputs": [
    {
     "data": {
      "text/html": [
       "<div>\n",
       "<style scoped>\n",
       "    .dataframe tbody tr th:only-of-type {\n",
       "        vertical-align: middle;\n",
       "    }\n",
       "\n",
       "    .dataframe tbody tr th {\n",
       "        vertical-align: top;\n",
       "    }\n",
       "\n",
       "    .dataframe thead th {\n",
       "        text-align: right;\n",
       "    }\n",
       "</style>\n",
       "<table border=\"1\" class=\"dataframe\">\n",
       "  <thead>\n",
       "    <tr style=\"text-align: right;\">\n",
       "      <th></th>\n",
       "      <th>categories</th>\n",
       "      <th>name</th>\n",
       "      <th>primaryCategories</th>\n",
       "      <th>reviews.date</th>\n",
       "      <th>reviews.doRecommend</th>\n",
       "      <th>reviews.numHelpful</th>\n",
       "      <th>reviews.rating</th>\n",
       "      <th>reviews.text</th>\n",
       "      <th>reviews.title</th>\n",
       "      <th>reviews.username</th>\n",
       "      <th>score</th>\n",
       "      <th>Compound_Score</th>\n",
       "      <th>text_title</th>\n",
       "      <th>combined_scores</th>\n",
       "      <th>combined_compound</th>\n",
       "    </tr>\n",
       "  </thead>\n",
       "  <tbody>\n",
       "    <tr>\n",
       "      <th>0</th>\n",
       "      <td>AA,AAA,Health,Electronics,Health &amp; Household,C...</td>\n",
       "      <td>AmazonBasics AAA Performance Alkaline Batterie...</td>\n",
       "      <td>Electronics</td>\n",
       "      <td>2017-03-02T00:00:00.000Z</td>\n",
       "      <td>NaN</td>\n",
       "      <td>NaN</td>\n",
       "      <td>3.0</td>\n",
       "      <td>I order 3 of them and one of the item is bad q...</td>\n",
       "      <td>... 3 of them and one of the item is bad quali...</td>\n",
       "      <td>Byger yang</td>\n",
       "      <td>{'neg': 0.186, 'neu': 0.814, 'pos': 0.0, 'comp...</td>\n",
       "      <td>-0.6908</td>\n",
       "      <td>... 3 of them and one of the item is bad quali...</td>\n",
       "      <td>{'neg': 0.218, 'neu': 0.782, 'pos': 0.0, 'comp...</td>\n",
       "      <td>-0.8860</td>\n",
       "    </tr>\n",
       "    <tr>\n",
       "      <th>1</th>\n",
       "      <td>AA,AAA,Health,Electronics,Health &amp; Household,C...</td>\n",
       "      <td>AmazonBasics AAA Performance Alkaline Batterie...</td>\n",
       "      <td>Electronics</td>\n",
       "      <td>2016-08-31T00:00:00.000Z</td>\n",
       "      <td>NaN</td>\n",
       "      <td>NaN</td>\n",
       "      <td>4.0</td>\n",
       "      <td>Bulk is always the less expensive way to go fo...</td>\n",
       "      <td>... always the less expensive way to go for pr...</td>\n",
       "      <td>ByMG</td>\n",
       "      <td>{'neg': 0.0, 'neu': 0.828, 'pos': 0.172, 'comp...</td>\n",
       "      <td>0.3612</td>\n",
       "      <td>... always the less expensive way to go for pr...</td>\n",
       "      <td>{'neg': 0.0, 'neu': 0.815, 'pos': 0.185, 'comp...</td>\n",
       "      <td>0.6124</td>\n",
       "    </tr>\n",
       "    <tr>\n",
       "      <th>2</th>\n",
       "      <td>AA,AAA,Health,Electronics,Health &amp; Household,C...</td>\n",
       "      <td>AmazonBasics AAA Performance Alkaline Batterie...</td>\n",
       "      <td>Electronics</td>\n",
       "      <td>2016-12-06T00:00:00.000Z</td>\n",
       "      <td>NaN</td>\n",
       "      <td>NaN</td>\n",
       "      <td>5.0</td>\n",
       "      <td>Well they are not Duracell but for the price i...</td>\n",
       "      <td>... are not Duracell but for the price i am ha...</td>\n",
       "      <td>BySharon Lambert</td>\n",
       "      <td>{'neg': 0.0, 'neu': 0.577, 'pos': 0.423, 'comp...</td>\n",
       "      <td>0.7650</td>\n",
       "      <td>... are not Duracell but for the price i am ha...</td>\n",
       "      <td>{'neg': 0.0, 'neu': 0.585, 'pos': 0.415, 'comp...</td>\n",
       "      <td>0.9294</td>\n",
       "    </tr>\n",
       "    <tr>\n",
       "      <th>3</th>\n",
       "      <td>AA,AAA,Health,Electronics,Health &amp; Household,C...</td>\n",
       "      <td>AmazonBasics AAA Performance Alkaline Batterie...</td>\n",
       "      <td>Electronics</td>\n",
       "      <td>2016-03-28T00:00:00.000Z</td>\n",
       "      <td>NaN</td>\n",
       "      <td>NaN</td>\n",
       "      <td>5.0</td>\n",
       "      <td>Seem to work as well as name brand batteries a...</td>\n",
       "      <td>... as well as name brand batteries at a much ...</td>\n",
       "      <td>Bymark sexson</td>\n",
       "      <td>{'neg': 0.0, 'neu': 0.688, 'pos': 0.312, 'comp...</td>\n",
       "      <td>0.6124</td>\n",
       "      <td>... as well as name brand batteries at a much ...</td>\n",
       "      <td>{'neg': 0.0, 'neu': 0.655, 'pos': 0.345, 'comp...</td>\n",
       "      <td>0.8402</td>\n",
       "    </tr>\n",
       "    <tr>\n",
       "      <th>4</th>\n",
       "      <td>AA,AAA,Health,Electronics,Health &amp; Household,C...</td>\n",
       "      <td>AmazonBasics AAA Performance Alkaline Batterie...</td>\n",
       "      <td>Electronics</td>\n",
       "      <td>2017-04-22T00:00:00.000Z</td>\n",
       "      <td>NaN</td>\n",
       "      <td>NaN</td>\n",
       "      <td>5.0</td>\n",
       "      <td>These batteries are very long lasting the pric...</td>\n",
       "      <td>... batteries are very long lasting the price ...</td>\n",
       "      <td>Bylinda</td>\n",
       "      <td>{'neg': 0.0, 'neu': 0.687, 'pos': 0.313, 'comp...</td>\n",
       "      <td>0.6249</td>\n",
       "      <td>... batteries are very long lasting the price ...</td>\n",
       "      <td>{'neg': 0.0, 'neu': 0.687, 'pos': 0.313, 'comp...</td>\n",
       "      <td>0.8481</td>\n",
       "    </tr>\n",
       "  </tbody>\n",
       "</table>\n",
       "</div>"
      ],
      "text/plain": [
       "                                          categories  \\\n",
       "0  AA,AAA,Health,Electronics,Health & Household,C...   \n",
       "1  AA,AAA,Health,Electronics,Health & Household,C...   \n",
       "2  AA,AAA,Health,Electronics,Health & Household,C...   \n",
       "3  AA,AAA,Health,Electronics,Health & Household,C...   \n",
       "4  AA,AAA,Health,Electronics,Health & Household,C...   \n",
       "\n",
       "                                                name primaryCategories  \\\n",
       "0  AmazonBasics AAA Performance Alkaline Batterie...       Electronics   \n",
       "1  AmazonBasics AAA Performance Alkaline Batterie...       Electronics   \n",
       "2  AmazonBasics AAA Performance Alkaline Batterie...       Electronics   \n",
       "3  AmazonBasics AAA Performance Alkaline Batterie...       Electronics   \n",
       "4  AmazonBasics AAA Performance Alkaline Batterie...       Electronics   \n",
       "\n",
       "               reviews.date reviews.doRecommend  reviews.numHelpful  \\\n",
       "0  2017-03-02T00:00:00.000Z                 NaN                 NaN   \n",
       "1  2016-08-31T00:00:00.000Z                 NaN                 NaN   \n",
       "2  2016-12-06T00:00:00.000Z                 NaN                 NaN   \n",
       "3  2016-03-28T00:00:00.000Z                 NaN                 NaN   \n",
       "4  2017-04-22T00:00:00.000Z                 NaN                 NaN   \n",
       "\n",
       "   reviews.rating                                       reviews.text  \\\n",
       "0             3.0  I order 3 of them and one of the item is bad q...   \n",
       "1             4.0  Bulk is always the less expensive way to go fo...   \n",
       "2             5.0  Well they are not Duracell but for the price i...   \n",
       "3             5.0  Seem to work as well as name brand batteries a...   \n",
       "4             5.0  These batteries are very long lasting the pric...   \n",
       "\n",
       "                                       reviews.title  reviews.username  \\\n",
       "0  ... 3 of them and one of the item is bad quali...        Byger yang   \n",
       "1  ... always the less expensive way to go for pr...              ByMG   \n",
       "2  ... are not Duracell but for the price i am ha...  BySharon Lambert   \n",
       "3  ... as well as name brand batteries at a much ...     Bymark sexson   \n",
       "4  ... batteries are very long lasting the price ...           Bylinda   \n",
       "\n",
       "                                               score  Compound_Score  \\\n",
       "0  {'neg': 0.186, 'neu': 0.814, 'pos': 0.0, 'comp...         -0.6908   \n",
       "1  {'neg': 0.0, 'neu': 0.828, 'pos': 0.172, 'comp...          0.3612   \n",
       "2  {'neg': 0.0, 'neu': 0.577, 'pos': 0.423, 'comp...          0.7650   \n",
       "3  {'neg': 0.0, 'neu': 0.688, 'pos': 0.312, 'comp...          0.6124   \n",
       "4  {'neg': 0.0, 'neu': 0.687, 'pos': 0.313, 'comp...          0.6249   \n",
       "\n",
       "                                          text_title  \\\n",
       "0  ... 3 of them and one of the item is bad quali...   \n",
       "1  ... always the less expensive way to go for pr...   \n",
       "2  ... are not Duracell but for the price i am ha...   \n",
       "3  ... as well as name brand batteries at a much ...   \n",
       "4  ... batteries are very long lasting the price ...   \n",
       "\n",
       "                                     combined_scores  combined_compound  \n",
       "0  {'neg': 0.218, 'neu': 0.782, 'pos': 0.0, 'comp...            -0.8860  \n",
       "1  {'neg': 0.0, 'neu': 0.815, 'pos': 0.185, 'comp...             0.6124  \n",
       "2  {'neg': 0.0, 'neu': 0.585, 'pos': 0.415, 'comp...             0.9294  \n",
       "3  {'neg': 0.0, 'neu': 0.655, 'pos': 0.345, 'comp...             0.8402  \n",
       "4  {'neg': 0.0, 'neu': 0.687, 'pos': 0.313, 'comp...             0.8481  "
      ]
     },
     "execution_count": 11,
     "metadata": {},
     "output_type": "execute_result"
    }
   ],
   "source": [
    "df1['combined_compound']  = df1['combined_scores'].apply(lambda score_dict: score_dict['compound'])\n",
    "\n",
    "df1.head()"
   ]
  },
  {
   "cell_type": "code",
   "execution_count": 12,
   "metadata": {},
   "outputs": [
    {
     "name": "stderr",
     "output_type": "stream",
     "text": [
      "<ipython-input-12-7020dba1819a>:1: FutureWarning: Passing a negative integer is deprecated in version 1.0 and will not be supported in future version. Instead, use None to not limit the column width.\n",
      "  pd.set_option('max_colwidth', -1)\n"
     ]
    }
   ],
   "source": [
    "pd.set_option('max_colwidth', -1)"
   ]
  },
  {
   "cell_type": "code",
   "execution_count": 24,
   "metadata": {
    "scrolled": false
   },
   "outputs": [
    {
     "data": {
      "text/html": [
       "<div>\n",
       "<style scoped>\n",
       "    .dataframe tbody tr th:only-of-type {\n",
       "        vertical-align: middle;\n",
       "    }\n",
       "\n",
       "    .dataframe tbody tr th {\n",
       "        vertical-align: top;\n",
       "    }\n",
       "\n",
       "    .dataframe thead th {\n",
       "        text-align: right;\n",
       "    }\n",
       "</style>\n",
       "<table border=\"1\" class=\"dataframe\">\n",
       "  <thead>\n",
       "    <tr style=\"text-align: right;\">\n",
       "      <th></th>\n",
       "      <th>text_title</th>\n",
       "      <th>Compound_Score</th>\n",
       "      <th>combined_compound</th>\n",
       "    </tr>\n",
       "  </thead>\n",
       "  <tbody>\n",
       "    <tr>\n",
       "      <th>0</th>\n",
       "      <td>... 3 of them and one of the item is bad quality. Is missing backup spring so I have ... I order 3 of them and one of the item is bad quality. Is missing backup spring so I have to put a pcs of aluminum to make the battery work.</td>\n",
       "      <td>-0.6908</td>\n",
       "      <td>-0.8860</td>\n",
       "    </tr>\n",
       "    <tr>\n",
       "      <th>8</th>\n",
       "      <td>... do not hold the amount of high power juice like energizer or duracell These do not hold the amount of high power juice like energizer or duracell, but they are half the price.</td>\n",
       "      <td>0.4215</td>\n",
       "      <td>0.6808</td>\n",
       "    </tr>\n",
       "    <tr>\n",
       "      <th>11</th>\n",
       "      <td>... first started getting the Amazon basic batteries I really liked them. With recent purchases When I first started getting the Amazon basic batteries I really liked them. With recent purchases, they do not seem to last like they had, or maybe a mixed-bag (inconsistent with some lasting better than others). I have not done any tests, but feel some other brands may last longer. However, the price is hard to beat.</td>\n",
       "      <td>0.5418</td>\n",
       "      <td>0.7089</td>\n",
       "    </tr>\n",
       "    <tr>\n",
       "      <th>19</th>\n",
       "      <td>... my Christmas gifts the month of (december) only lasted like 2months toys now need replacement batteries Bought these batteries for my Christmas gifts the month of (december) only lasted like 2months toys now need replacement batteries . I also used some for my doorbell and just now needs replacement batteries. Tv Remote control is still working but these batteries don't last very long...</td>\n",
       "      <td>0.1901</td>\n",
       "      <td>0.3612</td>\n",
       "    </tr>\n",
       "    <tr>\n",
       "      <th>29</th>\n",
       "      <td>... there to fit the light when they arrived and nice company they were not the batteries we needed it ... these were under a light we thought they were there to fit the light when they arrived and nice company they were not the batteries we needed it should have been aa but that is ok,it was our fault not knowing this. thanks..</td>\n",
       "      <td>-0.2263</td>\n",
       "      <td>0.1901</td>\n",
       "    </tr>\n",
       "    <tr>\n",
       "      <th>...</th>\n",
       "      <td>...</td>\n",
       "      <td>...</td>\n",
       "      <td>...</td>\n",
       "    </tr>\n",
       "    <tr>\n",
       "      <th>67745</th>\n",
       "      <td>took it back Fire TV was just about equal to the nexus player. and it it more expensive</td>\n",
       "      <td>-0.3400</td>\n",
       "      <td>-0.3400</td>\n",
       "    </tr>\n",
       "    <tr>\n",
       "      <th>67824</th>\n",
       "      <td>Good FireTV but not great Good FireTV but remote is buggy. Other than that its a FireTV.</td>\n",
       "      <td>0.2382</td>\n",
       "      <td>0.0923</td>\n",
       "    </tr>\n",
       "    <tr>\n",
       "      <th>67864</th>\n",
       "      <td>Nice 4K content needs work though. I was a loyal Roku 3 but since I got a 4K tv I wanted something that streamed 4K. The Fire TV has a lot of good qualities but the fact it constantly resets randomly is frustrating for sure. I have the highest speed internet via Comcast so I don't understand why it's doing that.Amazon prime is great so it's not bad just need the bugs worked out for a higher rating from me.</td>\n",
       "      <td>0.9139</td>\n",
       "      <td>0.9277</td>\n",
       "    </tr>\n",
       "    <tr>\n",
       "      <th>67936</th>\n",
       "      <td>Kindle Cover Issue This cover is a replacement for the initial cover that broke my kindle framewhere the top hinge goes into the Kindle. The metal on the original hinge system was too light weight to withstand having the cover fold all the way back on the Kindle and after just over a year resulted in the hinge becoming bent up towards the frame and it cracked the frame on my Kindle.I understand this new Kindle cover is supposed to have corrected that problembut the hinge system looks identical to the one that was on my old cover. I hope that over time, again, about a year plus it won't crack the frame in the same place again on my new Kindle.I am so thankful that Amazon replace both my Kindle and the book cover as a result of this problem.I would recomend that after about 6 months use it would be wise to remove the cover from your Kindle and see if the top hinge is beginning to bend upwards towards the frame and if so contact Amazon before the frame of your Kindle breaks where the top hinge inserts into your Kindle.</td>\n",
       "      <td>0.9483</td>\n",
       "      <td>0.9483</td>\n",
       "    </tr>\n",
       "    <tr>\n",
       "      <th>67953</th>\n",
       "      <td>Not appreciably faster than any other 1.8A charger This is not appreciably faster than any other 1.8 or higher amp charger when used with my Kindle, Kindle Fire, Kindle Fire HD, various Android tablets, and other devices that have USB charging cables.It also blocks an adjacent outlet. Why didn't they put the plug on the short end like the original black-and-white Kindle chargerIt is an exceptionally good deal when purchased together with a Kindle Fire HD on promotion, but the regular price is not competitive for a supposedly premium charger.Additionally, it does not come with a cable, an omission that many people won't realize.**EDIT** I appreciate the many comments, but Amazon promotes this charger as something that charges faster than other chargers, but I haven't seen any such advantage. At promotional prices, it's a good deal, but not at almost twenty dollars. Otherwise, look elsewhere.**EDIT** When the review was written, the description of the item did not have this statement Optimized for Kindle tablets: PowerFast is a 9W charger and will charge your Kindle tablets faster than the white 5W Kindle charger will. That line was added a considerable amount of time after I wrote my review.</td>\n",
       "      <td>0.8615</td>\n",
       "      <td>0.8615</td>\n",
       "    </tr>\n",
       "  </tbody>\n",
       "</table>\n",
       "<p>2902 rows × 3 columns</p>\n",
       "</div>"
      ],
      "text/plain": [
       "                                                                                                                                                                                                                                                                                                                                                                                                                                                                                                                                                                                                                                                                                                                                                                                                                                                                                                                                                                                                                                                                                                                                                                                                                                                      text_title  \\\n",
       "0      ... 3 of them and one of the item is bad quality. Is missing backup spring so I have ... I order 3 of them and one of the item is bad quality. Is missing backup spring so I have to put a pcs of aluminum to make the battery work.                                                                                                                                                                                                                                                                                                                                                                                                                                                                                                                                                                                                                                                                                                                                                                                                                                                                                                                                                                                                                        \n",
       "8      ... do not hold the amount of high power juice like energizer or duracell These do not hold the amount of high power juice like energizer or duracell, but they are half the price.                                                                                                                                                                                                                                                                                                                                                                                                                                                                                                                                                                                                                                                                                                                                                                                                                                                                                                                                                                                                                                                                         \n",
       "11     ... first started getting the Amazon basic batteries I really liked them. With recent purchases When I first started getting the Amazon basic batteries I really liked them. With recent purchases, they do not seem to last like they had, or maybe a mixed-bag (inconsistent with some lasting better than others). I have not done any tests, but feel some other brands may last longer. However, the price is hard to beat.                                                                                                                                                                                                                                                                                                                                                                                                                                                                                                                                                                                                                                                                                                                                                                                                                            \n",
       "19     ... my Christmas gifts the month of (december) only lasted like 2months toys now need replacement batteries Bought these batteries for my Christmas gifts the month of (december) only lasted like 2months toys now need replacement batteries . I also used some for my doorbell and just now needs replacement batteries. Tv Remote control is still working but these batteries don't last very long...                                                                                                                                                                                                                                                                                                                                                                                                                                                                                                                                                                                                                                                                                                                                                                                                                                                  \n",
       "29     ... there to fit the light when they arrived and nice company they were not the batteries we needed it ... these were under a light we thought they were there to fit the light when they arrived and nice company they were not the batteries we needed it should have been aa but that is ok,it was our fault not knowing this. thanks..                                                                                                                                                                                                                                                                                                                                                                                                                                                                                                                                                                                                                                                                                                                                                                                                                                                                                                                  \n",
       "...                                                                                                                                                                                                                                                                                                                                           ...                                                                                                                                                                                                                                                                                                                                                                                                                                                                                                                                                                                                                                                                                                                                                                                                                                                                                                                  \n",
       "67745  took it back Fire TV was just about equal to the nexus player. and it it more expensive                                                                                                                                                                                                                                                                                                                                                                                                                                                                                                                                                                                                                                                                                                                                                                                                                                                                                                                                                                                                                                                                                                                                                                     \n",
       "67824  Good FireTV but not great Good FireTV but remote is buggy. Other than that its a FireTV.                                                                                                                                                                                                                                                                                                                                                                                                                                                                                                                                                                                                                                                                                                                                                                                                                                                                                                                                                                                                                                                                                                                                                                    \n",
       "67864  Nice 4K content needs work though. I was a loyal Roku 3 but since I got a 4K tv I wanted something that streamed 4K. The Fire TV has a lot of good qualities but the fact it constantly resets randomly is frustrating for sure. I have the highest speed internet via Comcast so I don't understand why it's doing that.Amazon prime is great so it's not bad just need the bugs worked out for a higher rating from me.                                                                                                                                                                                                                                                                                                                                                                                                                                                                                                                                                                                                                                                                                                                                                                                                                                   \n",
       "67936  Kindle Cover Issue This cover is a replacement for the initial cover that broke my kindle framewhere the top hinge goes into the Kindle. The metal on the original hinge system was too light weight to withstand having the cover fold all the way back on the Kindle and after just over a year resulted in the hinge becoming bent up towards the frame and it cracked the frame on my Kindle.I understand this new Kindle cover is supposed to have corrected that problembut the hinge system looks identical to the one that was on my old cover. I hope that over time, again, about a year plus it won't crack the frame in the same place again on my new Kindle.I am so thankful that Amazon replace both my Kindle and the book cover as a result of this problem.I would recomend that after about 6 months use it would be wise to remove the cover from your Kindle and see if the top hinge is beginning to bend upwards towards the frame and if so contact Amazon before the frame of your Kindle breaks where the top hinge inserts into your Kindle.                                                                                                                                                                                     \n",
       "67953  Not appreciably faster than any other 1.8A charger This is not appreciably faster than any other 1.8 or higher amp charger when used with my Kindle, Kindle Fire, Kindle Fire HD, various Android tablets, and other devices that have USB charging cables.It also blocks an adjacent outlet. Why didn't they put the plug on the short end like the original black-and-white Kindle chargerIt is an exceptionally good deal when purchased together with a Kindle Fire HD on promotion, but the regular price is not competitive for a supposedly premium charger.Additionally, it does not come with a cable, an omission that many people won't realize.**EDIT** I appreciate the many comments, but Amazon promotes this charger as something that charges faster than other chargers, but I haven't seen any such advantage. At promotional prices, it's a good deal, but not at almost twenty dollars. Otherwise, look elsewhere.**EDIT** When the review was written, the description of the item did not have this statement Optimized for Kindle tablets: PowerFast is a 9W charger and will charge your Kindle tablets faster than the white 5W Kindle charger will. That line was added a considerable amount of time after I wrote my review.   \n",
       "\n",
       "       Compound_Score  combined_compound  \n",
       "0     -0.6908         -0.8860             \n",
       "8      0.4215          0.6808             \n",
       "11     0.5418          0.7089             \n",
       "19     0.1901          0.3612             \n",
       "29    -0.2263          0.1901             \n",
       "...       ...             ...             \n",
       "67745 -0.3400         -0.3400             \n",
       "67824  0.2382          0.0923             \n",
       "67864  0.9139          0.9277             \n",
       "67936  0.9483          0.9483             \n",
       "67953  0.8615          0.8615             \n",
       "\n",
       "[2902 rows x 3 columns]"
      ]
     },
     "execution_count": 24,
     "metadata": {},
     "output_type": "execute_result"
    }
   ],
   "source": [
    "# After concatenating title & text features, the compound score has changed but there are a few errors in the score prediction\n",
    "\n",
    "df1.loc[df1['reviews.rating']==3][['text_title','Compound_Score','combined_compound']]"
   ]
  },
  {
   "cell_type": "code",
   "execution_count": 22,
   "metadata": {},
   "outputs": [
    {
     "data": {
      "text/plain": [
       "Text(0, 0.5, 'compound score of title + review feature')"
      ]
     },
     "execution_count": 22,
     "metadata": {},
     "output_type": "execute_result"
    },
    {
     "data": {
      "image/png": "[encoded data removed]",
      "text/plain": [
       "<Figure size 720x576 with 1 Axes>"
      ]
     },
     "metadata": {
      "needs_background": "light"
     },
     "output_type": "display_data"
    }
   ],
   "source": [
    "plt.figure(figsize=(10,8))\n",
    "plt.scatter(df1['Compound_Score'],df1['combined_compound'], color='green')\n",
    "plt.xlabel('compound score of review feature')\n",
    "plt.ylabel('compound score of title + review feature')"
   ]
  },
  {
   "cell_type": "markdown",
   "metadata": {},
   "source": [
    "### Scaling rating feature using MinMax scaler for comparison with combined_compound"
   ]
  },
  {
   "cell_type": "code",
   "execution_count": 81,
   "metadata": {},
   "outputs": [],
   "source": [
    "from sklearn.preprocessing import MinMaxScaler\n"
   ]
  },
  {
   "cell_type": "code",
   "execution_count": 82,
   "metadata": {},
   "outputs": [],
   "source": [
    "scaler = MinMaxScaler(feature_range=(-1,1))"
   ]
  },
  {
   "cell_type": "code",
   "execution_count": 84,
   "metadata": {},
   "outputs": [],
   "source": [
    "scaler.fit(df1[['reviews.rating']])\n",
    "df1['scaled_rating']= scaler.transform(df1[['reviews.rating']])"
   ]
  },
  {
   "cell_type": "code",
   "execution_count": 85,
   "metadata": {},
   "outputs": [
    {
     "data": {
      "text/html": [
       "<div>\n",
       "<style scoped>\n",
       "    .dataframe tbody tr th:only-of-type {\n",
       "        vertical-align: middle;\n",
       "    }\n",
       "\n",
       "    .dataframe tbody tr th {\n",
       "        vertical-align: top;\n",
       "    }\n",
       "\n",
       "    .dataframe thead th {\n",
       "        text-align: right;\n",
       "    }\n",
       "</style>\n",
       "<table border=\"1\" class=\"dataframe\">\n",
       "  <thead>\n",
       "    <tr style=\"text-align: right;\">\n",
       "      <th></th>\n",
       "      <th>categories</th>\n",
       "      <th>name</th>\n",
       "      <th>primaryCategories</th>\n",
       "      <th>reviews.date</th>\n",
       "      <th>reviews.doRecommend</th>\n",
       "      <th>reviews.numHelpful</th>\n",
       "      <th>reviews.rating</th>\n",
       "      <th>reviews.text</th>\n",
       "      <th>reviews.title</th>\n",
       "      <th>reviews.username</th>\n",
       "      <th>score</th>\n",
       "      <th>Compound_Score</th>\n",
       "      <th>text_title</th>\n",
       "      <th>combined_scores</th>\n",
       "      <th>combined_compound</th>\n",
       "      <th>scaled_rating</th>\n",
       "    </tr>\n",
       "  </thead>\n",
       "  <tbody>\n",
       "    <tr>\n",
       "      <th>0</th>\n",
       "      <td>AA,AAA,Health,Electronics,Health &amp; Household,Camcorder Batteries,Camera &amp; Photo,Batteries,Household Batteries,Robot Check,Accessories,Camera Batteries,Health and Beauty,Household Supplies,Batteries &amp; Chargers,Health, Household &amp; Baby Care,Health Personal Care</td>\n",
       "      <td>AmazonBasics AAA Performance Alkaline Batteries (36 Count)</td>\n",
       "      <td>Electronics</td>\n",
       "      <td>2017-03-02T00:00:00.000Z</td>\n",
       "      <td>NaN</td>\n",
       "      <td>NaN</td>\n",
       "      <td>3.0</td>\n",
       "      <td>I order 3 of them and one of the item is bad quality. Is missing backup spring so I have to put a pcs of aluminum to make the battery work.</td>\n",
       "      <td>... 3 of them and one of the item is bad quality. Is missing backup spring so I have ...</td>\n",
       "      <td>Byger yang</td>\n",
       "      <td>{'neg': 0.186, 'neu': 0.814, 'pos': 0.0, 'compound': -0.6908}</td>\n",
       "      <td>-0.6908</td>\n",
       "      <td>... 3 of them and one of the item is bad quality. Is missing backup spring so I have ... I order 3 of them and one of the item is bad quality. Is missing backup spring so I have to put a pcs of aluminum to make the battery work.</td>\n",
       "      <td>{'neg': 0.218, 'neu': 0.782, 'pos': 0.0, 'compound': -0.886}</td>\n",
       "      <td>-0.8860</td>\n",
       "      <td>0.0</td>\n",
       "    </tr>\n",
       "    <tr>\n",
       "      <th>1</th>\n",
       "      <td>AA,AAA,Health,Electronics,Health &amp; Household,Camcorder Batteries,Camera &amp; Photo,Batteries,Household Batteries,Robot Check,Accessories,Camera Batteries,Health and Beauty,Household Supplies,Batteries &amp; Chargers,Health, Household &amp; Baby Care,Health Personal Care</td>\n",
       "      <td>AmazonBasics AAA Performance Alkaline Batteries (36 Count)</td>\n",
       "      <td>Electronics</td>\n",
       "      <td>2016-08-31T00:00:00.000Z</td>\n",
       "      <td>NaN</td>\n",
       "      <td>NaN</td>\n",
       "      <td>4.0</td>\n",
       "      <td>Bulk is always the less expensive way to go for products like these</td>\n",
       "      <td>... always the less expensive way to go for products like</td>\n",
       "      <td>ByMG</td>\n",
       "      <td>{'neg': 0.0, 'neu': 0.828, 'pos': 0.172, 'compound': 0.3612}</td>\n",
       "      <td>0.3612</td>\n",
       "      <td>... always the less expensive way to go for products like Bulk is always the less expensive way to go for products like these</td>\n",
       "      <td>{'neg': 0.0, 'neu': 0.815, 'pos': 0.185, 'compound': 0.6124}</td>\n",
       "      <td>0.6124</td>\n",
       "      <td>0.5</td>\n",
       "    </tr>\n",
       "    <tr>\n",
       "      <th>2</th>\n",
       "      <td>AA,AAA,Health,Electronics,Health &amp; Household,Camcorder Batteries,Camera &amp; Photo,Batteries,Household Batteries,Robot Check,Accessories,Camera Batteries,Health and Beauty,Household Supplies,Batteries &amp; Chargers,Health, Household &amp; Baby Care,Health Personal Care</td>\n",
       "      <td>AmazonBasics AAA Performance Alkaline Batteries (36 Count)</td>\n",
       "      <td>Electronics</td>\n",
       "      <td>2016-12-06T00:00:00.000Z</td>\n",
       "      <td>NaN</td>\n",
       "      <td>NaN</td>\n",
       "      <td>5.0</td>\n",
       "      <td>Well they are not Duracell but for the price i am happy.</td>\n",
       "      <td>... are not Duracell but for the price i am happy.</td>\n",
       "      <td>BySharon Lambert</td>\n",
       "      <td>{'neg': 0.0, 'neu': 0.577, 'pos': 0.423, 'compound': 0.765}</td>\n",
       "      <td>0.7650</td>\n",
       "      <td>... are not Duracell but for the price i am happy. Well they are not Duracell but for the price i am happy.</td>\n",
       "      <td>{'neg': 0.0, 'neu': 0.585, 'pos': 0.415, 'compound': 0.9294}</td>\n",
       "      <td>0.9294</td>\n",
       "      <td>1.0</td>\n",
       "    </tr>\n",
       "    <tr>\n",
       "      <th>3</th>\n",
       "      <td>AA,AAA,Health,Electronics,Health &amp; Household,Camcorder Batteries,Camera &amp; Photo,Batteries,Household Batteries,Robot Check,Accessories,Camera Batteries,Health and Beauty,Household Supplies,Batteries &amp; Chargers,Health, Household &amp; Baby Care,Health Personal Care</td>\n",
       "      <td>AmazonBasics AAA Performance Alkaline Batteries (36 Count)</td>\n",
       "      <td>Electronics</td>\n",
       "      <td>2016-03-28T00:00:00.000Z</td>\n",
       "      <td>NaN</td>\n",
       "      <td>NaN</td>\n",
       "      <td>5.0</td>\n",
       "      <td>Seem to work as well as name brand batteries at a much better price</td>\n",
       "      <td>... as well as name brand batteries at a much better</td>\n",
       "      <td>Bymark sexson</td>\n",
       "      <td>{'neg': 0.0, 'neu': 0.688, 'pos': 0.312, 'compound': 0.6124}</td>\n",
       "      <td>0.6124</td>\n",
       "      <td>... as well as name brand batteries at a much better Seem to work as well as name brand batteries at a much better price</td>\n",
       "      <td>{'neg': 0.0, 'neu': 0.655, 'pos': 0.345, 'compound': 0.8402}</td>\n",
       "      <td>0.8402</td>\n",
       "      <td>1.0</td>\n",
       "    </tr>\n",
       "    <tr>\n",
       "      <th>4</th>\n",
       "      <td>AA,AAA,Health,Electronics,Health &amp; Household,Camcorder Batteries,Camera &amp; Photo,Batteries,Household Batteries,Robot Check,Accessories,Camera Batteries,Health and Beauty,Household Supplies,Batteries &amp; Chargers,Health, Household &amp; Baby Care,Health Personal Care</td>\n",
       "      <td>AmazonBasics AAA Performance Alkaline Batteries (36 Count)</td>\n",
       "      <td>Electronics</td>\n",
       "      <td>2017-04-22T00:00:00.000Z</td>\n",
       "      <td>NaN</td>\n",
       "      <td>NaN</td>\n",
       "      <td>5.0</td>\n",
       "      <td>These batteries are very long lasting the price is great.</td>\n",
       "      <td>... batteries are very long lasting the price is great.</td>\n",
       "      <td>Bylinda</td>\n",
       "      <td>{'neg': 0.0, 'neu': 0.687, 'pos': 0.313, 'compound': 0.6249}</td>\n",
       "      <td>0.6249</td>\n",
       "      <td>... batteries are very long lasting the price is great. These batteries are very long lasting the price is great.</td>\n",
       "      <td>{'neg': 0.0, 'neu': 0.687, 'pos': 0.313, 'compound': 0.8481}</td>\n",
       "      <td>0.8481</td>\n",
       "      <td>1.0</td>\n",
       "    </tr>\n",
       "    <tr>\n",
       "      <th>5</th>\n",
       "      <td>AA,AAA,Health,Electronics,Health &amp; Household,Camcorder Batteries,Camera &amp; Photo,Batteries,Household Batteries,Robot Check,Accessories,Camera Batteries,Health and Beauty,Household Supplies,Batteries &amp; Chargers,Health, Household &amp; Baby Care,Health Personal Care</td>\n",
       "      <td>AmazonBasics AAA Performance Alkaline Batteries (36 Count)</td>\n",
       "      <td>Electronics</td>\n",
       "      <td>2016-02-17T00:00:00.000Z</td>\n",
       "      <td>NaN</td>\n",
       "      <td>NaN</td>\n",
       "      <td>5.0</td>\n",
       "      <td>Bought a lot of batteries for Christmas and the AmazonBasics Cell have been good. I haven't noticed a difference between the brand name batteries and the Amazon Basic brand. Just a lot easier to purchase and have arrive at the house and have on hand. Will buy again.</td>\n",
       "      <td>... batteries for Christmas and the AmazonBasics Cell have been good. I haven't noticed a difference between the brand ...</td>\n",
       "      <td>ByPainter Marlow</td>\n",
       "      <td>{'neg': 0.0, 'neu': 0.791, 'pos': 0.209, 'compound': 0.8625}</td>\n",
       "      <td>0.8625</td>\n",
       "      <td>... batteries for Christmas and the AmazonBasics Cell have been good. I haven't noticed a difference between the brand ... Bought a lot of batteries for Christmas and the AmazonBasics Cell have been good. I haven't noticed a difference between the brand name batteries and the Amazon Basic brand. Just a lot easier to purchase and have arrive at the house and have on hand. Will buy again.</td>\n",
       "      <td>{'neg': 0.0, 'neu': 0.809, 'pos': 0.191, 'compound': 0.91}</td>\n",
       "      <td>0.9100</td>\n",
       "      <td>1.0</td>\n",
       "    </tr>\n",
       "    <tr>\n",
       "      <th>6</th>\n",
       "      <td>AA,AAA,Health,Electronics,Health &amp; Household,Camcorder Batteries,Camera &amp; Photo,Batteries,Household Batteries,Robot Check,Accessories,Camera Batteries,Health and Beauty,Household Supplies,Batteries &amp; Chargers,Health, Household &amp; Baby Care,Health Personal Care</td>\n",
       "      <td>AmazonBasics AAA Performance Alkaline Batteries (36 Count)</td>\n",
       "      <td>Electronics</td>\n",
       "      <td>2017-04-17T00:00:00.000Z</td>\n",
       "      <td>NaN</td>\n",
       "      <td>NaN</td>\n",
       "      <td>5.0</td>\n",
       "      <td>ive not had any problame with these batteries have ordered them in the past been very pleased.</td>\n",
       "      <td>... batteries have ordered them in the past been very pleased.</td>\n",
       "      <td>ByAmazon Customer</td>\n",
       "      <td>{'neg': 0.0, 'neu': 0.834, 'pos': 0.166, 'compound': 0.4927}</td>\n",
       "      <td>0.4927</td>\n",
       "      <td>... batteries have ordered them in the past been very pleased. ive not had any problame with these batteries have ordered them in the past been very pleased.</td>\n",
       "      <td>{'neg': 0.0, 'neu': 0.803, 'pos': 0.197, 'compound': 0.7496}</td>\n",
       "      <td>0.7496</td>\n",
       "      <td>1.0</td>\n",
       "    </tr>\n",
       "    <tr>\n",
       "      <th>7</th>\n",
       "      <td>AA,AAA,Health,Electronics,Health &amp; Household,Camcorder Batteries,Camera &amp; Photo,Batteries,Household Batteries,Robot Check,Accessories,Camera Batteries,Health and Beauty,Household Supplies,Batteries &amp; Chargers,Health, Household &amp; Baby Care,Health Personal Care</td>\n",
       "      <td>AmazonBasics AAA Performance Alkaline Batteries (36 Count)</td>\n",
       "      <td>Electronics</td>\n",
       "      <td>2017-04-16T00:00:00.000Z</td>\n",
       "      <td>NaN</td>\n",
       "      <td>NaN</td>\n",
       "      <td>5.0</td>\n",
       "      <td>Well if you are looking for cheap non-rechargeable batteries that last quite a while then these are perfect. Nothing more to say.</td>\n",
       "      <td>... batteries that last quite a while then these are perfect. Nothing more to say</td>\n",
       "      <td>ByLynn Pendegrass</td>\n",
       "      <td>{'neg': 0.0, 'neu': 0.766, 'pos': 0.234, 'compound': 0.7003}</td>\n",
       "      <td>0.7003</td>\n",
       "      <td>... batteries that last quite a while then these are perfect. Nothing more to say Well if you are looking for cheap non-rechargeable batteries that last quite a while then these are perfect. Nothing more to say.</td>\n",
       "      <td>{'neg': 0.0, 'neu': 0.766, 'pos': 0.234, 'compound': 0.8678}</td>\n",
       "      <td>0.8678</td>\n",
       "      <td>1.0</td>\n",
       "    </tr>\n",
       "    <tr>\n",
       "      <th>8</th>\n",
       "      <td>AA,AAA,Health,Electronics,Health &amp; Household,Camcorder Batteries,Camera &amp; Photo,Batteries,Household Batteries,Robot Check,Accessories,Camera Batteries,Health and Beauty,Household Supplies,Batteries &amp; Chargers,Health, Household &amp; Baby Care,Health Personal Care</td>\n",
       "      <td>AmazonBasics AAA Performance Alkaline Batteries (36 Count)</td>\n",
       "      <td>Electronics</td>\n",
       "      <td>2016-04-07T00:00:00.000Z</td>\n",
       "      <td>NaN</td>\n",
       "      <td>NaN</td>\n",
       "      <td>3.0</td>\n",
       "      <td>These do not hold the amount of high power juice like energizer or duracell, but they are half the price.</td>\n",
       "      <td>... do not hold the amount of high power juice like energizer or duracell</td>\n",
       "      <td>ByK.R.</td>\n",
       "      <td>{'neg': 0.0, 'neu': 0.826, 'pos': 0.174, 'compound': 0.4215}</td>\n",
       "      <td>0.4215</td>\n",
       "      <td>... do not hold the amount of high power juice like energizer or duracell These do not hold the amount of high power juice like energizer or duracell, but they are half the price.</td>\n",
       "      <td>{'neg': 0.0, 'neu': 0.798, 'pos': 0.202, 'compound': 0.6808}</td>\n",
       "      <td>0.6808</td>\n",
       "      <td>0.0</td>\n",
       "    </tr>\n",
       "    <tr>\n",
       "      <th>9</th>\n",
       "      <td>AA,AAA,Health,Electronics,Health &amp; Household,Camcorder Batteries,Camera &amp; Photo,Batteries,Household Batteries,Robot Check,Accessories,Camera Batteries,Health and Beauty,Household Supplies,Batteries &amp; Chargers,Health, Household &amp; Baby Care,Health Personal Care</td>\n",
       "      <td>AmazonBasics AAA Performance Alkaline Batteries (36 Count)</td>\n",
       "      <td>Electronics</td>\n",
       "      <td>2017-05-24T00:00:00.000Z</td>\n",
       "      <td>NaN</td>\n",
       "      <td>NaN</td>\n",
       "      <td>4.0</td>\n",
       "      <td>AmazonBasics AA AAA batteries have done well by me appear to have a good shelf life. I'll buy them again.</td>\n",
       "      <td>... done well by me appear to have a good shelf life</td>\n",
       "      <td>BySilverLane</td>\n",
       "      <td>{'neg': 0.0, 'neu': 0.773, 'pos': 0.227, 'compound': 0.6124}</td>\n",
       "      <td>0.6124</td>\n",
       "      <td>... done well by me appear to have a good shelf life AmazonBasics AA AAA batteries have done well by me appear to have a good shelf life. I'll buy them again.</td>\n",
       "      <td>{'neg': 0.0, 'neu': 0.722, 'pos': 0.278, 'compound': 0.8402}</td>\n",
       "      <td>0.8402</td>\n",
       "      <td>0.5</td>\n",
       "    </tr>\n",
       "  </tbody>\n",
       "</table>\n",
       "</div>"
      ],
      "text/plain": [
       "                                                                                                                                                                                                                                                            categories  \\\n",
       "0  AA,AAA,Health,Electronics,Health & Household,Camcorder Batteries,Camera & Photo,Batteries,Household Batteries,Robot Check,Accessories,Camera Batteries,Health and Beauty,Household Supplies,Batteries & Chargers,Health, Household & Baby Care,Health Personal Care   \n",
       "1  AA,AAA,Health,Electronics,Health & Household,Camcorder Batteries,Camera & Photo,Batteries,Household Batteries,Robot Check,Accessories,Camera Batteries,Health and Beauty,Household Supplies,Batteries & Chargers,Health, Household & Baby Care,Health Personal Care   \n",
       "2  AA,AAA,Health,Electronics,Health & Household,Camcorder Batteries,Camera & Photo,Batteries,Household Batteries,Robot Check,Accessories,Camera Batteries,Health and Beauty,Household Supplies,Batteries & Chargers,Health, Household & Baby Care,Health Personal Care   \n",
       "3  AA,AAA,Health,Electronics,Health & Household,Camcorder Batteries,Camera & Photo,Batteries,Household Batteries,Robot Check,Accessories,Camera Batteries,Health and Beauty,Household Supplies,Batteries & Chargers,Health, Household & Baby Care,Health Personal Care   \n",
       "4  AA,AAA,Health,Electronics,Health & Household,Camcorder Batteries,Camera & Photo,Batteries,Household Batteries,Robot Check,Accessories,Camera Batteries,Health and Beauty,Household Supplies,Batteries & Chargers,Health, Household & Baby Care,Health Personal Care   \n",
       "5  AA,AAA,Health,Electronics,Health & Household,Camcorder Batteries,Camera & Photo,Batteries,Household Batteries,Robot Check,Accessories,Camera Batteries,Health and Beauty,Household Supplies,Batteries & Chargers,Health, Household & Baby Care,Health Personal Care   \n",
       "6  AA,AAA,Health,Electronics,Health & Household,Camcorder Batteries,Camera & Photo,Batteries,Household Batteries,Robot Check,Accessories,Camera Batteries,Health and Beauty,Household Supplies,Batteries & Chargers,Health, Household & Baby Care,Health Personal Care   \n",
       "7  AA,AAA,Health,Electronics,Health & Household,Camcorder Batteries,Camera & Photo,Batteries,Household Batteries,Robot Check,Accessories,Camera Batteries,Health and Beauty,Household Supplies,Batteries & Chargers,Health, Household & Baby Care,Health Personal Care   \n",
       "8  AA,AAA,Health,Electronics,Health & Household,Camcorder Batteries,Camera & Photo,Batteries,Household Batteries,Robot Check,Accessories,Camera Batteries,Health and Beauty,Household Supplies,Batteries & Chargers,Health, Household & Baby Care,Health Personal Care   \n",
       "9  AA,AAA,Health,Electronics,Health & Household,Camcorder Batteries,Camera & Photo,Batteries,Household Batteries,Robot Check,Accessories,Camera Batteries,Health and Beauty,Household Supplies,Batteries & Chargers,Health, Household & Baby Care,Health Personal Care   \n",
       "\n",
       "                                                         name  \\\n",
       "0  AmazonBasics AAA Performance Alkaline Batteries (36 Count)   \n",
       "1  AmazonBasics AAA Performance Alkaline Batteries (36 Count)   \n",
       "2  AmazonBasics AAA Performance Alkaline Batteries (36 Count)   \n",
       "3  AmazonBasics AAA Performance Alkaline Batteries (36 Count)   \n",
       "4  AmazonBasics AAA Performance Alkaline Batteries (36 Count)   \n",
       "5  AmazonBasics AAA Performance Alkaline Batteries (36 Count)   \n",
       "6  AmazonBasics AAA Performance Alkaline Batteries (36 Count)   \n",
       "7  AmazonBasics AAA Performance Alkaline Batteries (36 Count)   \n",
       "8  AmazonBasics AAA Performance Alkaline Batteries (36 Count)   \n",
       "9  AmazonBasics AAA Performance Alkaline Batteries (36 Count)   \n",
       "\n",
       "  primaryCategories              reviews.date reviews.doRecommend  \\\n",
       "0  Electronics       2017-03-02T00:00:00.000Z  NaN                  \n",
       "1  Electronics       2016-08-31T00:00:00.000Z  NaN                  \n",
       "2  Electronics       2016-12-06T00:00:00.000Z  NaN                  \n",
       "3  Electronics       2016-03-28T00:00:00.000Z  NaN                  \n",
       "4  Electronics       2017-04-22T00:00:00.000Z  NaN                  \n",
       "5  Electronics       2016-02-17T00:00:00.000Z  NaN                  \n",
       "6  Electronics       2017-04-17T00:00:00.000Z  NaN                  \n",
       "7  Electronics       2017-04-16T00:00:00.000Z  NaN                  \n",
       "8  Electronics       2016-04-07T00:00:00.000Z  NaN                  \n",
       "9  Electronics       2017-05-24T00:00:00.000Z  NaN                  \n",
       "\n",
       "   reviews.numHelpful  reviews.rating  \\\n",
       "0 NaN                  3.0              \n",
       "1 NaN                  4.0              \n",
       "2 NaN                  5.0              \n",
       "3 NaN                  5.0              \n",
       "4 NaN                  5.0              \n",
       "5 NaN                  5.0              \n",
       "6 NaN                  5.0              \n",
       "7 NaN                  5.0              \n",
       "8 NaN                  3.0              \n",
       "9 NaN                  4.0              \n",
       "\n",
       "                                                                                                                                                                                                                                                                 reviews.text  \\\n",
       "0  I order 3 of them and one of the item is bad quality. Is missing backup spring so I have to put a pcs of aluminum to make the battery work.                                                                                                                                  \n",
       "1  Bulk is always the less expensive way to go for products like these                                                                                                                                                                                                          \n",
       "2  Well they are not Duracell but for the price i am happy.                                                                                                                                                                                                                     \n",
       "3  Seem to work as well as name brand batteries at a much better price                                                                                                                                                                                                          \n",
       "4  These batteries are very long lasting the price is great.                                                                                                                                                                                                                    \n",
       "5  Bought a lot of batteries for Christmas and the AmazonBasics Cell have been good. I haven't noticed a difference between the brand name batteries and the Amazon Basic brand. Just a lot easier to purchase and have arrive at the house and have on hand. Will buy again.   \n",
       "6  ive not had any problame with these batteries have ordered them in the past been very pleased.                                                                                                                                                                               \n",
       "7  Well if you are looking for cheap non-rechargeable batteries that last quite a while then these are perfect. Nothing more to say.                                                                                                                                            \n",
       "8  These do not hold the amount of high power juice like energizer or duracell, but they are half the price.                                                                                                                                                                    \n",
       "9  AmazonBasics AA AAA batteries have done well by me appear to have a good shelf life. I'll buy them again.                                                                                                                                                                    \n",
       "\n",
       "                                                                                                                reviews.title  \\\n",
       "0  ... 3 of them and one of the item is bad quality. Is missing backup spring so I have ...                                     \n",
       "1  ... always the less expensive way to go for products like                                                                    \n",
       "2  ... are not Duracell but for the price i am happy.                                                                           \n",
       "3  ... as well as name brand batteries at a much better                                                                         \n",
       "4  ... batteries are very long lasting the price is great.                                                                      \n",
       "5  ... batteries for Christmas and the AmazonBasics Cell have been good. I haven't noticed a difference between the brand ...   \n",
       "6  ... batteries have ordered them in the past been very pleased.                                                               \n",
       "7  ... batteries that last quite a while then these are perfect. Nothing more to say                                            \n",
       "8  ... do not hold the amount of high power juice like energizer or duracell                                                    \n",
       "9  ... done well by me appear to have a good shelf life                                                                         \n",
       "\n",
       "    reviews.username  \\\n",
       "0  Byger yang          \n",
       "1  ByMG                \n",
       "2  BySharon Lambert    \n",
       "3  Bymark sexson       \n",
       "4  Bylinda             \n",
       "5  ByPainter Marlow    \n",
       "6  ByAmazon Customer   \n",
       "7  ByLynn Pendegrass   \n",
       "8  ByK.R.              \n",
       "9  BySilverLane        \n",
       "\n",
       "                                                           score  \\\n",
       "0  {'neg': 0.186, 'neu': 0.814, 'pos': 0.0, 'compound': -0.6908}   \n",
       "1  {'neg': 0.0, 'neu': 0.828, 'pos': 0.172, 'compound': 0.3612}    \n",
       "2  {'neg': 0.0, 'neu': 0.577, 'pos': 0.423, 'compound': 0.765}     \n",
       "3  {'neg': 0.0, 'neu': 0.688, 'pos': 0.312, 'compound': 0.6124}    \n",
       "4  {'neg': 0.0, 'neu': 0.687, 'pos': 0.313, 'compound': 0.6249}    \n",
       "5  {'neg': 0.0, 'neu': 0.791, 'pos': 0.209, 'compound': 0.8625}    \n",
       "6  {'neg': 0.0, 'neu': 0.834, 'pos': 0.166, 'compound': 0.4927}    \n",
       "7  {'neg': 0.0, 'neu': 0.766, 'pos': 0.234, 'compound': 0.7003}    \n",
       "8  {'neg': 0.0, 'neu': 0.826, 'pos': 0.174, 'compound': 0.4215}    \n",
       "9  {'neg': 0.0, 'neu': 0.773, 'pos': 0.227, 'compound': 0.6124}    \n",
       "\n",
       "   Compound_Score  \\\n",
       "0 -0.6908           \n",
       "1  0.3612           \n",
       "2  0.7650           \n",
       "3  0.6124           \n",
       "4  0.6249           \n",
       "5  0.8625           \n",
       "6  0.4927           \n",
       "7  0.7003           \n",
       "8  0.4215           \n",
       "9  0.6124           \n",
       "\n",
       "                                                                                                                                                                                                                                                                                                                                                                                              text_title  \\\n",
       "0  ... 3 of them and one of the item is bad quality. Is missing backup spring so I have ... I order 3 of them and one of the item is bad quality. Is missing backup spring so I have to put a pcs of aluminum to make the battery work.                                                                                                                                                                    \n",
       "1  ... always the less expensive way to go for products like Bulk is always the less expensive way to go for products like these                                                                                                                                                                                                                                                                           \n",
       "2  ... are not Duracell but for the price i am happy. Well they are not Duracell but for the price i am happy.                                                                                                                                                                                                                                                                                             \n",
       "3  ... as well as name brand batteries at a much better Seem to work as well as name brand batteries at a much better price                                                                                                                                                                                                                                                                                \n",
       "4  ... batteries are very long lasting the price is great. These batteries are very long lasting the price is great.                                                                                                                                                                                                                                                                                       \n",
       "5  ... batteries for Christmas and the AmazonBasics Cell have been good. I haven't noticed a difference between the brand ... Bought a lot of batteries for Christmas and the AmazonBasics Cell have been good. I haven't noticed a difference between the brand name batteries and the Amazon Basic brand. Just a lot easier to purchase and have arrive at the house and have on hand. Will buy again.   \n",
       "6  ... batteries have ordered them in the past been very pleased. ive not had any problame with these batteries have ordered them in the past been very pleased.                                                                                                                                                                                                                                           \n",
       "7  ... batteries that last quite a while then these are perfect. Nothing more to say Well if you are looking for cheap non-rechargeable batteries that last quite a while then these are perfect. Nothing more to say.                                                                                                                                                                                     \n",
       "8  ... do not hold the amount of high power juice like energizer or duracell These do not hold the amount of high power juice like energizer or duracell, but they are half the price.                                                                                                                                                                                                                     \n",
       "9  ... done well by me appear to have a good shelf life AmazonBasics AA AAA batteries have done well by me appear to have a good shelf life. I'll buy them again.                                                                                                                                                                                                                                          \n",
       "\n",
       "                                                combined_scores  \\\n",
       "0  {'neg': 0.218, 'neu': 0.782, 'pos': 0.0, 'compound': -0.886}   \n",
       "1  {'neg': 0.0, 'neu': 0.815, 'pos': 0.185, 'compound': 0.6124}   \n",
       "2  {'neg': 0.0, 'neu': 0.585, 'pos': 0.415, 'compound': 0.9294}   \n",
       "3  {'neg': 0.0, 'neu': 0.655, 'pos': 0.345, 'compound': 0.8402}   \n",
       "4  {'neg': 0.0, 'neu': 0.687, 'pos': 0.313, 'compound': 0.8481}   \n",
       "5  {'neg': 0.0, 'neu': 0.809, 'pos': 0.191, 'compound': 0.91}     \n",
       "6  {'neg': 0.0, 'neu': 0.803, 'pos': 0.197, 'compound': 0.7496}   \n",
       "7  {'neg': 0.0, 'neu': 0.766, 'pos': 0.234, 'compound': 0.8678}   \n",
       "8  {'neg': 0.0, 'neu': 0.798, 'pos': 0.202, 'compound': 0.6808}   \n",
       "9  {'neg': 0.0, 'neu': 0.722, 'pos': 0.278, 'compound': 0.8402}   \n",
       "\n",
       "   combined_compound  scaled_rating  \n",
       "0 -0.8860             0.0            \n",
       "1  0.6124             0.5            \n",
       "2  0.9294             1.0            \n",
       "3  0.8402             1.0            \n",
       "4  0.8481             1.0            \n",
       "5  0.9100             1.0            \n",
       "6  0.7496             1.0            \n",
       "7  0.8678             1.0            \n",
       "8  0.6808             0.0            \n",
       "9  0.8402             0.5            "
      ]
     },
     "execution_count": 85,
     "metadata": {},
     "output_type": "execute_result"
    }
   ],
   "source": [
    "df1.head(10)"
   ]
  },
  {
   "cell_type": "code",
   "execution_count": null,
   "metadata": {},
   "outputs": [],
   "source": []
  },
  {
   "cell_type": "code",
   "execution_count": 22,
   "metadata": {},
   "outputs": [
    {
     "data": {
      "text/html": [
       "<div>\n",
       "<style scoped>\n",
       "    .dataframe tbody tr th:only-of-type {\n",
       "        vertical-align: middle;\n",
       "    }\n",
       "\n",
       "    .dataframe tbody tr th {\n",
       "        vertical-align: top;\n",
       "    }\n",
       "\n",
       "    .dataframe thead th {\n",
       "        text-align: right;\n",
       "    }\n",
       "</style>\n",
       "<table border=\"1\" class=\"dataframe\">\n",
       "  <thead>\n",
       "    <tr style=\"text-align: right;\">\n",
       "      <th></th>\n",
       "      <th>text_title</th>\n",
       "      <th>Compound_Score</th>\n",
       "      <th>combined_compound</th>\n",
       "    </tr>\n",
       "  </thead>\n",
       "  <tbody>\n",
       "    <tr>\n",
       "      <th>28893</th>\n",
       "      <td>Not so good I'm disappointed. Sometimes gives doesn't understand</td>\n",
       "      <td>-0.4767</td>\n",
       "      <td>-0.7172</td>\n",
       "    </tr>\n",
       "    <tr>\n",
       "      <th>7602</th>\n",
       "      <td>Three Stars Batteries seem to die quickly.</td>\n",
       "      <td>-0.5994</td>\n",
       "      <td>-0.5994</td>\n",
       "    </tr>\n",
       "    <tr>\n",
       "      <th>43813</th>\n",
       "      <td>Its ok for money. But it is heavily advertised Its ok for price point but it is heavily advertised to manipulate you to purchase more from amazon.</td>\n",
       "      <td>0.4709</td>\n",
       "      <td>0.5672</td>\n",
       "    </tr>\n",
       "    <tr>\n",
       "      <th>62174</th>\n",
       "      <td>Convenient.......but I recently bought my fourth Kindle. I bought it because it is familiar and while there are improvements the keyboard is still difficult and not accurate. I also do not like the auto correct especially when writing a document. Browsing is quite good but I am a AOL user and Kindle makes it difficult to use. I definitely would like to see some improvement with making it easier to print.</td>\n",
       "      <td>0.7767</td>\n",
       "      <td>0.7767</td>\n",
       "    </tr>\n",
       "    <tr>\n",
       "      <th>11015</th>\n",
       "      <td>I don't understand all the great reviews I use a headlamp at work all day and everyday. I decided to try these instead of the duracells that I normally use and they definently don't last nearly as long. I don't understand all the good reviews about these. I won't purchase again.</td>\n",
       "      <td>0.4404</td>\n",
       "      <td>0.7906</td>\n",
       "    </tr>\n",
       "    <tr>\n",
       "      <th>22558</th>\n",
       "      <td>Okay Great for first time tablet, but more advanced options available</td>\n",
       "      <td>0.6694</td>\n",
       "      <td>0.7131</td>\n",
       "    </tr>\n",
       "    <tr>\n",
       "      <th>6156</th>\n",
       "      <td>Just Okay. The life of these batteries is shorter than name brand.</td>\n",
       "      <td>0.0000</td>\n",
       "      <td>0.2263</td>\n",
       "    </tr>\n",
       "    <tr>\n",
       "      <th>26390</th>\n",
       "      <td>Gets the work done I know beforehand that this is not a powerful tablet. But it's the best bargain at this price point . The screen is okay if you just read books, news, or surf the websites. But if you want to enjoy videos-this is not your choice.The processor is slow and the amazon app store doesn't have all the apps like you'd expect from Google appstore- even though the OS based on android. But few tweaks let you install the Google playstore-search online for the steps.Overall I'm satisfied with my purchase. Hope this is helpful.</td>\n",
       "      <td>0.9626</td>\n",
       "      <td>0.9626</td>\n",
       "    </tr>\n",
       "    <tr>\n",
       "      <th>30063</th>\n",
       "      <td>OK For Entry Level Tablet My 7-year old daughter saved up to by this. Her brother bought the 8GB about a year earlier, so new she needed more space. The OS is a bit clunky, and less intuitive then on higher priced tablets, but tough to beat the price. Speed isn't great for web or certain gaming apps, but fine for books. Parental controls are helpful, but take time to figure out and require more steps than seem necessary to change. Overall, OK first tablet for kids, considering the price. For adults, fine for e-books and VERY basic apps. Otherwise, best to pay up for better quality and OS efficiency.</td>\n",
       "      <td>0.9707</td>\n",
       "      <td>0.9739</td>\n",
       "    </tr>\n",
       "    <tr>\n",
       "      <th>54793</th>\n",
       "      <td>Good good product but very hard to customize like real androids. Can not install firefox or other SW that Amazon deems a competition...too bad</td>\n",
       "      <td>-0.1380</td>\n",
       "      <td>0.1054</td>\n",
       "    </tr>\n",
       "    <tr>\n",
       "      <th>13293</th>\n",
       "      <td>Okay so far, nothing to mentioned bad or especiall Have had it for a while noe. A littlebit unusual to press so hard to change page but now starting to get used to it.</td>\n",
       "      <td>-0.1111</td>\n",
       "      <td>0.2363</td>\n",
       "    </tr>\n",
       "    <tr>\n",
       "      <th>7667</th>\n",
       "      <td>Three Stars Not bad i guess</td>\n",
       "      <td>0.4310</td>\n",
       "      <td>0.4310</td>\n",
       "    </tr>\n",
       "    <tr>\n",
       "      <th>34673</th>\n",
       "      <td>Hard to set up I gave this as a gift for Christmas and still can't get it set up will have to go to geek squad to help</td>\n",
       "      <td>0.5859</td>\n",
       "      <td>0.5267</td>\n",
       "    </tr>\n",
       "    <tr>\n",
       "      <th>48279</th>\n",
       "      <td>Confusing for me; returning I ordered this online on black Friday, I live about 30 miles from nearest store and I saw the special on their website, so why not I thought. Came in yesterday. Maybe it's just because I'm not familiar with this product; I'm used to Android tablets that have you set up with your Google account. This one you set up with your Amazon account. OK, no big deal I thought, at first. Then I found it very difficult to install the free 6 month Webroot it came with. I went to Google Play as instructed, it says installed, but there is no Open button to click to continue the process, as instructed. When I contacted Amazon customer support, I was told I can't use Google Play on it and to use the app store instead. I was given a link for Webroot installation but it didn't help. I downloaded Google Chrome but can't find it on the device. No youtube, facebook, gmail apps; won't install. Again, maybe I'm just not used to the product but if I can't use Google apps on it, I won't like this. It's actually for my son and even though teens are often smarter than we adults when it comes to gadgets, LOL, I don't think he will like this either. So I'm returning this; hopefully can find an Android tablet I like (and affordable) at Best Buy.</td>\n",
       "      <td>0.9554</td>\n",
       "      <td>0.9522</td>\n",
       "    </tr>\n",
       "    <tr>\n",
       "      <th>7656</th>\n",
       "      <td>Three Stars its okay</td>\n",
       "      <td>0.2263</td>\n",
       "      <td>0.2263</td>\n",
       "    </tr>\n",
       "    <tr>\n",
       "      <th>66837</th>\n",
       "      <td>Good but needs some work Good compared to other systems like Roku but really need to get an easy way to close apps running in background.</td>\n",
       "      <td>0.7615</td>\n",
       "      <td>0.9169</td>\n",
       "    </tr>\n",
       "    <tr>\n",
       "      <th>58736</th>\n",
       "      <td>Unable to get reliable, understandable technical Alexa functions until yopu attempt to connect to multiple devices. Then technical suppprt is WORTHLESS!</td>\n",
       "      <td>-0.6027</td>\n",
       "      <td>-0.6027</td>\n",
       "    </tr>\n",
       "    <tr>\n",
       "      <th>40475</th>\n",
       "      <td>Decent tablet for the price I own 3 of these kindles, for my children who are young. They can take some wear and tear, but recently one of mine quit charging. The charger will no longer connect with the port inside the kindle. The kindle itself was working just fine, but since it can no longer be charged, it is no longer functioning. I am really disappointed, and plan on buying a replacement. My children love being able to play on the kindle and for the price you really can't beat the deal.</td>\n",
       "      <td>-0.4748</td>\n",
       "      <td>-0.4748</td>\n",
       "    </tr>\n",
       "    <tr>\n",
       "      <th>34942</th>\n",
       "      <td>Not bad, just not my flavor of android. This is an older tablet. I probobly expected too much. If I'm going to deal with lagginess I prefer my ipad2.</td>\n",
       "      <td>0.0000</td>\n",
       "      <td>0.4310</td>\n",
       "    </tr>\n",
       "    <tr>\n",
       "      <th>39147</th>\n",
       "      <td>help's me at work this is Great for reading books or doodling at work.</td>\n",
       "      <td>0.6249</td>\n",
       "      <td>0.6249</td>\n",
       "    </tr>\n",
       "    <tr>\n",
       "      <th>46096</th>\n",
       "      <td>Not a bad basic tablet Not a bad basic tablet but is slow when loading apps</td>\n",
       "      <td>0.2323</td>\n",
       "      <td>0.4310</td>\n",
       "    </tr>\n",
       "    <tr>\n",
       "      <th>39764</th>\n",
       "      <td>Ads Very simple, works good for checking email and surfing. Very Amazon intense. Lots of advertising.</td>\n",
       "      <td>0.6942</td>\n",
       "      <td>0.6942</td>\n",
       "    </tr>\n",
       "    <tr>\n",
       "      <th>39976</th>\n",
       "      <td>Slightly slow. But good for the price. Slightly slow. However, really good for the price. Also... these Amazon tablets don't use the normal google app store... they use the Amazon app store, which is not as extensive as the Google App store. This can be a significant drawback.</td>\n",
       "      <td>0.7501</td>\n",
       "      <td>0.8163</td>\n",
       "    </tr>\n",
       "    <tr>\n",
       "      <th>7670</th>\n",
       "      <td>Three Stars Not sure. have not fully tested the performance of this item.</td>\n",
       "      <td>-0.2411</td>\n",
       "      <td>-0.2411</td>\n",
       "    </tr>\n",
       "    <tr>\n",
       "      <th>23849</th>\n",
       "      <td>Kids Tablet It was ok. You need Internet. The SDmini is a hassle.</td>\n",
       "      <td>0.2960</td>\n",
       "      <td>0.2960</td>\n",
       "    </tr>\n",
       "    <tr>\n",
       "      <th>22925</th>\n",
       "      <td>Device is not as rugged as it could be returning returning for a replacement. It got wet and quite working for a child's device it should be better made.</td>\n",
       "      <td>0.4404</td>\n",
       "      <td>0.4404</td>\n",
       "    </tr>\n",
       "    <tr>\n",
       "      <th>16403</th>\n",
       "      <td>It's okay volume is a problem we have to take off the protective case for it to sound clear.</td>\n",
       "      <td>-0.0258</td>\n",
       "      <td>0.2023</td>\n",
       "    </tr>\n",
       "    <tr>\n",
       "      <th>46437</th>\n",
       "      <td>Good for kids...!! This Tab is not for grown ups... neither for work nor for entertainment... the Amazon Fire OS has a long way to go..!!</td>\n",
       "      <td>-0.3147</td>\n",
       "      <td>0.5216</td>\n",
       "    </tr>\n",
       "    <tr>\n",
       "      <th>25775</th>\n",
       "      <td>Tablet not for kids Great case ok tablet no Android play store. Weak micro usb port. It's isn't an straight out the box tablet. Had to install Android play store on it. And as far as the charging port goes I'm on my 3rd one but best buy are the best with their return policy...</td>\n",
       "      <td>0.9457</td>\n",
       "      <td>0.9113</td>\n",
       "    </tr>\n",
       "    <tr>\n",
       "      <th>41434</th>\n",
       "      <td>Ok tablet I bought this tablet for my child because he previously had one. Not much storage and the cord strips easily.</td>\n",
       "      <td>0.3400</td>\n",
       "      <td>0.5574</td>\n",
       "    </tr>\n",
       "  </tbody>\n",
       "</table>\n",
       "</div>"
      ],
      "text/plain": [
       "                                                                                                                                                                                                                                                                                                                                                                                                                                                                                                                                                                                                                                                                                                                                                                                                                                                                                                                                                                                                                                                                                                                                                                                                                                                                                                          text_title  \\\n",
       "28893  Not so good I'm disappointed. Sometimes gives doesn't understand                                                                                                                                                                                                                                                                                                                                                                                                                                                                                                                                                                                                                                                                                                                                                                                                                                                                                                                                                                                                                                                                                                                                                                                                                                                \n",
       "7602   Three Stars Batteries seem to die quickly.                                                                                                                                                                                                                                                                                                                                                                                                                                                                                                                                                                                                                                                                                                                                                                                                                                                                                                                                                                                                                                                                                                                                                                                                                                                                      \n",
       "43813  Its ok for money. But it is heavily advertised Its ok for price point but it is heavily advertised to manipulate you to purchase more from amazon.                                                                                                                                                                                                                                                                                                                                                                                                                                                                                                                                                                                                                                                                                                                                                                                                                                                                                                                                                                                                                                                                                                                                                              \n",
       "62174  Convenient.......but I recently bought my fourth Kindle. I bought it because it is familiar and while there are improvements the keyboard is still difficult and not accurate. I also do not like the auto correct especially when writing a document. Browsing is quite good but I am a AOL user and Kindle makes it difficult to use. I definitely would like to see some improvement with making it easier to print.                                                                                                                                                                                                                                                                                                                                                                                                                                                                                                                                                                                                                                                                                                                                                                                                                                                                                         \n",
       "11015  I don't understand all the great reviews I use a headlamp at work all day and everyday. I decided to try these instead of the duracells that I normally use and they definently don't last nearly as long. I don't understand all the good reviews about these. I won't purchase again.                                                                                                                                                                                                                                                                                                                                                                                                                                                                                                                                                                                                                                                                                                                                                                                                                                                                                                                                                                                                                         \n",
       "22558  Okay Great for first time tablet, but more advanced options available                                                                                                                                                                                                                                                                                                                                                                                                                                                                                                                                                                                                                                                                                                                                                                                                                                                                                                                                                                                                                                                                                                                                                                                                                                           \n",
       "6156   Just Okay. The life of these batteries is shorter than name brand.                                                                                                                                                                                                                                                                                                                                                                                                                                                                                                                                                                                                                                                                                                                                                                                                                                                                                                                                                                                                                                                                                                                                                                                                                                              \n",
       "26390  Gets the work done I know beforehand that this is not a powerful tablet. But it's the best bargain at this price point . The screen is okay if you just read books, news, or surf the websites. But if you want to enjoy videos-this is not your choice.The processor is slow and the amazon app store doesn't have all the apps like you'd expect from Google appstore- even though the OS based on android. But few tweaks let you install the Google playstore-search online for the steps.Overall I'm satisfied with my purchase. Hope this is helpful.                                                                                                                                                                                                                                                                                                                                                                                                                                                                                                                                                                                                                                                                                                                                                     \n",
       "30063  OK For Entry Level Tablet My 7-year old daughter saved up to by this. Her brother bought the 8GB about a year earlier, so new she needed more space. The OS is a bit clunky, and less intuitive then on higher priced tablets, but tough to beat the price. Speed isn't great for web or certain gaming apps, but fine for books. Parental controls are helpful, but take time to figure out and require more steps than seem necessary to change. Overall, OK first tablet for kids, considering the price. For adults, fine for e-books and VERY basic apps. Otherwise, best to pay up for better quality and OS efficiency.                                                                                                                                                                                                                                                                                                                                                                                                                                                                                                                                                                                                                                                                                  \n",
       "54793  Good good product but very hard to customize like real androids. Can not install firefox or other SW that Amazon deems a competition...too bad                                                                                                                                                                                                                                                                                                                                                                                                                                                                                                                                                                                                                                                                                                                                                                                                                                                                                                                                                                                                                                                                                                                                                                  \n",
       "13293  Okay so far, nothing to mentioned bad or especiall Have had it for a while noe. A littlebit unusual to press so hard to change page but now starting to get used to it.                                                                                                                                                                                                                                                                                                                                                                                                                                                                                                                                                                                                                                                                                                                                                                                                                                                                                                                                                                                                                                                                                                                                         \n",
       "7667   Three Stars Not bad i guess                                                                                                                                                                                                                                                                                                                                                                                                                                                                                                                                                                                                                                                                                                                                                                                                                                                                                                                                                                                                                                                                                                                                                                                                                                                                                     \n",
       "34673  Hard to set up I gave this as a gift for Christmas and still can't get it set up will have to go to geek squad to help                                                                                                                                                                                                                                                                                                                                                                                                                                                                                                                                                                                                                                                                                                                                                                                                                                                                                                                                                                                                                                                                                                                                                                                          \n",
       "48279  Confusing for me; returning I ordered this online on black Friday, I live about 30 miles from nearest store and I saw the special on their website, so why not I thought. Came in yesterday. Maybe it's just because I'm not familiar with this product; I'm used to Android tablets that have you set up with your Google account. This one you set up with your Amazon account. OK, no big deal I thought, at first. Then I found it very difficult to install the free 6 month Webroot it came with. I went to Google Play as instructed, it says installed, but there is no Open button to click to continue the process, as instructed. When I contacted Amazon customer support, I was told I can't use Google Play on it and to use the app store instead. I was given a link for Webroot installation but it didn't help. I downloaded Google Chrome but can't find it on the device. No youtube, facebook, gmail apps; won't install. Again, maybe I'm just not used to the product but if I can't use Google apps on it, I won't like this. It's actually for my son and even though teens are often smarter than we adults when it comes to gadgets, LOL, I don't think he will like this either. So I'm returning this; hopefully can find an Android tablet I like (and affordable) at Best Buy.   \n",
       "7656   Three Stars its okay                                                                                                                                                                                                                                                                                                                                                                                                                                                                                                                                                                                                                                                                                                                                                                                                                                                                                                                                                                                                                                                                                                                                                                                                                                                                                            \n",
       "66837  Good but needs some work Good compared to other systems like Roku but really need to get an easy way to close apps running in background.                                                                                                                                                                                                                                                                                                                                                                                                                                                                                                                                                                                                                                                                                                                                                                                                                                                                                                                                                                                                                                                                                                                                                                       \n",
       "58736  Unable to get reliable, understandable technical Alexa functions until yopu attempt to connect to multiple devices. Then technical suppprt is WORTHLESS!                                                                                                                                                                                                                                                                                                                                                                                                                                                                                                                                                                                                                                                                                                                                                                                                                                                                                                                                                                                                                                                                                                                                                        \n",
       "40475  Decent tablet for the price I own 3 of these kindles, for my children who are young. They can take some wear and tear, but recently one of mine quit charging. The charger will no longer connect with the port inside the kindle. The kindle itself was working just fine, but since it can no longer be charged, it is no longer functioning. I am really disappointed, and plan on buying a replacement. My children love being able to play on the kindle and for the price you really can't beat the deal.                                                                                                                                                                                                                                                                                                                                                                                                                                                                                                                                                                                                                                                                                                                                                                                                 \n",
       "34942  Not bad, just not my flavor of android. This is an older tablet. I probobly expected too much. If I'm going to deal with lagginess I prefer my ipad2.                                                                                                                                                                                                                                                                                                                                                                                                                                                                                                                                                                                                                                                                                                                                                                                                                                                                                                                                                                                                                                                                                                                                                           \n",
       "39147  help's me at work this is Great for reading books or doodling at work.                                                                                                                                                                                                                                                                                                                                                                                                                                                                                                                                                                                                                                                                                                                                                                                                                                                                                                                                                                                                                                                                                                                                                                                                                                          \n",
       "46096  Not a bad basic tablet Not a bad basic tablet but is slow when loading apps                                                                                                                                                                                                                                                                                                                                                                                                                                                                                                                                                                                                                                                                                                                                                                                                                                                                                                                                                                                                                                                                                                                                                                                                                                     \n",
       "39764  Ads Very simple, works good for checking email and surfing. Very Amazon intense. Lots of advertising.                                                                                                                                                                                                                                                                                                                                                                                                                                                                                                                                                                                                                                                                                                                                                                                                                                                                                                                                                                                                                                                                                                                                                                                                           \n",
       "39976  Slightly slow. But good for the price. Slightly slow. However, really good for the price. Also... these Amazon tablets don't use the normal google app store... they use the Amazon app store, which is not as extensive as the Google App store. This can be a significant drawback.                                                                                                                                                                                                                                                                                                                                                                                                                                                                                                                                                                                                                                                                                                                                                                                                                                                                                                                                                                                                                           \n",
       "7670   Three Stars Not sure. have not fully tested the performance of this item.                                                                                                                                                                                                                                                                                                                                                                                                                                                                                                                                                                                                                                                                                                                                                                                                                                                                                                                                                                                                                                                                                                                                                                                                                                       \n",
       "23849  Kids Tablet It was ok. You need Internet. The SDmini is a hassle.                                                                                                                                                                                                                                                                                                                                                                                                                                                                                                                                                                                                                                                                                                                                                                                                                                                                                                                                                                                                                                                                                                                                                                                                                                               \n",
       "22925  Device is not as rugged as it could be returning returning for a replacement. It got wet and quite working for a child's device it should be better made.                                                                                                                                                                                                                                                                                                                                                                                                                                                                                                                                                                                                                                                                                                                                                                                                                                                                                                                                                                                                                                                                                                                                                       \n",
       "16403  It's okay volume is a problem we have to take off the protective case for it to sound clear.                                                                                                                                                                                                                                                                                                                                                                                                                                                                                                                                                                                                                                                                                                                                                                                                                                                                                                                                                                                                                                                                                                                                                                                                                    \n",
       "46437  Good for kids...!! This Tab is not for grown ups... neither for work nor for entertainment... the Amazon Fire OS has a long way to go..!!                                                                                                                                                                                                                                                                                                                                                                                                                                                                                                                                                                                                                                                                                                                                                                                                                                                                                                                                                                                                                                                                                                                                                                       \n",
       "25775  Tablet not for kids Great case ok tablet no Android play store. Weak micro usb port. It's isn't an straight out the box tablet. Had to install Android play store on it. And as far as the charging port goes I'm on my 3rd one but best buy are the best with their return policy...                                                                                                                                                                                                                                                                                                                                                                                                                                                                                                                                                                                                                                                                                                                                                                                                                                                                                                                                                                                                                           \n",
       "41434  Ok tablet I bought this tablet for my child because he previously had one. Not much storage and the cord strips easily.                                                                                                                                                                                                                                                                                                                                                                                                                                                                                                                                                                                                                                                                                                                                                                                                                                                                                                                                                                                                                                                                                                                                                                                         \n",
       "\n",
       "       Compound_Score  combined_compound  \n",
       "28893 -0.4767         -0.7172             \n",
       "7602  -0.5994         -0.5994             \n",
       "43813  0.4709          0.5672             \n",
       "62174  0.7767          0.7767             \n",
       "11015  0.4404          0.7906             \n",
       "22558  0.6694          0.7131             \n",
       "6156   0.0000          0.2263             \n",
       "26390  0.9626          0.9626             \n",
       "30063  0.9707          0.9739             \n",
       "54793 -0.1380          0.1054             \n",
       "13293 -0.1111          0.2363             \n",
       "7667   0.4310          0.4310             \n",
       "34673  0.5859          0.5267             \n",
       "48279  0.9554          0.9522             \n",
       "7656   0.2263          0.2263             \n",
       "66837  0.7615          0.9169             \n",
       "58736 -0.6027         -0.6027             \n",
       "40475 -0.4748         -0.4748             \n",
       "34942  0.0000          0.4310             \n",
       "39147  0.6249          0.6249             \n",
       "46096  0.2323          0.4310             \n",
       "39764  0.6942          0.6942             \n",
       "39976  0.7501          0.8163             \n",
       "7670  -0.2411         -0.2411             \n",
       "23849  0.2960          0.2960             \n",
       "22925  0.4404          0.4404             \n",
       "16403 -0.0258          0.2023             \n",
       "46437 -0.3147          0.5216             \n",
       "25775  0.9457          0.9113             \n",
       "41434  0.3400          0.5574             "
      ]
     },
     "execution_count": 22,
     "metadata": {},
     "output_type": "execute_result"
    }
   ],
   "source": [
    "vad_an.sample(n = 30, random_state = 10) "
   ]
  },
  {
   "cell_type": "code",
   "execution_count": null,
   "metadata": {},
   "outputs": [],
   "source": []
  },
  {
   "cell_type": "code",
   "execution_count": 2,
   "metadata": {},
   "outputs": [],
   "source": [
    "# For rating - 3\n",
    "N_samples =  30\n",
    " \n",
    "#VADER Prediction:\n",
    "\n",
    "Good = 16\n",
    "Bad = 14\n",
    "\n",
    "Anomalies=  4"
   ]
  },
  {
   "cell_type": "code",
   "execution_count": 3,
   "metadata": {},
   "outputs": [
    {
     "data": {
      "text/plain": [
       "53.33"
      ]
     },
     "execution_count": 3,
     "metadata": {},
     "output_type": "execute_result"
    }
   ],
   "source": [
    "# Good prediction\n",
    "\n",
    "round(Good/N_samples*100,2)"
   ]
  },
  {
   "cell_type": "code",
   "execution_count": 4,
   "metadata": {},
   "outputs": [
    {
     "data": {
      "text/plain": [
       "46.67"
      ]
     },
     "execution_count": 4,
     "metadata": {},
     "output_type": "execute_result"
    }
   ],
   "source": [
    "# Bad prediction\n",
    "\n",
    "round(Bad/N_samples*100,2)"
   ]
  },
  {
   "cell_type": "code",
   "execution_count": 34,
   "metadata": {},
   "outputs": [
    {
     "data": {
      "text/plain": [
       "25.0"
      ]
     },
     "execution_count": 34,
     "metadata": {},
     "output_type": "execute_result"
    }
   ],
   "source": [
    "# Anomalies that will be corrected\n",
    "\n",
    "Anomalies/Good*100"
   ]
  },
  {
   "cell_type": "code",
   "execution_count": 8,
   "metadata": {},
   "outputs": [
    {
     "data": {
      "text/plain": [
       "13.33"
      ]
     },
     "execution_count": 8,
     "metadata": {},
     "output_type": "execute_result"
    }
   ],
   "source": [
    "# Anomalies in 30 samples\n",
    "\n",
    "round(Anomalies/N_samples*100,2)"
   ]
  },
  {
   "cell_type": "code",
   "execution_count": 5,
   "metadata": {},
   "outputs": [
    {
     "data": {
      "text/plain": [
       "3.5"
      ]
     },
     "execution_count": 5,
     "metadata": {},
     "output_type": "execute_result"
    }
   ],
   "source": [
    "# Anomalies we would have after using VADER\n",
    "\n",
    "Bad/Anomalies"
   ]
  },
  {
   "cell_type": "code",
   "execution_count": null,
   "metadata": {},
   "outputs": [],
   "source": []
  },
  {
   "cell_type": "code",
   "execution_count": null,
   "metadata": {},
   "outputs": [],
   "source": []
  },
  {
   "cell_type": "markdown",
   "metadata": {},
   "source": [
    "### EDA - Plots"
   ]
  },
  {
   "cell_type": "markdown",
   "metadata": {},
   "source": [
    "#### Comparing the scaled ratings & combined compound score "
   ]
  },
  {
   "cell_type": "code",
   "execution_count": 23,
   "metadata": {},
   "outputs": [],
   "source": [
    "import seaborn as sns"
   ]
  },
  {
   "cell_type": "code",
   "execution_count": 87,
   "metadata": {},
   "outputs": [
    {
     "data": {
      "text/plain": [
       "<matplotlib.axes._subplots.AxesSubplot at 0x2dce019ae50>"
      ]
     },
     "execution_count": 87,
     "metadata": {},
     "output_type": "execute_result"
    },
    {
     "data": {
      "image/png": "[encoded data removed]",
      "text/plain": [
       "<Figure size 432x288 with 1 Axes>"
      ]
     },
     "metadata": {
      "needs_background": "light"
     },
     "output_type": "display_data"
    }
   ],
   "source": [
    "sns.distplot(df1['combined_compound'])"
   ]
  },
  {
   "cell_type": "code",
   "execution_count": 88,
   "metadata": {},
   "outputs": [
    {
     "data": {
      "text/plain": [
       "<matplotlib.axes._subplots.AxesSubplot at 0x2dce6da77f0>"
      ]
     },
     "execution_count": 88,
     "metadata": {},
     "output_type": "execute_result"
    },
    {
     "data": {
      "image/png": "[encoded data removed]",
      "text/plain": [
       "<Figure size 432x288 with 1 Axes>"
      ]
     },
     "metadata": {
      "needs_background": "light"
     },
     "output_type": "display_data"
    }
   ],
   "source": [
    "sns.distplot(df1['scaled_rating'])"
   ]
  },
  {
   "cell_type": "markdown",
   "metadata": {},
   "source": [
    "### Top and Last 10 product names based on combined_compound score"
   ]
  },
  {
   "cell_type": "code",
   "execution_count": 91,
   "metadata": {},
   "outputs": [],
   "source": [
    "product_polarity_sorted=pd.DataFrame(df1.groupby('name')['combined_compound'].mean().sort_values(ascending=True))"
   ]
  },
  {
   "cell_type": "code",
   "execution_count": 142,
   "metadata": {},
   "outputs": [],
   "source": [
    "prod_lastten = product_polarity_sorted.iloc[:10]\n",
    "prod_topten = product_polarity_sorted.iloc[-1:-11:-1]"
   ]
  },
  {
   "cell_type": "code",
   "execution_count": 143,
   "metadata": {
    "collapsed": true
   },
   "outputs": [
    {
     "data": {
      "text/html": [
       "<div>\n",
       "<style scoped>\n",
       "    .dataframe tbody tr th:only-of-type {\n",
       "        vertical-align: middle;\n",
       "    }\n",
       "\n",
       "    .dataframe tbody tr th {\n",
       "        vertical-align: top;\n",
       "    }\n",
       "\n",
       "    .dataframe thead th {\n",
       "        text-align: right;\n",
       "    }\n",
       "</style>\n",
       "<table border=\"1\" class=\"dataframe\">\n",
       "  <thead>\n",
       "    <tr style=\"text-align: right;\">\n",
       "      <th></th>\n",
       "      <th>combined_compound</th>\n",
       "    </tr>\n",
       "    <tr>\n",
       "      <th>name</th>\n",
       "      <th></th>\n",
       "    </tr>\n",
       "  </thead>\n",
       "  <tbody>\n",
       "    <tr>\n",
       "      <th>Oem Amazon Kindle Power Usb Adapter Wall Travel Charger Fire/dx/+micro Usb Cable</th>\n",
       "      <td>-0.394825</td>\n",
       "    </tr>\n",
       "    <tr>\n",
       "      <th>Certified Refurbished Amazon Fire TV with Alexa Voice Remote</th>\n",
       "      <td>-0.150040</td>\n",
       "    </tr>\n",
       "    <tr>\n",
       "      <th>AmazonBasics Silicone Hot Handle Cover/Holder - Red</th>\n",
       "      <td>0.000000</td>\n",
       "    </tr>\n",
       "    <tr>\n",
       "      <th>Amazon - Kindle Voyage - 4GB - Wi-Fi + 3G - Black,,,\\r\\nFire HD 8 Tablet with Alexa, 8 HD Display, 16 GB, Tangerine - with Special Offers\",</th>\n",
       "      <td>0.099200</td>\n",
       "    </tr>\n",
       "    <tr>\n",
       "      <th>Amazon Kindle Replacement Power Adapter (Fits Latest Generation Kindle and Kindle DX) For shipment in the U.S only</th>\n",
       "      <td>0.223660</td>\n",
       "    </tr>\n",
       "    <tr>\n",
       "      <th>All-New Kindle E-reader - Black, 6 Glare-Free Touchscreen Display, Wi-Fi -  Includes Special Offers,,</th>\n",
       "      <td>0.292868</td>\n",
       "    </tr>\n",
       "    <tr>\n",
       "      <th>Amazon Echo ‚Äì White</th>\n",
       "      <td>0.347800</td>\n",
       "    </tr>\n",
       "    <tr>\n",
       "      <th>Amazon 5W USB Official OEM Charger and Power Adapter for Fire Tablets and Kindle eReaders,,,\\r\\nAmazon 5W USB Official OEM Charger and Power Adapter for Fire Tablets and Kindle eReaders,,,</th>\n",
       "      <td>0.402682</td>\n",
       "    </tr>\n",
       "    <tr>\n",
       "      <th>AmazonBasics Bluetooth Keyboard for Android Devices - Black</th>\n",
       "      <td>0.456683</td>\n",
       "    </tr>\n",
       "    <tr>\n",
       "      <th>AmazonBasics AA Performance Alkaline Batteries (48 Count) - Packaging May Vary</th>\n",
       "      <td>0.490336</td>\n",
       "    </tr>\n",
       "  </tbody>\n",
       "</table>\n",
       "</div>"
      ],
      "text/plain": [
       "                                                                                                                                                                                              combined_compound\n",
       "name                                                                                                                                                                                                           \n",
       "Oem Amazon Kindle Power Usb Adapter Wall Travel Charger Fire/dx/+micro Usb Cable                                                                                                             -0.394825         \n",
       "Certified Refurbished Amazon Fire TV with Alexa Voice Remote                                                                                                                                 -0.150040         \n",
       "AmazonBasics Silicone Hot Handle Cover/Holder - Red                                                                                                                                           0.000000         \n",
       "Amazon - Kindle Voyage - 4GB - Wi-Fi + 3G - Black,,,\\r\\nFire HD 8 Tablet with Alexa, 8 HD Display, 16 GB, Tangerine - with Special Offers\",                                                   0.099200         \n",
       "Amazon Kindle Replacement Power Adapter (Fits Latest Generation Kindle and Kindle DX) For shipment in the U.S only                                                                            0.223660         \n",
       "All-New Kindle E-reader - Black, 6 Glare-Free Touchscreen Display, Wi-Fi -  Includes Special Offers,,                                                                                         0.292868         \n",
       "Amazon Echo ‚Äì White                                                                                                                                                                         0.347800         \n",
       "Amazon 5W USB Official OEM Charger and Power Adapter for Fire Tablets and Kindle eReaders,,,\\r\\nAmazon 5W USB Official OEM Charger and Power Adapter for Fire Tablets and Kindle eReaders,,,  0.402682         \n",
       "AmazonBasics Bluetooth Keyboard for Android Devices - Black                                                                                                                                   0.456683         \n",
       "AmazonBasics AA Performance Alkaline Batteries (48 Count) - Packaging May Vary                                                                                                                0.490336         "
      ]
     },
     "execution_count": 143,
     "metadata": {},
     "output_type": "execute_result"
    }
   ],
   "source": [
    "prod_lastten"
   ]
  },
  {
   "cell_type": "code",
   "execution_count": 144,
   "metadata": {
    "collapsed": true
   },
   "outputs": [
    {
     "data": {
      "text/html": [
       "<div>\n",
       "<style scoped>\n",
       "    .dataframe tbody tr th:only-of-type {\n",
       "        vertical-align: middle;\n",
       "    }\n",
       "\n",
       "    .dataframe tbody tr th {\n",
       "        vertical-align: top;\n",
       "    }\n",
       "\n",
       "    .dataframe thead th {\n",
       "        text-align: right;\n",
       "    }\n",
       "</style>\n",
       "<table border=\"1\" class=\"dataframe\">\n",
       "  <thead>\n",
       "    <tr style=\"text-align: right;\">\n",
       "      <th></th>\n",
       "      <th>combined_compound</th>\n",
       "    </tr>\n",
       "    <tr>\n",
       "      <th>name</th>\n",
       "      <th></th>\n",
       "    </tr>\n",
       "  </thead>\n",
       "  <tbody>\n",
       "    <tr>\n",
       "      <th>Amazon Kindle Lighted Leather Cover,,,\\r\\nKindle Keyboard,,,</th>\n",
       "      <td>0.986100</td>\n",
       "    </tr>\n",
       "    <tr>\n",
       "      <th>AmazonBasics 11.6-Inch Laptop Sleeve</th>\n",
       "      <td>0.980300</td>\n",
       "    </tr>\n",
       "    <tr>\n",
       "      <th>Kindle Keyboard,,,\\r\\nKindle Keyboard,,,</th>\n",
       "      <td>0.979100</td>\n",
       "    </tr>\n",
       "    <tr>\n",
       "      <th>Two Door Top Load Pet Kennel Travel Crate Dog Cat Pet Cage Carrier Box Tray 23\"</th>\n",
       "      <td>0.946800</td>\n",
       "    </tr>\n",
       "    <tr>\n",
       "      <th>All-new Echo (2nd Generation) with improved sound, powered by Dolby, and a new design Walnut Finish</th>\n",
       "      <td>0.946400</td>\n",
       "    </tr>\n",
       "    <tr>\n",
       "      <th>Amazon Fire Hd 6 Standing Protective Case(4th Generation - 2014 Release), Cayenne Red,,,\\r\\nAmazon 5W USB Official OEM Charger and Power Adapter for Fire Tablets and Kindle eReaders,,,</th>\n",
       "      <td>0.940300</td>\n",
       "    </tr>\n",
       "    <tr>\n",
       "      <th>Certified Refurbished Amazon Fire TV Stick (Previous Generation - 1st),,,\\r\\nKindle Paperwhite,,,</th>\n",
       "      <td>0.938100</td>\n",
       "    </tr>\n",
       "    <tr>\n",
       "      <th>New Amazon Kindle Fire Hd 9w Powerfast Adapter Charger + Micro Usb Angle Cable,,,\\r\\n</th>\n",
       "      <td>0.921700</td>\n",
       "    </tr>\n",
       "    <tr>\n",
       "      <th>All-New Kindle Oasis E-reader - 7 High-Resolution Display (300 ppi), Waterproof, Built-In Audible, 32 GB, Wi-Fi - Includes Special Offers</th>\n",
       "      <td>0.913443</td>\n",
       "    </tr>\n",
       "    <tr>\n",
       "      <th>Kindle Dx Leather Cover, Black (fits 9.7 Display, Latest and 2nd Generation Kindle Dxs),,</th>\n",
       "      <td>0.905578</td>\n",
       "    </tr>\n",
       "  </tbody>\n",
       "</table>\n",
       "</div>"
      ],
      "text/plain": [
       "                                                                                                                                                                                          combined_compound\n",
       "name                                                                                                                                                                                                       \n",
       "Amazon Kindle Lighted Leather Cover,,,\\r\\nKindle Keyboard,,,                                                                                                                              0.986100         \n",
       "AmazonBasics 11.6-Inch Laptop Sleeve                                                                                                                                                      0.980300         \n",
       "Kindle Keyboard,,,\\r\\nKindle Keyboard,,,                                                                                                                                                  0.979100         \n",
       "Two Door Top Load Pet Kennel Travel Crate Dog Cat Pet Cage Carrier Box Tray 23\"                                                                                                           0.946800         \n",
       "All-new Echo (2nd Generation) with improved sound, powered by Dolby, and a new design Walnut Finish                                                                                       0.946400         \n",
       "Amazon Fire Hd 6 Standing Protective Case(4th Generation - 2014 Release), Cayenne Red,,,\\r\\nAmazon 5W USB Official OEM Charger and Power Adapter for Fire Tablets and Kindle eReaders,,,  0.940300         \n",
       "Certified Refurbished Amazon Fire TV Stick (Previous Generation - 1st),,,\\r\\nKindle Paperwhite,,,                                                                                         0.938100         \n",
       "New Amazon Kindle Fire Hd 9w Powerfast Adapter Charger + Micro Usb Angle Cable,,,\\r\\n                                                                                                     0.921700         \n",
       "All-New Kindle Oasis E-reader - 7 High-Resolution Display (300 ppi), Waterproof, Built-In Audible, 32 GB, Wi-Fi - Includes Special Offers                                                 0.913443         \n",
       "Kindle Dx Leather Cover, Black (fits 9.7 Display, Latest and 2nd Generation Kindle Dxs),,                                                                                                 0.905578         "
      ]
     },
     "execution_count": 144,
     "metadata": {},
     "output_type": "execute_result"
    }
   ],
   "source": [
    "prod_topten"
   ]
  },
  {
   "cell_type": "code",
   "execution_count": 166,
   "metadata": {},
   "outputs": [
    {
     "data": {
      "text/plain": [
       "([0, 1, 2, 3, 4, 5, 6, 7, 8, 9], <a list of 10 Text major ticklabel objects>)"
      ]
     },
     "execution_count": 166,
     "metadata": {},
     "output_type": "execute_result"
    },
    {
     "data": {
      "image/png": "[encoded data removed]",
      "text/plain": [
       "<Figure size 1152x576 with 1 Axes>"
      ]
     },
     "metadata": {
      "needs_background": "light"
     },
     "output_type": "display_data"
    }
   ],
   "source": [
    "prod_topten.reset_index(level=0, inplace=True)\n",
    "\n",
    "plt.figure(figsize=(16,8))\n",
    "plt.ylabel('Compound_Score')\n",
    "plt.xlabel('Top Ten Products')\n",
    "plt.title('Polarity of Top ten Amazon Product Reviews')\n",
    "plt.bar(prod_topten[\"name\"],prod_topten['combined_compound'])\n",
    "plt.xticks(rotation=90)\n"
   ]
  },
  {
   "cell_type": "code",
   "execution_count": 167,
   "metadata": {},
   "outputs": [
    {
     "data": {
      "text/plain": [
       "([0, 1, 2, 3, 4, 5, 6, 7, 8, 9], <a list of 10 Text major ticklabel objects>)"
      ]
     },
     "execution_count": 167,
     "metadata": {},
     "output_type": "execute_result"
    },
    {
     "name": "stderr",
     "output_type": "stream",
     "text": [
      "H:\\Anaconda\\lib\\site-packages\\matplotlib\\backends\\backend_agg.py:214: RuntimeWarning: Glyph 13 missing from current font.\n",
      "  font.set_text(s, 0.0, flags=flags)\n",
      "H:\\Anaconda\\lib\\site-packages\\matplotlib\\backends\\backend_agg.py:183: RuntimeWarning: Glyph 13 missing from current font.\n",
      "  font.set_text(s, 0, flags=flags)\n"
     ]
    },
    {
     "data": {
      "image/png": "[encoded data removed]",
      "text/plain": [
       "<Figure size 1152x576 with 1 Axes>"
      ]
     },
     "metadata": {
      "needs_background": "light"
     },
     "output_type": "display_data"
    }
   ],
   "source": [
    "prod_lastten.reset_index(level=0, inplace=True)\n",
    "\n",
    "plt.figure(figsize=(16,8))\n",
    "plt.ylabel('Compound_Score')\n",
    "plt.xlabel('Last Ten Products')\n",
    "plt.title('Polarity of Last ten Amazon Product Reviews')\n",
    "plt.bar(prod_lastten[\"name\"],prod_lastten['combined_compound'])\n",
    "plt.xticks(rotation=90)\n"
   ]
  },
  {
   "cell_type": "markdown",
   "metadata": {},
   "source": [
    "### Top 10 product names based on number of reviews"
   ]
  },
  {
   "cell_type": "code",
   "execution_count": 239,
   "metadata": {
    "scrolled": true
   },
   "outputs": [],
   "source": [
    "top_10 = pd.DataFrame(df1.groupby('name')['text_title'].count().sort_values(ascending=False))[0:10]"
   ]
  },
  {
   "cell_type": "code",
   "execution_count": 240,
   "metadata": {},
   "outputs": [
    {
     "data": {
      "text/plain": [
       "([0, 1, 2, 3, 4, 5, 6, 7, 8, 9], <a list of 10 Text major ticklabel objects>)"
      ]
     },
     "execution_count": 240,
     "metadata": {},
     "output_type": "execute_result"
    },
    {
     "name": "stderr",
     "output_type": "stream",
     "text": [
      "H:\\Anaconda\\lib\\site-packages\\matplotlib\\backends\\backend_agg.py:214: RuntimeWarning: Glyph 13 missing from current font.\n",
      "  font.set_text(s, 0.0, flags=flags)\n",
      "H:\\Anaconda\\lib\\site-packages\\matplotlib\\backends\\backend_agg.py:183: RuntimeWarning: Glyph 13 missing from current font.\n",
      "  font.set_text(s, 0, flags=flags)\n"
     ]
    },
    {
     "data": {
      "image/png": "[encoded data removed]",
      "text/plain": [
       "<Figure size 1152x576 with 1 Axes>"
      ]
     },
     "metadata": {
      "needs_background": "light"
     },
     "output_type": "display_data"
    }
   ],
   "source": [
    "top_10.reset_index(level=0, inplace=True)\n",
    "\n",
    "plt.figure(figsize=(16,8))\n",
    "plt.ylabel('Review Count')\n",
    "plt.xlabel('Top Ten Products')\n",
    "plt.title('Count of reviews for Top ten Amazon Product')\n",
    "plt.bar(top_10[\"name\"],top_10['text_title'])\n",
    "plt.xticks(rotation=90)\n"
   ]
  },
  {
   "cell_type": "markdown",
   "metadata": {},
   "source": [
    "### Bottom 10 product names based on number of reviews"
   ]
  },
  {
   "cell_type": "code",
   "execution_count": 243,
   "metadata": {
    "scrolled": true
   },
   "outputs": [],
   "source": [
    "last_10 = pd.DataFrame(df1.groupby('name')['text_title'].count().sort_values(ascending=True))[0:10]"
   ]
  },
  {
   "cell_type": "code",
   "execution_count": 244,
   "metadata": {},
   "outputs": [
    {
     "data": {
      "text/plain": [
       "([0, 1, 2, 3, 4, 5, 6, 7, 8, 9], <a list of 10 Text major ticklabel objects>)"
      ]
     },
     "execution_count": 244,
     "metadata": {},
     "output_type": "execute_result"
    },
    {
     "data": {
      "image/png": "[encoded data removed]",
      "text/plain": [
       "<Figure size 1152x576 with 1 Axes>"
      ]
     },
     "metadata": {
      "needs_background": "light"
     },
     "output_type": "display_data"
    }
   ],
   "source": [
    "last_10.reset_index(level=0, inplace=True)\n",
    "\n",
    "plt.figure(figsize=(16,8))\n",
    "plt.ylabel('Review Count')\n",
    "plt.xlabel('Bottom Ten Products')\n",
    "plt.title('Count of reviews for Bottom ten Amazon Product')\n",
    "plt.bar(last_10[\"name\"],last_10['text_title'])\n",
    "plt.xticks(rotation=90)\n"
   ]
  },
  {
   "cell_type": "markdown",
   "metadata": {},
   "source": [
    "#### Plotting a Pie Chart representing the percentage for Review.ratings Column"
   ]
  },
  {
   "cell_type": "code",
   "execution_count": 185,
   "metadata": {},
   "outputs": [
    {
     "data": {
      "text/plain": [
       "<matplotlib.legend.Legend at 0x2dcec668940>"
      ]
     },
     "execution_count": 185,
     "metadata": {},
     "output_type": "execute_result"
    },
    {
     "data": {
      "image/png": "[encoded data removed]",
      "text/plain": [
       "<Figure size 576x576 with 1 Axes>"
      ]
     },
     "metadata": {},
     "output_type": "display_data"
    }
   ],
   "source": [
    "plt.figure(figsize=(8,8))\n",
    "(df1['reviews.rating'].value_counts()).plot(kind='pie', autopct= '%1.2f%%')\n",
    "plt.legend()"
   ]
  },
  {
   "cell_type": "markdown",
   "metadata": {},
   "source": [
    "#### Calculating the ratings count for each Primary Categories "
   ]
  },
  {
   "cell_type": "code",
   "execution_count": 211,
   "metadata": {
    "scrolled": true
   },
   "outputs": [
    {
     "name": "stdout",
     "output_type": "stream",
     "text": [
      "<class 'pandas.core.frame.DataFrame'>\n",
      "Int64Index: 67958 entries, 0 to 67957\n",
      "Data columns (total 16 columns):\n",
      " #   Column               Non-Null Count  Dtype              \n",
      "---  ------               --------------  -----              \n",
      " 0   categories           67958 non-null  object             \n",
      " 1   name                 61199 non-null  object             \n",
      " 2   primaryCategories    67958 non-null  object             \n",
      " 3   reviews.date         67929 non-null  datetime64[ns, UTC]\n",
      " 4   reviews.doRecommend  55152 non-null  object             \n",
      " 5   reviews.numHelpful   55246 non-null  float64            \n",
      " 6   reviews.rating       67958 non-null  object             \n",
      " 7   reviews.text         67958 non-null  object             \n",
      " 8   reviews.title        67958 non-null  object             \n",
      " 9   reviews.username     67956 non-null  object             \n",
      " 10  score                67958 non-null  object             \n",
      " 11  Compound_Score       67958 non-null  float64            \n",
      " 12  text_title           67958 non-null  object             \n",
      " 13  combined_scores      67958 non-null  object             \n",
      " 14  combined_compound    67958 non-null  float64            \n",
      " 15  scaled_rating        67958 non-null  float64            \n",
      "dtypes: datetime64[ns, UTC](1), float64(4), object(11)\n",
      "memory usage: 8.8+ MB\n"
     ]
    }
   ],
   "source": [
    "df1['reviews.rating'] = df1['reviews.rating'].astype('object')\n",
    "df1.info()"
   ]
  },
  {
   "cell_type": "code",
   "execution_count": 226,
   "metadata": {},
   "outputs": [
    {
     "data": {
      "text/html": [
       "<div>\n",
       "<style scoped>\n",
       "    .dataframe tbody tr th:only-of-type {\n",
       "        vertical-align: middle;\n",
       "    }\n",
       "\n",
       "    .dataframe tbody tr th {\n",
       "        vertical-align: top;\n",
       "    }\n",
       "\n",
       "    .dataframe thead th {\n",
       "        text-align: right;\n",
       "    }\n",
       "</style>\n",
       "<table border=\"1\" class=\"dataframe\">\n",
       "  <thead>\n",
       "    <tr style=\"text-align: right;\">\n",
       "      <th>primaryCategories</th>\n",
       "      <th>Animals &amp; Pet Supplies</th>\n",
       "      <th>Electronics</th>\n",
       "      <th>Home &amp; Garden</th>\n",
       "      <th>Office Supplies</th>\n",
       "    </tr>\n",
       "    <tr>\n",
       "      <th>reviews.rating</th>\n",
       "      <th></th>\n",
       "      <th></th>\n",
       "      <th></th>\n",
       "      <th></th>\n",
       "    </tr>\n",
       "  </thead>\n",
       "  <tbody>\n",
       "    <tr>\n",
       "      <th>1.0</th>\n",
       "      <td>0</td>\n",
       "      <td>1435</td>\n",
       "      <td>0</td>\n",
       "      <td>3</td>\n",
       "    </tr>\n",
       "    <tr>\n",
       "      <th>2.0</th>\n",
       "      <td>0</td>\n",
       "      <td>1065</td>\n",
       "      <td>0</td>\n",
       "      <td>7</td>\n",
       "    </tr>\n",
       "    <tr>\n",
       "      <th>3.0</th>\n",
       "      <td>1</td>\n",
       "      <td>2865</td>\n",
       "      <td>0</td>\n",
       "      <td>36</td>\n",
       "    </tr>\n",
       "    <tr>\n",
       "      <th>4.0</th>\n",
       "      <td>1</td>\n",
       "      <td>15227</td>\n",
       "      <td>1</td>\n",
       "      <td>168</td>\n",
       "    </tr>\n",
       "    <tr>\n",
       "      <th>5.0</th>\n",
       "      <td>4</td>\n",
       "      <td>46698</td>\n",
       "      <td>1</td>\n",
       "      <td>446</td>\n",
       "    </tr>\n",
       "  </tbody>\n",
       "</table>\n",
       "</div>"
      ],
      "text/plain": [
       "primaryCategories  Animals & Pet Supplies  Electronics  Home & Garden  \\\n",
       "reviews.rating                                                          \n",
       "1.0                0                       1435         0               \n",
       "2.0                0                       1065         0               \n",
       "3.0                1                       2865         0               \n",
       "4.0                1                       15227        1               \n",
       "5.0                4                       46698        1               \n",
       "\n",
       "primaryCategories  Office Supplies  \n",
       "reviews.rating                      \n",
       "1.0                3                \n",
       "2.0                7                \n",
       "3.0                36               \n",
       "4.0                168              \n",
       "5.0                446              "
      ]
     },
     "execution_count": 226,
     "metadata": {},
     "output_type": "execute_result"
    }
   ],
   "source": [
    "df_pricat_rating = pd.crosstab(df1['reviews.rating'],df1['primaryCategories'])\n",
    "df_pricat_rating"
   ]
  },
  {
   "cell_type": "markdown",
   "metadata": {},
   "source": [
    "#### Plotting the Bar Graph for ratings of Electronics & office supplies categories, b'cos maximum count for each rating is only for these two categories."
   ]
  },
  {
   "cell_type": "code",
   "execution_count": 231,
   "metadata": {},
   "outputs": [
    {
     "data": {
      "image/png": "[encoded data removed]",
      "text/plain": [
       "<Figure size 432x288 with 1 Axes>"
      ]
     },
     "metadata": {
      "needs_background": "light"
     },
     "output_type": "display_data"
    }
   ],
   "source": [
    "df_pricat_rating['Electronics'].plot(kind=\"bar\") \n",
    "plt.show()"
   ]
  },
  {
   "cell_type": "code",
   "execution_count": 230,
   "metadata": {},
   "outputs": [
    {
     "data": {
      "image/png": "[encoded data removed]",
      "text/plain": [
       "<Figure size 432x288 with 1 Axes>"
      ]
     },
     "metadata": {
      "needs_background": "light"
     },
     "output_type": "display_data"
    }
   ],
   "source": [
    "df_pricat_rating['Office Supplies'].plot(kind=\"bar\") \n",
    "plt.show()"
   ]
  },
  {
   "cell_type": "code",
   "execution_count": 188,
   "metadata": {
    "collapsed": true
   },
   "outputs": [
    {
     "ename": "AttributeError",
     "evalue": "Can only use .str accessor with string values!",
     "output_type": "error",
     "traceback": [
      "\u001b[1;31m---------------------------------------------------------------------------\u001b[0m",
      "\u001b[1;31mAttributeError\u001b[0m                            Traceback (most recent call last)",
      "\u001b[1;32m<ipython-input-188-e4ca0b9fea34>\u001b[0m in \u001b[0;36m<module>\u001b[1;34m\u001b[0m\n\u001b[1;32m----> 1\u001b[1;33m \u001b[0mdf1\u001b[0m\u001b[1;33m[\u001b[0m\u001b[1;34m'reviews.date'\u001b[0m\u001b[1;33m]\u001b[0m \u001b[1;33m=\u001b[0m \u001b[0mdf1\u001b[0m\u001b[1;33m[\u001b[0m\u001b[1;34m'reviews.date'\u001b[0m\u001b[1;33m]\u001b[0m\u001b[1;33m.\u001b[0m\u001b[0mstr\u001b[0m\u001b[1;33m.\u001b[0m\u001b[0msplit\u001b[0m\u001b[1;33m(\u001b[0m\u001b[1;34m','\u001b[0m\u001b[1;33m,\u001b[0m\u001b[0mexpand\u001b[0m \u001b[1;33m=\u001b[0m \u001b[1;32mTrue\u001b[0m\u001b[1;33m)\u001b[0m\u001b[1;33m.\u001b[0m\u001b[0mapply\u001b[0m\u001b[1;33m(\u001b[0m\u001b[1;32mlambda\u001b[0m \u001b[0mx\u001b[0m\u001b[1;33m:\u001b[0m\u001b[0mx\u001b[0m\u001b[1;33m.\u001b[0m\u001b[0mstr\u001b[0m\u001b[1;33m.\u001b[0m\u001b[0mstrip\u001b[0m\u001b[1;33m(\u001b[0m\u001b[1;33m)\u001b[0m\u001b[1;33m)\u001b[0m\u001b[1;33m\u001b[0m\u001b[1;33m\u001b[0m\u001b[0m\n\u001b[0m\u001b[0;32m      2\u001b[0m \u001b[0mdf1\u001b[0m\u001b[1;33m[\u001b[0m\u001b[1;34m'reviews.date'\u001b[0m\u001b[1;33m]\u001b[0m \u001b[1;33m=\u001b[0m \u001b[0mpd\u001b[0m\u001b[1;33m.\u001b[0m\u001b[0mto_datetime\u001b[0m\u001b[1;33m(\u001b[0m\u001b[0mdf1\u001b[0m\u001b[1;33m[\u001b[0m\u001b[1;34m'reviews.date'\u001b[0m\u001b[1;33m]\u001b[0m\u001b[1;33m,\u001b[0m\u001b[0mdayfirst\u001b[0m\u001b[1;33m=\u001b[0m \u001b[1;32mTrue\u001b[0m\u001b[1;33m)\u001b[0m\u001b[1;33m\u001b[0m\u001b[1;33m\u001b[0m\u001b[0m\n\u001b[0;32m      3\u001b[0m \u001b[0mdf1\u001b[0m\u001b[1;33m.\u001b[0m\u001b[0mhead\u001b[0m\u001b[1;33m(\u001b[0m\u001b[1;36m4\u001b[0m\u001b[1;33m)\u001b[0m\u001b[1;33m\u001b[0m\u001b[1;33m\u001b[0m\u001b[0m\n",
      "\u001b[1;32mH:\\Anaconda\\lib\\site-packages\\pandas\\core\\generic.py\u001b[0m in \u001b[0;36m__getattr__\u001b[1;34m(self, name)\u001b[0m\n\u001b[0;32m   5268\u001b[0m             \u001b[1;32mor\u001b[0m \u001b[0mname\u001b[0m \u001b[1;32min\u001b[0m \u001b[0mself\u001b[0m\u001b[1;33m.\u001b[0m\u001b[0m_accessors\u001b[0m\u001b[1;33m\u001b[0m\u001b[1;33m\u001b[0m\u001b[0m\n\u001b[0;32m   5269\u001b[0m         ):\n\u001b[1;32m-> 5270\u001b[1;33m             \u001b[1;32mreturn\u001b[0m \u001b[0mobject\u001b[0m\u001b[1;33m.\u001b[0m\u001b[0m__getattribute__\u001b[0m\u001b[1;33m(\u001b[0m\u001b[0mself\u001b[0m\u001b[1;33m,\u001b[0m \u001b[0mname\u001b[0m\u001b[1;33m)\u001b[0m\u001b[1;33m\u001b[0m\u001b[1;33m\u001b[0m\u001b[0m\n\u001b[0m\u001b[0;32m   5271\u001b[0m         \u001b[1;32melse\u001b[0m\u001b[1;33m:\u001b[0m\u001b[1;33m\u001b[0m\u001b[1;33m\u001b[0m\u001b[0m\n\u001b[0;32m   5272\u001b[0m             \u001b[1;32mif\u001b[0m \u001b[0mself\u001b[0m\u001b[1;33m.\u001b[0m\u001b[0m_info_axis\u001b[0m\u001b[1;33m.\u001b[0m\u001b[0m_can_hold_identifiers_and_holds_name\u001b[0m\u001b[1;33m(\u001b[0m\u001b[0mname\u001b[0m\u001b[1;33m)\u001b[0m\u001b[1;33m:\u001b[0m\u001b[1;33m\u001b[0m\u001b[1;33m\u001b[0m\u001b[0m\n",
      "\u001b[1;32mH:\\Anaconda\\lib\\site-packages\\pandas\\core\\accessor.py\u001b[0m in \u001b[0;36m__get__\u001b[1;34m(self, obj, cls)\u001b[0m\n\u001b[0;32m    185\u001b[0m             \u001b[1;31m# we're accessing the attribute of the class, i.e., Dataset.geo\u001b[0m\u001b[1;33m\u001b[0m\u001b[1;33m\u001b[0m\u001b[1;33m\u001b[0m\u001b[0m\n\u001b[0;32m    186\u001b[0m             \u001b[1;32mreturn\u001b[0m \u001b[0mself\u001b[0m\u001b[1;33m.\u001b[0m\u001b[0m_accessor\u001b[0m\u001b[1;33m\u001b[0m\u001b[1;33m\u001b[0m\u001b[0m\n\u001b[1;32m--> 187\u001b[1;33m         \u001b[0maccessor_obj\u001b[0m \u001b[1;33m=\u001b[0m \u001b[0mself\u001b[0m\u001b[1;33m.\u001b[0m\u001b[0m_accessor\u001b[0m\u001b[1;33m(\u001b[0m\u001b[0mobj\u001b[0m\u001b[1;33m)\u001b[0m\u001b[1;33m\u001b[0m\u001b[1;33m\u001b[0m\u001b[0m\n\u001b[0m\u001b[0;32m    188\u001b[0m         \u001b[1;31m# Replace the property with the accessor object. Inspired by:\u001b[0m\u001b[1;33m\u001b[0m\u001b[1;33m\u001b[0m\u001b[1;33m\u001b[0m\u001b[0m\n\u001b[0;32m    189\u001b[0m         \u001b[1;31m# http://www.pydanny.com/cached-property.html\u001b[0m\u001b[1;33m\u001b[0m\u001b[1;33m\u001b[0m\u001b[1;33m\u001b[0m\u001b[0m\n",
      "\u001b[1;32mH:\\Anaconda\\lib\\site-packages\\pandas\\core\\strings.py\u001b[0m in \u001b[0;36m__init__\u001b[1;34m(self, data)\u001b[0m\n\u001b[0;32m   2039\u001b[0m \u001b[1;33m\u001b[0m\u001b[0m\n\u001b[0;32m   2040\u001b[0m     \u001b[1;32mdef\u001b[0m \u001b[0m__init__\u001b[0m\u001b[1;33m(\u001b[0m\u001b[0mself\u001b[0m\u001b[1;33m,\u001b[0m \u001b[0mdata\u001b[0m\u001b[1;33m)\u001b[0m\u001b[1;33m:\u001b[0m\u001b[1;33m\u001b[0m\u001b[1;33m\u001b[0m\u001b[0m\n\u001b[1;32m-> 2041\u001b[1;33m         \u001b[0mself\u001b[0m\u001b[1;33m.\u001b[0m\u001b[0m_inferred_dtype\u001b[0m \u001b[1;33m=\u001b[0m \u001b[0mself\u001b[0m\u001b[1;33m.\u001b[0m\u001b[0m_validate\u001b[0m\u001b[1;33m(\u001b[0m\u001b[0mdata\u001b[0m\u001b[1;33m)\u001b[0m\u001b[1;33m\u001b[0m\u001b[1;33m\u001b[0m\u001b[0m\n\u001b[0m\u001b[0;32m   2042\u001b[0m         \u001b[0mself\u001b[0m\u001b[1;33m.\u001b[0m\u001b[0m_is_categorical\u001b[0m \u001b[1;33m=\u001b[0m \u001b[0mis_categorical_dtype\u001b[0m\u001b[1;33m(\u001b[0m\u001b[0mdata\u001b[0m\u001b[1;33m)\u001b[0m\u001b[1;33m\u001b[0m\u001b[1;33m\u001b[0m\u001b[0m\n\u001b[0;32m   2043\u001b[0m         \u001b[0mself\u001b[0m\u001b[1;33m.\u001b[0m\u001b[0m_is_string\u001b[0m \u001b[1;33m=\u001b[0m \u001b[0mdata\u001b[0m\u001b[1;33m.\u001b[0m\u001b[0mdtype\u001b[0m\u001b[1;33m.\u001b[0m\u001b[0mname\u001b[0m \u001b[1;33m==\u001b[0m \u001b[1;34m\"string\"\u001b[0m\u001b[1;33m\u001b[0m\u001b[1;33m\u001b[0m\u001b[0m\n",
      "\u001b[1;32mH:\\Anaconda\\lib\\site-packages\\pandas\\core\\strings.py\u001b[0m in \u001b[0;36m_validate\u001b[1;34m(data)\u001b[0m\n\u001b[0;32m   2096\u001b[0m \u001b[1;33m\u001b[0m\u001b[0m\n\u001b[0;32m   2097\u001b[0m         \u001b[1;32mif\u001b[0m \u001b[0minferred_dtype\u001b[0m \u001b[1;32mnot\u001b[0m \u001b[1;32min\u001b[0m \u001b[0mallowed_types\u001b[0m\u001b[1;33m:\u001b[0m\u001b[1;33m\u001b[0m\u001b[1;33m\u001b[0m\u001b[0m\n\u001b[1;32m-> 2098\u001b[1;33m             \u001b[1;32mraise\u001b[0m \u001b[0mAttributeError\u001b[0m\u001b[1;33m(\u001b[0m\u001b[1;34m\"Can only use .str accessor with string values!\"\u001b[0m\u001b[1;33m)\u001b[0m\u001b[1;33m\u001b[0m\u001b[1;33m\u001b[0m\u001b[0m\n\u001b[0m\u001b[0;32m   2099\u001b[0m         \u001b[1;32mreturn\u001b[0m \u001b[0minferred_dtype\u001b[0m\u001b[1;33m\u001b[0m\u001b[1;33m\u001b[0m\u001b[0m\n\u001b[0;32m   2100\u001b[0m \u001b[1;33m\u001b[0m\u001b[0m\n",
      "\u001b[1;31mAttributeError\u001b[0m: Can only use .str accessor with string values!"
     ]
    }
   ],
   "source": [
    "#### Converting the review.date feature's datatype to datetime format\n",
    "df1['reviews.date'] = df1['reviews.date'].str.split(',',expand = True).apply(lambda x:x.str.strip())\n",
    "df1['reviews.date'] = pd.to_datetime(df1['reviews.date'],dayfirst= True)   "
   ]
  },
  {
   "cell_type": "markdown",
   "metadata": {},
   "source": [
    "### Violin plot for scaled rating and combined_compound to get an idea on anomalies"
   ]
  },
  {
   "cell_type": "code",
   "execution_count": 52,
   "metadata": {},
   "outputs": [
    {
     "data": {
      "text/plain": [
       "<matplotlib.collections.LineCollection at 0x1f6bf3cf790>"
      ]
     },
     "execution_count": 52,
     "metadata": {},
     "output_type": "execute_result"
    },
    {
     "data": {
      "image/png": "[encoded data removed]",
      "text/plain": [
       "<Figure size 432x288 with 1 Axes>"
      ]
     },
     "metadata": {
      "needs_background": "light"
     },
     "output_type": "display_data"
    }
   ],
   "source": [
    "sns.violinplot(df1['reviews.rating'],df1['combined_compound'])\n",
    "plt.hlines(0.6,3.6,4.4)\n",
    "plt.hlines(1,3.6,4.4)\n",
    "\n",
    "plt.hlines(0.6,2.65,3.3)\n",
    "plt.hlines(0.2,2.65,3.3)\n",
    "\n",
    "plt.hlines(0.2,1.65,2.3)\n",
    "plt.hlines(-0.2,1.65,2.3)\n",
    "\n",
    "plt.hlines(-0.6,0.65,1.34)\n",
    "plt.hlines(-0.2,0.65,1.34)\n",
    "\n",
    "plt.hlines(-1,-0.3,0.4)\n",
    "plt.hlines(-0.6,-0.3,0.4)"
   ]
  },
  {
   "cell_type": "code",
   "execution_count": 35,
   "metadata": {},
   "outputs": [
    {
     "data": {
      "text/plain": [
       "<matplotlib.axes._subplots.AxesSubplot at 0x18e3307c1f0>"
      ]
     },
     "execution_count": 35,
     "metadata": {},
     "output_type": "execute_result"
    },
    {
     "data": {
      "image/png": "[encoded data removed]",
      "text/plain": [
       "<Figure size 432x288 with 1 Axes>"
      ]
     },
     "metadata": {
      "needs_background": "light"
     },
     "output_type": "display_data"
    }
   ],
   "source": [
    "sns.distplot(df1.loc[df1['reviews.rating']==3][['combined_compound']])"
   ]
  },
  {
   "cell_type": "code",
   "execution_count": 13,
   "metadata": {},
   "outputs": [],
   "source": [
    "import matplotlib.pyplot as plt"
   ]
  },
  {
   "cell_type": "code",
   "execution_count": 33,
   "metadata": {},
   "outputs": [
    {
     "data": {
      "text/plain": [
       "(array([[0., 0., 0., ..., 0., 1., 0.],\n",
       "        [0., 0., 0., ..., 1., 0., 0.],\n",
       "        [0., 1., 0., ..., 0., 0., 0.],\n",
       "        ...,\n",
       "        [0., 0., 0., ..., 0., 0., 0.],\n",
       "        [0., 0., 0., ..., 0., 0., 0.],\n",
       "        [0., 0., 0., ..., 0., 1., 0.]]),\n",
       " array([-0.9825 , -0.78511, -0.58772, -0.39033, -0.19294,  0.00445,\n",
       "         0.20184,  0.39923,  0.59662,  0.79401,  0.9914 ]),\n",
       " <a list of 1438 Lists of Patches objects>)"
      ]
     },
     "execution_count": 33,
     "metadata": {},
     "output_type": "execute_result"
    },
    {
     "data": {
      "image/png": "[encoded data removed]",
      "text/plain": [
       "<Figure size 432x288 with 1 Axes>"
      ]
     },
     "metadata": {
      "needs_background": "light"
     },
     "output_type": "display_data"
    }
   ],
   "source": [
    "plt.hist((df1.loc[df1['reviews.rating']==1][['combined_compound']]))"
   ]
  },
  {
   "cell_type": "markdown",
   "metadata": {},
   "source": [
    "# Checking VADER algo's reliability"
   ]
  },
  {
   "cell_type": "code",
   "execution_count": 3,
   "metadata": {},
   "outputs": [
    {
     "name": "stderr",
     "output_type": "stream",
     "text": [
      "H:\\Anaconda\\lib\\site-packages\\IPython\\core\\interactiveshell.py:3071: DtypeWarning: Columns (2) have mixed types.Specify dtype option on import or set low_memory=False.\n",
      "  has_raised = await self.run_ast_nodes(code_ast.body, cell_name,\n"
     ]
    }
   ],
   "source": [
    "df = pd.read_csv('Amazon_Basic_EDA_02.csv', index_col=0)"
   ]
  },
  {
   "cell_type": "code",
   "execution_count": null,
   "metadata": {},
   "outputs": [],
   "source": []
  }
 ],
 "metadata": {
  "kernelspec": {
   "display_name": "Python 3",
   "language": "python",
   "name": "python3"
  },
  "language_info": {
   "codemirror_mode": {
    "name": "ipython",
    "version": 3
   },
   "file_extension": ".py",
   "mimetype": "text/x-python",
   "name": "python",
   "nbconvert_exporter": "python",
   "pygments_lexer": "ipython3",
   "version": "3.7.4"
  }
 },
 "nbformat": 4,
 "nbformat_minor": 4
}
